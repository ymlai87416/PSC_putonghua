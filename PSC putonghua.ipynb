{
 "cells": [
  {
   "cell_type": "code",
   "execution_count": 2,
   "metadata": {},
   "outputs": [],
   "source": [
    "import pandas as pd\n",
    "from pandas import Series, DataFrame\n",
    "import numpy as np\n",
    "\n",
    "from bs4 import BeautifulSoup\n",
    "from bs4 import BeautifulSoup\n",
    "import json\n",
    "import csv\n",
    "import requests\n",
    "import lxml\n",
    "import re"
   ]
  },
  {
   "cell_type": "code",
   "execution_count": 3,
   "metadata": {},
   "outputs": [],
   "source": [
    "def pairwise(iterable):\n",
    "    \"s -> (s0, s1), (s2, s3), (s4, s5), ...\"\n",
    "    a = iter(iterable)\n",
    "    return zip(a, a)\n"
   ]
  },
  {
   "cell_type": "markdown",
   "metadata": {},
   "source": [
    "## 下載普通适水平測試字表\n"
   ]
  },
  {
   "cell_type": "code",
   "execution_count": null,
   "metadata": {
    "collapsed": true
   },
   "outputs": [],
   "source": [
    "def word_one_url_generator():\n",
    "    template = \"http://www.pthxx.com/b_audio/03_zici_1/%02d.html\"\n",
    "    max_pg =66\n",
    "    for i in range(1, max_pg+1):\n",
    "        yield template % i\n",
    "    \n",
    "def word_two_url_generator():\n",
    "    template = \"http://www.pthxx.com/b_audio/04_zici_2/%03d.html\"\n",
    "    max_pg =105\n",
    "    for i in range(1, max_pg+1):\n",
    "        yield template % i"
   ]
  },
  {
   "cell_type": "code",
   "execution_count": null,
   "metadata": {
    "collapsed": true
   },
   "outputs": [],
   "source": [
    "def extract_word_list(url):\n",
    "    result = requests.get(url)\n",
    "    c= result.content\n",
    "    soup = BeautifulSoup((c), \"lxml\")\n",
    "\n",
    "    soup.prettify()\n",
    "\n",
    "    summary = soup.find_all('div',attrs = {'id':re.compile(r'main[0-9]')})\n",
    "    tables = []\n",
    "    for div in summary:\n",
    "        tables_ = div.find_all('table')\n",
    "        tables.extend(tables_)\n",
    "\n",
    "    data =[]\n",
    "\n",
    "    for table in tables:\n",
    "        #print('debug', table)\n",
    "        rows = table.findAll('tr')\n",
    "        for row in table.findAll('tr')[0:]:\n",
    "            for word,pinyin in pairwise(row.findAll('td')[1:]):\n",
    "                data.append((word.text.replace(' ',''), pinyin.text.replace(' ','')))\n",
    "\n",
    "    return data"
   ]
  },
  {
   "cell_type": "code",
   "execution_count": null,
   "metadata": {
    "collapsed": true,
    "scrolled": true
   },
   "outputs": [],
   "source": [
    "word_one_gen = word_one_url_generator()\n",
    "\n",
    "all_data = []\n",
    "for url in word_one_gen:\n",
    "    page_data = extract_word_list(url)\n",
    "    print('debug', url, 'vocab: ', len(page_data))\n",
    "    all_data.extend(page_data)\n",
    "    \n",
    "print(all_data)"
   ]
  },
  {
   "cell_type": "code",
   "execution_count": null,
   "metadata": {
    "collapsed": true
   },
   "outputs": [],
   "source": [
    "with open('./word_one.txt', 'w', newline='', encoding='UTF-8') as myfile:\n",
    "    wr = csv.writer(myfile, quoting=csv.QUOTE_ALL)\n",
    "    for pair in all_data:\n",
    "        wr.writerow(pair)"
   ]
  },
  {
   "cell_type": "code",
   "execution_count": null,
   "metadata": {
    "collapsed": true
   },
   "outputs": [],
   "source": [
    "word_two_gen = word_two_url_generator()\n",
    "\n",
    "all_data = []\n",
    "for url in word_two_gen:\n",
    "    page_data = extract_word_list(url)\n",
    "    print('debug', url, 'vocab: ', len(page_data))\n",
    "    all_data.extend(page_data)\n",
    "    \n",
    "print(all_data)"
   ]
  },
  {
   "cell_type": "code",
   "execution_count": null,
   "metadata": {
    "collapsed": true
   },
   "outputs": [],
   "source": [
    "page_data = extract_word_list(url)\n",
    "print('debug', url, 'vocab: ', len(page_data))\n",
    "all_data.extend(page_data)"
   ]
  },
  {
   "cell_type": "code",
   "execution_count": null,
   "metadata": {
    "collapsed": true
   },
   "outputs": [],
   "source": [
    "for url in word_two_gen:\n",
    "    page_data = extract_word_list(url)\n",
    "    print('debug', url, 'vocab: ', len(page_data))\n",
    "    all_data.extend(page_data)"
   ]
  },
  {
   "cell_type": "code",
   "execution_count": null,
   "metadata": {
    "collapsed": true
   },
   "outputs": [],
   "source": [
    "with open('./word_two.txt', 'w', newline='', encoding='UTF-8') as myfile:\n",
    "    wr = csv.writer(myfile, quoting=csv.QUOTE_ALL)\n",
    "    for pair in all_data:\n",
    "        wr.writerow(pair)"
   ]
  },
  {
   "cell_type": "markdown",
   "metadata": {},
   "source": [
    "## 讀取字表與文章"
   ]
  },
  {
   "cell_type": "code",
   "execution_count": 4,
   "metadata": {},
   "outputs": [],
   "source": [
    "import pandas as pd\n",
    "\n",
    "# Read the CSV into a pandas data frame (df)\n",
    "#   With a df you can do many things\n",
    "#   most important: visualize data with Seaborn\n",
    "df = pd.read_csv('./word_one.txt', delimiter=',')\n",
    "\n",
    "# Or export it in many ways, e.g. a list of tuples\n",
    "word_1_list = [tuple(x) for x in df.values]"
   ]
  },
  {
   "cell_type": "code",
   "execution_count": 5,
   "metadata": {},
   "outputs": [],
   "source": [
    "df = pd.read_csv('./word_two.txt', delimiter=',')\n",
    "\n",
    "# Or export it in many ways, e.g. a list of tuples\n",
    "word_2_list = [tuple(x) for x in df.values]"
   ]
  },
  {
   "cell_type": "code",
   "execution_count": 93,
   "metadata": {},
   "outputs": [],
   "source": [
    "passages = []\n",
    "\n",
    "for i in range(1,61):\n",
    "    with open('./passage/%03d.txt' % i, encoding='UTF-8') as f:\n",
    "        content = f.readlines()\n",
    "    content = [x.strip() for x in content] \n",
    "    ann_list = []\n",
    "    for word,pinyin in pairwise(content):\n",
    "        ann_list.append((word, pinyin))\n",
    "    passages.append(ann_list)"
   ]
  },
  {
   "cell_type": "markdown",
   "metadata": {},
   "source": [
    "## 提取表1,2字的拼音"
   ]
  },
  {
   "cell_type": "code",
   "execution_count": 7,
   "metadata": {},
   "outputs": [],
   "source": [
    "a_list = ['a', 'ā', 'á', 'ǎ', 'à']\n",
    "o_list = ['o','ō', 'ó', 'ǒ', 'ò']\n",
    "e_list = ['e', 'ē', 'é', 'ě', 'è']\n",
    "i_list = ['i', 'ī', 'í', 'ǐ', 'ì']\n",
    "u_list = ['u', 'ū', 'ú', 'ǔ', 'ù']\n",
    "yu_list = ['ü', 'ǖ', 'ǘ', 'ǚ', 'ǜ']\n",
    "\n",
    "consonant = ['b', 'p', 'm', 'f', 'd', 't', 'n', 'l', 'g', 'k', 'h', 'j', 'q', 'x', 'zh', 'ch', 'sh', 'r', 'z', 'c', 's', 'y', 'w']\n",
    "sep = '’'\n",
    "vowel = ['a', 'o', 'e', 'ai', 'ei', 'ao', 'ou', 'an', 'en', 'ang', 'eng', 'ong', 'i', 'ia', 'ie', 'iao', 'iou',\n",
    "         'ian', 'in', 'iang', 'ing', 'iong', 'u', 'ua', 'uo', 'uai', 'uei', 'uan', 'uen', 'uang', 'ueng', \n",
    "         'ü', 'üe', 'üan', 'ün',\n",
    "         'ue',\n",
    "         'iu', 'ui', 'un' \n",
    "        ]"
   ]
  },
  {
   "cell_type": "code",
   "execution_count": 8,
   "metadata": {},
   "outputs": [],
   "source": [
    "def remove_tone(alpha):\n",
    "    if alpha in a_list:\n",
    "        return 'a'\n",
    "    elif alpha in o_list:\n",
    "        return 'o'\n",
    "    elif alpha in e_list:\n",
    "        return 'e'\n",
    "    elif alpha in i_list:\n",
    "        return 'i'\n",
    "    elif alpha in u_list:\n",
    "        return 'u'\n",
    "    elif alpha in yu_list:\n",
    "        return 'ü'\n",
    "    else:\n",
    "        return alpha\n",
    "\n",
    "def word_sep(word, pinyin):\n",
    "    pinyin_t = ''.join([remove_tone(p) for p in pinyin])\n",
    "    pinyin_len = len(pinyin)\n",
    "    #print('debug', pinyin)\n",
    "    result = []\n",
    "    check_cnt= 0\n",
    "    for w in word:\n",
    "        const_p = \"\"\n",
    "        vowel_p = \"\"\n",
    "        \n",
    "        if pinyin_t.startswith(sep) or pinyin_t.startswith(\"•\") or pinyin_t.startswith(\" \"):\n",
    "            pinyin_t = pinyin_t[1:]\n",
    "            pinyin = pinyin[1:]\n",
    "            check_cnt = check_cnt + 1\n",
    "            \n",
    "        for c in consonant:\n",
    "            if(pinyin_t.startswith(c)):\n",
    "                if(len(const_p) < len(c)):\n",
    "                    const_p = c\n",
    "                    \n",
    "        const_p = pinyin[:len(const_p)]\n",
    "        pinyin_t = pinyin_t[len(const_p):]\n",
    "        pinyin = pinyin[len(const_p):]\n",
    "        \n",
    "        for v in vowel:\n",
    "            if(pinyin_t.startswith(v)):\n",
    "                #print('debugh xx', v, pinyin_t)\n",
    "                if(len(vowel_p) < len(v)):\n",
    "                    vowel_p = v\n",
    "                    \n",
    "        if len(const_p) == 0 and vowel_p == \"e\":\n",
    "            if(pinyin_t.startswith(\"er\")):\n",
    "                vowel_p = pinyin[0:2]\n",
    "        \n",
    "        vowel_p = pinyin[:len(vowel_p)]\n",
    "        pinyin_t = pinyin_t[len(vowel_p):]\n",
    "        pinyin = pinyin[len(vowel_p):]\n",
    "        #print(\"debug V\", vowel_p, pinyin)\n",
    "        result.append((w, const_p+vowel_p))\n",
    "        check_cnt = check_cnt + len(const_p) + len(vowel_p)\n",
    "    \n",
    "    if check_cnt != pinyin_len:\n",
    "        raise Exception(\"not all pinyin is used. %d %d\" % (check_cnt, pinyin_len) + str(result) )\n",
    "        \n",
    "    return result\n",
    "    \n",
    "def character_tone(pinyin):\n",
    "    '''\n",
    "    pass back 1, 2, 3, 4 or 0\n",
    "    '''\n",
    "    for c in pinyin:\n",
    "        a_idx = a_list.index(c) if c in a_list else -1\n",
    "        o_idx = o_list.index(c) if c in o_list else -1\n",
    "        e_idx = e_list.index(c) if c in e_list else -1\n",
    "        i_idx = i_list.index(c) if c in i_list else -1\n",
    "        u_idx = u_list.index(c) if c in u_list else -1\n",
    "        yu_idx = yu_list.index(c) if c in yu_list else -1\n",
    "        \n",
    "        if(a_idx > 0):\n",
    "            return a_idx\n",
    "        elif(o_idx > 0):\n",
    "            return o_idx\n",
    "        elif(e_idx > 0):\n",
    "            return e_idx\n",
    "        elif(i_idx > 0):\n",
    "            return i_idx\n",
    "        elif(u_idx > 0):\n",
    "            return u_idx\n",
    "        elif(yu_idx > 0):\n",
    "            return yu_idx\n",
    "        \n",
    "    return 0\n",
    "\n",
    "def create_character_pinyin_dict(word_list):\n",
    "    '''\n",
    "    dictionary lookup by word, then each sound have a list of words.\n",
    "    '''\n",
    "    char_dict = {}\n",
    "    for word in word_list:\n",
    "        for char, pinyin in word:\n",
    "            if not char in char_dict:\n",
    "                pinyin_dict = {}\n",
    "                pinyin_dict[pinyin] = [word]\n",
    "                char_dict[char] = pinyin_dict\n",
    "            else:\n",
    "                pinyin_dict = char_dict[char]\n",
    "                if pinyin in pinyin_dict:\n",
    "                    pinyin_dict[pinyin].append(word)\n",
    "                else:\n",
    "                    pinyin_dict[pinyin] = [word]\n",
    "                    \n",
    "    return char_dict\n",
    "\n",
    "def create_pinyin_character_dict(word_list):\n",
    "    '''\n",
    "    dictionary lookup by pinyin, then each character have a list of words.\n",
    "    '''\n",
    "    pinyin_dict = {}\n",
    "    for word in word_list:\n",
    "        for char, pinyin in word:\n",
    "            if not pinyin in pinyin_dict:\n",
    "                char_dict = {}\n",
    "                char_dict[char] = [word]\n",
    "                pinyin_dict[pinyin] = char_dict\n",
    "            else:\n",
    "                char_dict = pinyin_dict[pinyin]\n",
    "                if char in char_dict:\n",
    "                    char_dict[char].append(word)\n",
    "                else:\n",
    "                    char_dict[char] = [word]\n",
    "                    \n",
    "    return pinyin_dict"
   ]
  },
  {
   "cell_type": "code",
   "execution_count": 9,
   "metadata": {},
   "outputs": [],
   "source": [
    "word_1_list_sep = []\n",
    "\n",
    "for word,pinyin in word_1_list:\n",
    "    try:\n",
    "        test=word_sep(word,pinyin) \n",
    "        \n",
    "        if len(test) == 0:\n",
    "            print(\"Error in processing: \", word,pinyin)\n",
    "        else:\n",
    "            word_1_list_sep.append(test)\n",
    "    except Exception as e:\n",
    "        print(\"Error in processing: \", word,pinyin, e)"
   ]
  },
  {
   "cell_type": "code",
   "execution_count": 10,
   "metadata": {},
   "outputs": [],
   "source": [
    "word_2_list_sep = []\n",
    "\n",
    "for word,pinyin in word_2_list:\n",
    "    try:\n",
    "        test=word_sep(word,pinyin) \n",
    "        if len(test) == 0:\n",
    "            print(\"Error in processing: \", word,pinyin)\n",
    "        else:\n",
    "            word_2_list_sep.append(test)\n",
    "    except Exception as e:\n",
    "        print(\"Error in processing: \", word,pinyin, e)"
   ]
  },
  {
   "cell_type": "code",
   "execution_count": 11,
   "metadata": {},
   "outputs": [
    {
     "name": "stdout",
     "output_type": "stream",
     "text": [
      "[[('阿', 'ā'), ('姨', 'yí')], [('挨', 'āi')], [('挨', 'ái')], [('矮', 'ǎi')], [('愛', 'ài')], [('愛', 'ài'), ('國', 'guó')], [('愛', 'ài'), ('好', 'hào')], [('愛', 'ài'), ('護', 'hù')], [('愛', 'ài'), ('情', 'qíng')], [('愛', 'ài'), ('人', 'ren')]]\n"
     ]
    }
   ],
   "source": [
    "total_sep_list = word_1_list_sep + word_2_list_sep\n",
    "print(total_sep_list[0:10])"
   ]
  },
  {
   "cell_type": "code",
   "execution_count": 12,
   "metadata": {},
   "outputs": [],
   "source": [
    "char_dict = create_character_pinyin_dict(total_sep_list)\n",
    "pinyin_dict = create_pinyin_character_dict(total_sep_list)"
   ]
  },
  {
   "cell_type": "code",
   "execution_count": 13,
   "metadata": {},
   "outputs": [
    {
     "data": {
      "text/plain": [
       "{'nián': [[('黏', 'nián')]]}"
      ]
     },
     "execution_count": 13,
     "metadata": {},
     "output_type": "execute_result"
    }
   ],
   "source": [
    "char_dict['黏']"
   ]
  },
  {
   "cell_type": "markdown",
   "metadata": {},
   "source": [
    "### 多音字"
   ]
  },
  {
   "cell_type": "code",
   "execution_count": 14,
   "metadata": {
    "scrolled": true
   },
   "outputs": [
    {
     "name": "stdout",
     "output_type": "stream",
     "text": [
      "阿 : ['ā', 'ē']\n",
      "挨 : ['āi', 'ái']\n",
      "好 : ['hào', 'hǎo']\n",
      "情 : ['qíng', 'qing']\n",
      "人 : ['ren', 'rén']\n",
      "靜 : ['jìng', 'jing']\n",
      "心 : ['xīn', 'xin']\n",
      "置 : ['zhì', 'zhi']\n",
      "中 : ['zhōng', 'zhòng']\n",
      "會 : ['huì', 'kuài']\n",
      "巴 : ['bā', 'ba']\n",
      "扒 : ['bā', 'pá']\n",
      "把 : ['bǎ', 'bà']\n",
      "兒 : ['r', 'ér', 'er']\n",
      "白 : ['bái', 'bai']\n",
      "色 : ['sè', 'shǎi']\n",
      "動 : ['dòng', 'dong']\n",
      "家 : ['jiā', 'jia']\n",
      "公 : ['gōng', 'gong']\n",
      "事 : ['shì', 'shi']\n",
      "扮 : ['bàn', 'ban']\n",
      "樣 : ['yàng', 'yang']\n",
      "乾 : ['gàn', 'gān', 'qián']\n",
      "子 : ['zǐ', 'zi']\n",
      "炮 : ['bāo', 'pào', 'páo']\n",
      "薄 : ['báo', 'bó', 'bò']\n",
      "和 : ['hé', 'hè', 'hú', 'huó', 'huò', 'huo']\n",
      "石 : ['shí', 'dàn']\n",
      "道 : ['dào', 'dao']\n",
      "露 : ['lù', 'lòu']\n",
      "發 : ['fā', 'fà', 'fa']\n",
      "炸 : ['zhà', 'zhá']\n",
      "背 : ['bēi', 'bèi']\n",
      "方 : ['fāng', 'fang']\n",
      "奔 : ['bēn', 'bèn']\n",
      "性 : ['xìng', 'xing']\n",
      "重 : ['zhòng', 'zhóng', 'chóng']\n",
      "要 : ['yào', 'yāo']\n",
      "更 : ['gēng', 'gèng']\n",
      "量 : ['liàng', 'liáng', 'liang']\n",
      "便 : ['biàn', 'pián']\n",
      "別 : ['bié', 'biè']\n",
      "達 : ['dá', 'da']\n",
      "餅 : ['bǐng', 'bing']\n",
      "屏 : ['bǐng', 'píng']\n",
      "長 : ['cháng', 'zhǎng']\n",
      "剝 : ['bō', 'bāo']\n",
      "削 : ['xuē', 'xiāo']\n",
      "種 : ['zhǒng', 'zhòng']\n",
      "士 : ['shì', 'shi']\n",
      "鬥 : ['dòu', 'dǒu']\n",
      "食 : ['shí', 'shi']\n",
      "曾 : ['céng', 'zēng']\n",
      "當 : ['dāng', 'dàng', 'dang']\n",
      "服 : ['fú', 'fù', 'fu']\n",
      "禁 : ['jīn', 'jìn']\n",
      "快 : ['kuài', 'kuai']\n",
      "行 : ['xíng', 'háng']\n",
      "宜 : ['yí', 'yi']\n",
      "分 : ['fen', 'fèn', 'fēn']\n",
      "落 : ['luò', 'là', 'lào', 'luo']\n",
      "門 : ['mén', 'men']\n",
      "才 : ['cái', 'cai']\n",
      "務 : ['wù', 'wu']\n",
      "彩 : ['cǎi', 'cai']\n",
      "參 : ['cān', 'shēn']\n",
      "觀 : ['guān', 'guàn']\n",
      "數 : ['shù', 'shǔ', 'shuò', 'shu']\n",
      "與 : ['yù', 'yǔ']\n",
      "蠅 : ['ying', 'yíng']\n",
      "藏 : ['cáng', 'zàng']\n",
      "叉 : ['chā', 'chǎ']\n",
      "差 : ['chā', 'chà', 'chāi']\n",
      "點 : ['diǎn', 'dian']\n",
      "生 : ['shēng', 'sheng']\n",
      "物 : ['wù', 'wu']\n",
      "顫 : ['chàn', 'zhàn']\n",
      "處 : ['chù', 'chǔ']\n",
      "度 : ['dù', 'duó']\n",
      "場 : ['cháng', 'chǎng']\n",
      "識 : ['shí', 'shi']\n",
      "朝 : ['cháo', 'zhāo']\n",
      "車 : ['chē', 'jū']\n",
      "間 : ['jiān', 'jiàn']\n",
      "思 : ['sī', 'si']\n",
      "著 : ['zhuó', 'zhù', 'zhāo', 'zháo']\n",
      "稱 : ['chèn', 'chēng']\n",
      "號 : ['hào', 'háo', 'hao']\n",
      "呼 : ['hu', 'hū']\n",
      "成 : ['chéng', 'cheng']\n",
      "就 : ['jiù', 'jiu']\n",
      "熟 : ['shú', 'shóu']\n",
      "為 : ['wéi', 'wèi', 'wei']\n",
      "實 : ['shí', 'shi']\n",
      "擔 : ['dān', 'dàn', 'dan']\n",
      "盛 : ['chéng', 'shèng']\n",
      "膀 : ['bǎng', 'pāng', 'páng']\n",
      "衝 : ['chōng', 'chòng']\n",
      "仇 : ['chóu', 'qiú']\n",
      "臭 : ['chòu', 'xiù']\n",
      "口 : ['kǒu', 'kou']\n",
      "賣 : ['mài', 'mai']\n",
      "去 : ['qù', 'qu']\n",
      "血 : ['xiě', 'xuè', 'xuě']\n",
      "了 : ['le', 'liǎo']\n",
      "楚 : ['chǔ', 'chu']\n",
      "畜 : ['chù', 'xù']\n",
      "傳 : ['chuán', 'zhuàn']\n",
      "教 : ['jiào', 'jiāo']\n",
      "創 : ['chuāng', 'chuàng']\n",
      "戶 : ['hu', 'hù']\n",
      "幢 : ['chuáng', 'zhuàng']\n",
      "在 : ['zài', 'zai']\n",
      "折 : ['zhé', 'shé', 'zhē']\n",
      "誤 : ['wù', 'wu']\n",
      "答 : ['dā', 'dá']\n",
      "應 : ['ying', 'yìng', 'yīng']\n",
      "打 : ['dá', 'dǎ']\n",
      "倒 : ['dǎo', 'dào']\n",
      "算 : ['suan', 'suàn']\n",
      "聽 : ['ting', 'tīng']\n",
      "下 : ['xià', 'xia']\n",
      "大 : ['dà', 'dài']\n",
      "伙 : ['huǒ', 'huo']\n",
      "姐 : ['jiě', 'jie']\n",
      "陸 : ['lù', 'liù']\n",
      "娘 : ['niáng', 'iang']\n",
      "氣 : ['qì', 'qi']\n",
      "師 : ['shī', 'zhī']\n",
      "王 : ['wang', 'wáng']\n",
      "爺 : ['yé', 'ye']\n",
      "約 : ['yuē', 'yāo']\n",
      "待 : ['dāi', 'dài']\n",
      "夫 : ['fu', 'fū']\n",
      "謝 : ['xiè', 'xie']\n",
      "頭 : ['tóu', 'tou']\n",
      "袋 : ['dài', 'dai']\n",
      "逮 : ['dài', 'dǎi']\n",
      "負 : ['fù', 'fu']\n",
      "任 : ['rèn', 'rén']\n",
      "單 : ['dān', 'shàn']\n",
      "調 : ['diào', 'tiáo', 'tiào']\n",
      "彈 : ['dàn', 'tán', 'tan']\n",
      "得 : ['dé', 'děi', 'de']\n",
      "意 : ['yì', 'yi']\n",
      "泡 : ['pào', 'pāo']\n",
      "候 : ['hòu', 'hou']\n",
      "的 : ['dí', 'dì', 'de']\n",
      "殼 : ['qiào', 'ké']\n",
      "勢 : ['shì', 'shi']\n",
      "主 : ['zhǔ', 'zhu']\n",
      "弟 : ['dì', 'di']\n",
      "兄 : ['xiong', 'xiōng']\n",
      "荷 : ['hè', 'hé']\n",
      "話 : ['huà', 'hua']\n",
      "丁 : ['dīng', 'ding']\n",
      "釘 : ['dìng', 'dīng']\n",
      "西 : ['xī', 'xi']\n",
      "手 : ['shǒu', 'shou']\n",
      "都 : ['dōu', 'dū']\n",
      "腐 : ['fu', 'fǔ']\n",
      "占 : ['zhàn', 'zhān']\n",
      "肚 : ['dǔ', 'dù']\n",
      "正 : ['zhèng', 'zhēng']\n",
      "伍 : ['wu', 'wǔ']\n",
      "付 : ['fu', 'fù']\n",
      "少 : ['shǎo', 'shào']\n",
      "朵 : ['duǒ', 'duo']\n",
      "惡 : ['è', 'wù']\n",
      "女 : ['nǚ', 'nü']\n",
      "覺 : ['jué', 'jiào']\n",
      "令 : ['lìng', 'lǐng']\n",
      "煩 : ['fán', 'fan']\n",
      "防 : ['fáng', 'fang']\n",
      "問 : ['wèn', 'wen']\n",
      "解 : ['jiě', 'jiè']\n",
      "散 : ['sàn', 'sǎn']\n",
      "縫 : ['féng', 'fèng', 'feng']\n",
      "父 : ['fù', 'fu']\n",
      "親 : ['qīn', 'qìng']\n",
      "辟 : ['bì', 'pì']\n",
      "予 : ['yǔ', 'yú']\n",
      "率 : ['lǜ', 'shuài']\n",
      "凈 : ['jing', 'jìng']\n",
      "桿 : ['gān', 'gǎn']\n",
      "幹 : ['gàn', 'gān']\n",
      "琴 : ['qín', 'qin']\n",
      "空 : ['kōng', 'kòng']\n",
      "尚 : ['shàng', 'shang']\n",
      "校 : ['xiào', 'jiào']\n",
      "興 : ['xìng', 'xīng']\n",
      "漲 : ['zhǎng', 'zhàng']\n",
      "訴 : ['su', 'sù']\n",
      "膊 : ['bo', 'bó']\n",
      "歌 : ['gē', 'ge']\n",
      "曲 : ['qǔ', 'qū']\n",
      "聲 : ['shēng', 'sheng']\n",
      "個 : ['gè', 'ge']\n",
      "給 : ['gěi', 'jǐ', 'gǐ']\n",
      "司 : ['sī', 'si']\n",
      "元 : ['yuán', 'yuan']\n",
      "供 : ['gōng', 'gòng']\n",
      "同 : ['tóng', 'tong']\n",
      "勾 : ['gōu', 'gòu']\n",
      "結 : ['jié', 'jiē', 'jie']\n",
      "通 : ['tōng', 'tòng']\n",
      "計 : ['jì', 'ji']\n",
      "姑 : ['gūn', 'gū', 'gu']\n",
      "股 : ['gǔ', 'gu']\n",
      "故 : ['gù', 'gu']\n",
      "係 : ['xi', 'xì']\n",
      "看 : ['kàn', 'kān']\n",
      "冠 : ['guān', 'guàn']\n",
      "亮 : ['liàng', 'liang']\n",
      "劃 : ['huà', 'huá']\n",
      "矩 : ['ju', 'jǔ']\n",
      "模 : ['mó', 'mú']\n",
      "還 : ['hái', 'huán']\n",
      "罕 : ['hǎn', 'han']\n",
      "字 : ['zì', 'zi']\n",
      "轉 : ['zhuǎn', 'zhuàn']\n",
      "喝 : ['hē', 'hè', 'he']\n",
      "乎 : ['hū', 'hu']\n",
      "核 : ['hé', 'hú']\n",
      "星 : ['xīng', 'xing']\n",
      "橫 : ['héng', 'hèng']\n",
      "哄 : ['hōng', 'hǒng', 'hòng']\n",
      "喚 : ['huàn', 'huan']\n",
      "忽 : ['hū', 'hu']\n",
      "泊 : ['bó', 'bō']\n",
      "糊 : ['hú', 'hu']\n",
      "塗 : ['tu', 'tú']\n",
      "虎 : ['hǔ', 'hu']\n",
      "相 : ['xiāng', 'xiàng']\n",
      "華 : ['huá', 'huà']\n",
      "筒 : ['tǒng', 'tong']\n",
      "疑 : ['yí', 'yi']\n",
      "歡 : ['huān', 'huan']\n",
      "樂 : ['lè', 'yuè']\n",
      "晃 : ['huǎng', 'huàng']\n",
      "混 : ['hún', 'hùn']\n",
      "活 : ['huó', 'huo']\n",
      "潑 : ['po', 'pō']\n",
      "火 : ['huǒ', 'huo']\n",
      "幾 : ['jī', 'jǐ']\n",
      "累 : ['lěi', 'lèi']\n",
      "將 : ['jiāng', 'jiàng']\n",
      "疾 : ['jí', 'ji']\n",
      "濟 : ['jǐ', 'jì']\n",
      "載 : ['zǎi', 'zài']\n",
      "紀 : ['jì', 'jǐ']\n",
      "繫 : ['jì', 'xì']\n",
      "強 : ['qiáng', 'jiàng', 'qiǎng']\n",
      "夾 : ['jiā', 'jiá']\n",
      "屬 : ['shǔ', 'zhǔ']\n",
      "甲 : ['jiǎ', 'jia']\n",
      "假 : ['jiǎ', 'jià']\n",
      "苦 : ['kǔ', 'ku']\n",
      "難 : ['nán', 'nan', 'nàn']\n",
      "降 : ['jiàng', 'xiáng', 'jiáng']\n",
      "嚼 : ['jiáo', 'jué']\n",
      "角 : ['jiǎo', 'jué']\n",
      "堂 : ['táng', 'tang']\n",
      "省 : ['shěng', 'xǐng']\n",
      "牌 : ['pái', 'pai']\n",
      "儘 : ['jǐn', 'jìn']\n",
      "似 : ['sì', 'shì']\n",
      "勁 : ['jìn', 'jìng']\n",
      "精 : ['jīng', 'jing']\n",
      "神 : ['shén', 'shen']\n",
      "頸 : ['jǐng', 'gěng']\n",
      "舅 : ['jiù', 'jiu']\n",
      "圈 : ['quān', 'juàn']\n",
      "捲 : ['juǎn', 'juàn']\n",
      "卷 : ['juàn', 'juǎn']\n",
      "望 : ['wàng', 'wang']\n",
      "卡 : ['kǎ', 'qiǎ']\n",
      "拓 : ['tuò', 'tà']\n",
      "拉 : ['lā', 'lá', 'la']\n",
      "欄 : ['lán', 'lan']\n",
      "婆 : ['po', 'pó']\n",
      "纍 : ['léi', 'lěi']\n",
      "息 : ['xī', 'xi']\n",
      "梁 : ['liáng', 'liang']\n",
      "瞭 : ['liǎo', 'le']\n",
      "靈 : ['líng', 'ling']\n",
      "溜 : ['liū', 'liù']\n",
      "派 : ['pài', 'pai']\n",
      "籠 : ['lóng', 'lǒng', 'long']\n",
      "弄 : ['nòng', 'nong']\n",
      "摟 : ['lōu', 'lǒu']\n",
      "樓 : ['lóu', 'lou']\n",
      "綠 : ['lǜ', 'lù']\n",
      "羅 : ['luó', 'luo']\n",
      "旋 : ['xuán', 'xuàn']\n",
      "抹 : ['mā', 'mǒ', 'mò']\n",
      "麻 : ['má', 'ma']\n",
      "上 : ['shàng', 'shǎng', 'shang']\n",
      "貓 : ['māo', 'máo']\n",
      "毛 : ['máo', 'mao']\n",
      "沒 : ['méi', 'mò']\n",
      "悶 : ['mèn', 'mēn']\n",
      "蒙 : ['méng', 'měng']\n",
      "切 : ['qiè', 'qiē']\n",
      "索 : ['suǒ', 'suo']\n",
      "磨 : ['mó', 'mò', 'mo']\n",
      "奶 : ['nǎi', 'nai']\n",
      "耐 : ['nài', 'nai']\n",
      "鬧 : ['nào', 'nao']\n",
      "涵 : ['hán', 'han']\n",
      "泥 : ['ní', 'nì']\n",
      "們 : ['men', 'mén']\n",
      "寧 : ['níng', 'nìng']\n",
      "擰 : ['níng', 'nǐng', 'nìng']\n",
      "藥 : ['yào', 'yao']\n",
      "友 : ['you', 'yǒu']\n",
      "片 : ['piàn', 'piān']\n",
      "漂 : ['piào', 'piāo', 'piǎo']\n",
      "坦 : ['tǎn', 'tan']\n",
      "鋪 : ['pū', 'pù']\n",
      "朴 : ['pǔ', 'piáo']\n",
      "提 : ['tí', 'dī']\n",
      "搶 : ['qiāng', 'qiǎng']\n",
      "悄 : ['qiāo', 'qiǎo']\n",
      "戚 : ['qi', 'qī']\n",
      "屈 : ['qū', 'qu']\n",
      "撒 : ['sā', 'sǎ']\n",
      "塞 : ['sāi', 'sài', 'sè']\n",
      "喪 : ['sàng', 'sāng']\n",
      "掃 : ['sǎo', 'sào']\n",
      "扇 : ['shān', 'shàn']\n",
      "午 : ['wǔ', 'wu']\n",
      "什 : ['shén', 'shí']\n",
      "拾 : ['shí', 'shi']\n",
      "掌 : ['zhǎng', 'zhang']\n",
      "指 : ['zhǐ', 'zhi', 'zhī']\n",
      "宿 : ['sù', 'xiǔ', 'xiù']\n",
      "遂 : ['suí', 'suì']\n",
      "桃 : ['táo', 'tao']\n",
      "挑 : ['tiāo', 'tiǎo']\n",
      "條 : ['tiáo', 'tiao']\n",
      "髮 : ['fa', 'fā', 'fà']\n",
      "吐 : ['tǔ', 'tù']\n",
      "娃 : ['wá', 'wa']\n",
      "剿 : ['jiǎo', 'chāo']\n",
      "奈 : ['nài', 'nai']\n",
      "緻 : ['zhì', 'zhi']\n",
      "嚇 : ['xià', 'hè']\n",
      "鮮 : ['xiān', 'xiǎn']\n",
      "李 : ['li', 'lǐ']\n",
      "擇 : ['zé', 'zhái']\n",
      "咽 : ['yān', 'yàn', 'yè']\n",
      "睛 : ['jing', 'jīng']\n",
      "惑 : ['huò', 'huo']\n",
      "飲 : ['yǐn', 'yìn']\n",
      "債 : ['zhài', 'zhai']\n",
      "寨 : ['zhài', 'zhai']\n",
      "掙 : ['zhēng', 'zhèng']\n",
      "脂 : ['zhī', 'zhi']\n",
      "飾 : ['shì', 'shi']\n",
      "宗 : ['zōng', 'zong']\n",
      "鑽 : ['zuàn', 'zuān']\n",
      "耙 : ['bà', 'pá']\n",
      "磅 : ['pàng', 'páng']\n",
      "堡 : ['bǎo', 'pù']\n",
      "刨 : ['bào', 'páo']\n",
      "簸 : ['bò', 'bǒ']\n",
      "杈 : ['chā', 'chà']\n",
      "剎 : ['chà', 'shā']\n",
      "禪 : ['chán', 'shàn']\n",
      "澄 : ['chéng', 'dèng']\n",
      "揣 : ['chuāi', 'chuǎi']\n",
      "攢 : ['cuán', 'zǎn']\n",
      "撮 : ['cuō', 'zuǒ']\n",
      "雅 : ['yǎ', 'yā']\n",
      "斗 : ['dǒu', 'dòu']\n",
      "囤 : ['dùn', 'tún']\n",
      "垛 : ['duǒ', 'duò']\n",
      "茄 : ['qié', 'jiā']\n",
      "帖 : ['tiē', 'tiě', 'tiè']\n",
      "蔗 : ['zhe', 'zhè']\n",
      "膏 : ['gāo', 'gào']\n",
      "匠 : ['jiàng', 'jiang']\n",
      "巷 : ['hàng', 'xiàng']\n",
      "暈 : ['yùn', 'yūn']\n",
      "妝 : ['zhuāng', 'zhuang']\n",
      "豁 : ['huō', 'huò']\n",
      "賈 : ['jiǎ', 'gǔ']\n",
      "坊 : ['fang', 'fāng']\n",
      "倔 : ['jué', 'juè']\n",
      "姥 : ['lǎo', 'lao']\n",
      "撩 : ['liāo', 'liáo']\n",
      "遛 : ['liú', 'liù']\n",
      "捋 : ['lǚ', 'luō']\n",
      "蔓 : ['màn', 'wàn']\n",
      "爪 : ['zhǎo', 'zhuǎ']\n",
      "沫 : ['mò', 'mo']\n",
      "劈 : ['pī', 'pǐ']\n",
      "撇 : ['piē', 'piě']\n",
      "仆 : ['pū', 'pú']\n",
      "嗆 : ['qiāng', 'qiàng']\n",
      "翹 : ['qiáo', 'qiào']\n",
      "苔 : ['tái', 'tāi']\n",
      "臊 : ['sāo', 'sào']\n",
      "杉 : ['shā', 'shān']\n",
      "煞 : ['shā', 'shà']\n",
      "肖 : ['xiào', 'xiāo']\n",
      "枉 : ['wǎng', 'wang']\n",
      "猩 : ['xīng', 'xing']\n",
      "軋 : ['yà', 'zhá']\n",
      "殷 : ['yān', 'yīn']\n",
      "燕 : ['yān', 'yàn']\n"
     ]
    }
   ],
   "source": [
    "for key, value in char_dict.items():\n",
    "    pinyin_dict_t = char_dict[key]\n",
    "    if len(pinyin_dict_t.keys()) > 1:\n",
    "        print(key + \" : \" + str(list(pinyin_dict_t.keys())))"
   ]
  },
  {
   "cell_type": "markdown",
   "metadata": {},
   "source": [
    "### 同音字查詢"
   ]
  },
  {
   "cell_type": "code",
   "execution_count": 15,
   "metadata": {},
   "outputs": [
    {
     "name": "stdout",
     "output_type": "stream",
     "text": [
      "zhí : ['值', '直', '職', '殖', '執', '植', '侄']\n"
     ]
    }
   ],
   "source": [
    "def query_same_sound(char):\n",
    "    p_dict = char_dict[char]\n",
    "    for key in p_dict.keys():\n",
    "        print(key + \" : \" + str(list(pinyin_dict[key].keys())))\n",
    "        \n",
    "query_same_sound(\"職\")"
   ]
  },
  {
   "cell_type": "markdown",
   "metadata": {},
   "source": [
    "### 拼音查詢"
   ]
  },
  {
   "cell_type": "code",
   "execution_count": 16,
   "metadata": {},
   "outputs": [],
   "source": [
    "a_list = ['a', 'ā', 'á', 'ǎ', 'à']\n",
    "o_list = ['o','ō', 'ó', 'ǒ', 'ò']\n",
    "e_list = ['e', 'ē', 'é', 'ě', 'è']\n",
    "i_list = ['i', 'ī', 'í', 'ǐ', 'ì']\n",
    "u_list = ['u', 'ū', 'ú', 'ǔ', 'ù']\n",
    "yu_list = ['ü', 'ǖ', 'ǘ', 'ǚ', 'ǜ']"
   ]
  },
  {
   "cell_type": "code",
   "execution_count": 17,
   "metadata": {},
   "outputs": [
    {
     "data": {
      "text/plain": [
       "{'惹': [[('惹', 'rě')]]}"
      ]
     },
     "execution_count": 17,
     "metadata": {},
     "output_type": "execute_result"
    }
   ],
   "source": [
    "pinyin_dict[\"rě\"]"
   ]
  },
  {
   "cell_type": "markdown",
   "metadata": {},
   "source": [
    "## 文章朗讀難點"
   ]
  },
  {
   "cell_type": "code",
   "execution_count": 18,
   "metadata": {},
   "outputs": [],
   "source": [
    "from IPython.display import Markdown, display\n",
    "\n",
    "def printmd(string, color=None): \n",
    "    colorstr = \"<span style='color:{}'>{}</span>\".format(color, string) \n",
    "    display(Markdown(colorstr)) \n",
    "    \n",
    "def formatmd(string, color=None): \n",
    "    colorstr = \"<span style='color:{}'>{}</span>\".format(color, string) \n",
    "    return colorstr"
   ]
  },
  {
   "cell_type": "code",
   "execution_count": 18,
   "metadata": {},
   "outputs": [
    {
     "ename": "ModuleNotFoundError",
     "evalue": "No module named 'thulac'",
     "output_type": "error",
     "traceback": [
      "\u001b[0;31m---------------------------------------------------------------------------\u001b[0m",
      "\u001b[0;31mModuleNotFoundError\u001b[0m                       Traceback (most recent call last)",
      "\u001b[0;32m<ipython-input-18-9ef1aa7371e1>\u001b[0m in \u001b[0;36m<module>\u001b[0;34m()\u001b[0m\n\u001b[0;32m----> 1\u001b[0;31m \u001b[0;32mimport\u001b[0m \u001b[0mthulac\u001b[0m\u001b[0;34m\u001b[0m\u001b[0m\n\u001b[0m\u001b[1;32m      2\u001b[0m \u001b[0;34m\u001b[0m\u001b[0m\n\u001b[1;32m      3\u001b[0m \u001b[0mthu1\u001b[0m \u001b[0;34m=\u001b[0m \u001b[0mthulac\u001b[0m\u001b[0;34m.\u001b[0m\u001b[0mthulac\u001b[0m\u001b[0;34m(\u001b[0m\u001b[0;34m)\u001b[0m  \u001b[0;31m#默认模式\u001b[0m\u001b[0;34m\u001b[0m\u001b[0m\n\u001b[1;32m      4\u001b[0m \u001b[0mtext\u001b[0m \u001b[0;34m=\u001b[0m \u001b[0mthu1\u001b[0m\u001b[0;34m.\u001b[0m\u001b[0mcut\u001b[0m\u001b[0;34m(\u001b[0m\u001b[0;34m\"我爱北京天安门\"\u001b[0m\u001b[0;34m,\u001b[0m \u001b[0mtext\u001b[0m\u001b[0;34m=\u001b[0m\u001b[0;32mTrue\u001b[0m\u001b[0;34m)\u001b[0m  \u001b[0;31m#进行一句话分词\u001b[0m\u001b[0;34m\u001b[0m\u001b[0m\n\u001b[1;32m      5\u001b[0m \u001b[0mprint\u001b[0m\u001b[0;34m(\u001b[0m\u001b[0mtext\u001b[0m\u001b[0;34m)\u001b[0m\u001b[0;34m\u001b[0m\u001b[0m\n",
      "\u001b[0;31mModuleNotFoundError\u001b[0m: No module named 'thulac'"
     ]
    }
   ],
   "source": [
    "import thulac\n",
    "\n",
    "thu1 = thulac.thulac()  #默认模式\n",
    "text = thu1.cut(\"我爱北京天安门\", text=True)  #进行一句话分词\n",
    "print(text)"
   ]
  },
  {
   "cell_type": "markdown",
   "metadata": {},
   "source": [
    "### 文章分詞"
   ]
  },
  {
   "cell_type": "code",
   "execution_count": 124,
   "metadata": {},
   "outputs": [
    {
     "name": "stdout",
     "output_type": "stream",
     "text": [
      "著名教育家班傑明曾經接到一個青年人的求救電話，並與那個向往成功、渴望指點的青年人約好了見面的時間和地點。待那個青年如約而至時，班傑明的房門敞開着，眼前的景象卻令青年人頗感意外——班傑明的房間裏亂七八糟、狼藉一片。沒等青年人開口，班傑明就招呼道： “你看我這房間，太不整潔了，請你在門外等候一分鐘，我收拾一下，你再進來吧。 ”一邊說着，班傑明就輕輕地關上了房門。不到一分鐘的時間，班傑明就又打開了房門並熱情地把青年人讓進客廳。這時，青年人的眼前展現出另一番景象——房間內的一切已變得井然有序，而且有兩杯剛剛倒好的紅酒，在淡淡的香水氣息裏還漾着微波。可是，沒等青年人把滿腹的有關人生和事業的疑難問題向班傑明講出來，班傑明就非常客氣地說道： “乾杯。你可以走了。 ”青年人手持酒杯一下子愣住了，既尷尬又非常遺憾地說： “可是，我……我還沒向您請教呢…… ”“這些……難道還不夠嗎？ ”班傑明一邊微笑着一邊掃視着自己的房間，輕言細語地說， “你進來又有一分鐘了。 ”“一分鐘……一分鐘…… ”青年人若有所思地說： “我懂了，您讓我明白了一分鐘的時間可以做許多事情，可以改變許多事情的深刻道理。 ”班傑明舒心地笑了。青年人把杯裏的紅酒一飲而盡，向班傑明連連道謝後，開心地走了。其實，只要把握好生命的每一分鐘，也就把握了理想的人生。\n"
     ]
    },
    {
     "ename": "NameError",
     "evalue": "name 'thu1' is not defined",
     "output_type": "error",
     "traceback": [
      "\u001b[0;31m---------------------------------------------------------------------------\u001b[0m",
      "\u001b[0;31mNameError\u001b[0m                                 Traceback (most recent call last)",
      "\u001b[0;32m<ipython-input-124-8db65976bdb2>\u001b[0m in \u001b[0;36m<module>\u001b[0;34m()\u001b[0m\n\u001b[1;32m      7\u001b[0m \u001b[0;34m\u001b[0m\u001b[0m\n\u001b[1;32m      8\u001b[0m \u001b[0mprint\u001b[0m\u001b[0;34m(\u001b[0m\u001b[0mpassage_str\u001b[0m\u001b[0;34m)\u001b[0m\u001b[0;34m\u001b[0m\u001b[0m\n\u001b[0;32m----> 9\u001b[0;31m \u001b[0mtext\u001b[0m \u001b[0;34m=\u001b[0m \u001b[0mthu1\u001b[0m\u001b[0;34m.\u001b[0m\u001b[0mcut\u001b[0m\u001b[0;34m(\u001b[0m\u001b[0mpassage_str\u001b[0m\u001b[0;34m,\u001b[0m \u001b[0mtext\u001b[0m\u001b[0;34m=\u001b[0m\u001b[0;32mTrue\u001b[0m\u001b[0;34m)\u001b[0m  \u001b[0;31m#进行一句话分词\u001b[0m\u001b[0;34m\u001b[0m\u001b[0m\n\u001b[0m\u001b[1;32m     10\u001b[0m \u001b[0mprint\u001b[0m\u001b[0;34m(\u001b[0m\u001b[0mtext\u001b[0m\u001b[0;34m)\u001b[0m\u001b[0;34m\u001b[0m\u001b[0m\n",
      "\u001b[0;31mNameError\u001b[0m: name 'thu1' is not defined"
     ]
    }
   ],
   "source": [
    "passage_no = 50\n",
    "\n",
    "passage_str = \"\"\n",
    "for py, ch in passages[passage_no-1]:\n",
    "    if not ch == \"//\": \n",
    "        passage_str = passage_str + ch\n",
    "    \n",
    "print(passage_str) \n",
    "text = thu1.cut(passage_str, text=True)  #进行一句话分词\n",
    "print(text)"
   ]
  },
  {
   "cell_type": "code",
   "execution_count": 43,
   "metadata": {},
   "outputs": [
    {
     "ename": "ImportError",
     "evalue": "No module named 'jieba'",
     "output_type": "error",
     "traceback": [
      "\u001b[0;31m---------------------------------------------------------------------------\u001b[0m",
      "\u001b[0;31mImportError\u001b[0m                               Traceback (most recent call last)",
      "\u001b[0;32m<ipython-input-43-b56b1ab0a42e>\u001b[0m in \u001b[0;36m<module>\u001b[0;34m()\u001b[0m\n\u001b[0;32m----> 1\u001b[0;31m \u001b[0;32mimport\u001b[0m \u001b[0mjieba\u001b[0m\u001b[0;34m\u001b[0m\u001b[0m\n\u001b[0m\u001b[1;32m      2\u001b[0m \u001b[0;34m\u001b[0m\u001b[0m\n\u001b[1;32m      3\u001b[0m \u001b[0mseg_list\u001b[0m \u001b[0;34m=\u001b[0m \u001b[0mjieba\u001b[0m\u001b[0;34m.\u001b[0m\u001b[0mcut\u001b[0m\u001b[0;34m(\u001b[0m\u001b[0mpassage_str\u001b[0m\u001b[0;34m,\u001b[0m \u001b[0mcut_all\u001b[0m\u001b[0;34m=\u001b[0m\u001b[0;32mFalse\u001b[0m\u001b[0;34m)\u001b[0m\u001b[0;34m\u001b[0m\u001b[0m\n\u001b[1;32m      4\u001b[0m \u001b[0mseg_list\u001b[0m \u001b[0;34m=\u001b[0m \u001b[0mlist\u001b[0m\u001b[0;34m(\u001b[0m\u001b[0mseg_list\u001b[0m\u001b[0;34m)\u001b[0m\u001b[0;34m\u001b[0m\u001b[0m\n\u001b[1;32m      5\u001b[0m \u001b[0mprint\u001b[0m\u001b[0;34m(\u001b[0m\u001b[0;34m\"Full Mode: \"\u001b[0m \u001b[0;34m+\u001b[0m \u001b[0;34m\"/ \"\u001b[0m\u001b[0;34m.\u001b[0m\u001b[0mjoin\u001b[0m\u001b[0;34m(\u001b[0m\u001b[0mseg_list\u001b[0m\u001b[0;34m)\u001b[0m\u001b[0;34m)\u001b[0m  \u001b[0;31m# 全模式\u001b[0m\u001b[0;34m\u001b[0m\u001b[0m\n",
      "\u001b[0;31mImportError\u001b[0m: No module named 'jieba'"
     ]
    }
   ],
   "source": [
    "import jieba\n",
    "\n",
    "seg_list = jieba.cut(passage_str, cut_all=False)\n",
    "seg_list = list(seg_list)\n",
    "print(\"Full Mode: \" + \"/ \".join(seg_list))  # 全模式"
   ]
  },
  {
   "cell_type": "markdown",
   "metadata": {},
   "source": [
    "### 主要詞彙"
   ]
  },
  {
   "cell_type": "code",
   "execution_count": 27,
   "metadata": {},
   "outputs": [
    {
     "ename": "NameError",
     "evalue": "name 'seg_list' is not defined",
     "output_type": "error",
     "traceback": [
      "\u001b[0;31m---------------------------------------------------------------------------\u001b[0m",
      "\u001b[0;31mNameError\u001b[0m                                 Traceback (most recent call last)",
      "\u001b[0;32m<ipython-input-27-98f53a29888d>\u001b[0m in \u001b[0;36m<module>\u001b[0;34m()\u001b[0m\n\u001b[1;32m      2\u001b[0m \u001b[0;32mfrom\u001b[0m \u001b[0mcollections\u001b[0m \u001b[0;32mimport\u001b[0m \u001b[0mCounter\u001b[0m\u001b[0;34m\u001b[0m\u001b[0m\n\u001b[1;32m      3\u001b[0m \u001b[0;34m\u001b[0m\u001b[0m\n\u001b[0;32m----> 4\u001b[0;31m \u001b[0mcounter\u001b[0m\u001b[0;34m=\u001b[0m\u001b[0mCounter\u001b[0m\u001b[0;34m(\u001b[0m\u001b[0mseg_list\u001b[0m\u001b[0;34m)\u001b[0m\u001b[0;34m\u001b[0m\u001b[0m\n\u001b[0m\u001b[1;32m      5\u001b[0m \u001b[0mfreq_lst\u001b[0m\u001b[0;34m=\u001b[0m\u001b[0;34m[\u001b[0m\u001b[0mlist\u001b[0m\u001b[0;34m(\u001b[0m\u001b[0mcounter\u001b[0m\u001b[0;34m.\u001b[0m\u001b[0mkeys\u001b[0m\u001b[0;34m(\u001b[0m\u001b[0;34m)\u001b[0m\u001b[0;34m)\u001b[0m\u001b[0;34m,\u001b[0m\u001b[0mlist\u001b[0m\u001b[0;34m(\u001b[0m\u001b[0mcounter\u001b[0m\u001b[0;34m.\u001b[0m\u001b[0mvalues\u001b[0m\u001b[0;34m(\u001b[0m\u001b[0;34m)\u001b[0m\u001b[0;34m)\u001b[0m\u001b[0;34m]\u001b[0m\u001b[0;34m\u001b[0m\u001b[0m\n\u001b[1;32m      6\u001b[0m \u001b[0mfreq_df\u001b[0m \u001b[0;34m=\u001b[0m \u001b[0mpd\u001b[0m\u001b[0;34m.\u001b[0m\u001b[0mDataFrame\u001b[0m\u001b[0;34m(\u001b[0m\u001b[0mnp\u001b[0m\u001b[0;34m.\u001b[0m\u001b[0marray\u001b[0m\u001b[0;34m(\u001b[0m\u001b[0mfreq_lst\u001b[0m\u001b[0;34m)\u001b[0m\u001b[0;34m.\u001b[0m\u001b[0mT\u001b[0m\u001b[0;34m,\u001b[0m \u001b[0mcolumns\u001b[0m\u001b[0;34m=\u001b[0m\u001b[0;34m[\u001b[0m\u001b[0;34m'Letter'\u001b[0m\u001b[0;34m,\u001b[0m\u001b[0;34m'wordCount'\u001b[0m\u001b[0;34m]\u001b[0m\u001b[0;34m)\u001b[0m\u001b[0;34m\u001b[0m\u001b[0m\n",
      "\u001b[0;31mNameError\u001b[0m: name 'seg_list' is not defined"
     ]
    }
   ],
   "source": [
    "from itertools import groupby\n",
    "from collections import Counter\n",
    "\n",
    "counter=Counter(seg_list)\n",
    "freq_lst=[list(counter.keys()),list(counter.values())]\n",
    "freq_df = pd.DataFrame(np.array(freq_lst).T, columns=['Letter','wordCount'])\n",
    "freq_df[\"wordCount\"] = freq_df[\"wordCount\"].astype(int)\n",
    "sort_df = freq_df.sort_values(\"wordCount\", ascending=False)\n",
    "print(sort_df[sort_df[\"wordCount\"] > 1])"
   ]
  },
  {
   "cell_type": "markdown",
   "metadata": {},
   "source": [
    "### 必讀輕聲"
   ]
  },
  {
   "cell_type": "code",
   "execution_count": 118,
   "metadata": {},
   "outputs": [
    {
     "data": {
      "text/markdown": [
       "那是力爭上游<span style='color:blue'>的</span>一種樹，筆直<span style='color:blue'>的</span>幹，筆直<span style='color:blue'>的</span>枝。它<span style='color:blue'>的</span>幹<span style='color:blue'>呢</span>，通常是丈把高，像是加以人工似<span style='color:blue'>的</span>，一丈以內，絕無旁枝；它所有<span style='color:blue'>的</span>椏枝<span style='color:blue'>呢</span>，一律向上，而且緊緊靠攏，也像是加以人工似<span style='color:blue'>的</span>，成為一束，絕無橫斜逸出；它<span style='color:blue'>的</span>寬大<span style='color:blue'>的</span>葉<span style='color:blue'>子</span>也是片片向上，幾乎沒有斜生<span style='color:blue'>的</span>，更不用說倒垂<span style='color:blue'>了</span>；它<span style='color:blue'>的</span>皮，光滑而有銀色<span style='color:blue'>的</span>暈圈，微微泛出淡青色。這是雖在北方<span style='color:blue'>的</span>風雪<span style='color:blue'>的</span>壓迫下卻保持<span style='color:blue'>着</span>倔強挺立<span style='color:blue'>的</span>一種樹！哪怕只有碗來粗細<span style='color:blue'>罷</span>，它卻努力向上發展，高到丈許，兩丈，參天聳立，不折不撓，對抗<span style='color:blue'>着</span>西北風。這就是白楊樹，西北極普通<span style='color:blue'>的</span>一種樹，然而決不是平凡<span style='color:blue'>的</span>樹！它沒有婆娑<span style='color:blue'>的</span>姿態，沒有屈曲盤旋<span style='color:blue'>的</span>虯枝，也許你要說它不美麗， ──如果美是專指“婆娑”或“橫斜逸出”之類而言，那<span style='color:blue'>麼</span>，白楊樹算不得樹中<span style='color:blue'>的</span>好女子；但是它卻是偉岸，正直，樸質，嚴肅，也不缺乏溫和，更不用提它<span style='color:blue'>的</span>堅強不屈與挺拔，它是樹中<span style='color:blue'>的</span>偉丈夫！當你在積雪初融<span style='color:blue'>的</span>高原上走過，看見平坦<span style='color:blue'>的</span>大地上傲然挺立這<span style='color:blue'>麼</span>一株或一排白楊樹，難道你就只覺<span style='color:blue'>得</span>樹只是樹，難道你就不想到它<span style='color:blue'>的</span>樸質，嚴肅，堅強不屈，至少也象徵<span style='color:blue'>了</span>北方<span style='color:blue'>的</span>農民；難道你竟一點兒也不聯想到，在敵後<span style='color:blue'>的</span>廣大土//地上，到處有堅強不屈，就像這白楊樹一樣傲然挺立<span style='color:blue'>的</span>守衛他<span style='color:blue'>們</span>家鄉<span style='color:blue'>的</span>哨兵！難道你又不更遠一點想到這樣枝枝葉葉靠緊團結，力求上進<span style='color:blue'>的</span>白楊樹，宛然象徵<span style='color:blue'>了</span>今天在華北平原縱橫決蕩用血寫出新中國歷史<span style='color:blue'>的</span>那種精<span style='color:blue'>神</span>和意志。"
      ],
      "text/plain": [
       "<IPython.core.display.Markdown object>"
      ]
     },
     "metadata": {},
     "output_type": "display_data"
    }
   ],
   "source": [
    "def softly_sound(passage):\n",
    "    for py, ch in passage:\n",
    "        if len(py.strip()) > 0 and character_tone(py) == 0: \n",
    "            print(ch, py)\n",
    "            \n",
    "#softly_sound(passages[passage_no-1])\n",
    "\n",
    "def highlight_softly_sound(passage):\n",
    "    result = \"\"\n",
    "    for py, ch in passage:\n",
    "        if len(py.strip()) > 0 and character_tone(py) == 0: \n",
    "            result += formatmd(ch, \"blue\")\n",
    "        else:\n",
    "            result += ch\n",
    "            \n",
    "    display(Markdown(result)) \n",
    "            \n",
    "highlight_softly_sound(passages[passage_no-1])"
   ]
  },
  {
   "cell_type": "markdown",
   "metadata": {},
   "source": [
    "### 去聲變調"
   ]
  },
  {
   "cell_type": "code",
   "execution_count": 119,
   "metadata": {},
   "outputs": [
    {
     "data": {
      "text/markdown": [
       "<span style='color:None'>那</span><span style='color:None'>是</span><span style='color:None'>力</span><span style='color:None'>爭</span><span style='color:None'>上</span><span style='color:None'>游</span><span style='color:None'>的</span><span style='color:None'>一</span><span style='color:None'>樹</span><span style='color:None'>，</span><span style='color:None'>直</span><span style='color:None'>的</span><span style='color:None'>幹</span><span style='color:None'>，</span><span style='color:None'>直</span><span style='color:None'>的</span><span style='color:None'>枝</span><span style='color:None'>。</span><span style='color:None'>它</span><span style='color:None'>的</span><span style='color:None'>幹</span><span style='color:None'>呢</span><span style='color:None'>，</span><span style='color:None'>通</span><span style='color:None'>常</span><span style='color:None'>是</span><span style='color:None'>丈</span><span style='color:None'>高</span><span style='color:None'>，</span><span style='color:None'>像</span><span style='color:None'>是</span><span style='color:None'>加</span><span style='color:None'>人</span><span style='color:None'>工</span><span style='color:None'>似</span><span style='color:None'>的</span><span style='color:None'>，</span><span style='color:None'>一</span><span style='color:None'>丈</span><span style='color:None'>內</span><span style='color:None'>，</span><span style='color:None'>絕</span><span style='color:None'>無</span><span style='color:None'>旁</span><span style='color:None'>枝</span><span style='color:None'>；</span><span style='color:None'>它</span><span style='color:blue'>所有</span><span style='color:None'>的</span><span style='color:None'>椏</span><span style='color:None'>枝</span><span style='color:None'>呢</span><span style='color:None'>，</span><span style='color:None'>一</span><span style='color:None'>律</span><span style='color:None'>向</span><span style='color:None'>上</span><span style='color:None'>，</span><span style='color:None'>而</span><span style='color:blue'>且緊緊</span><span style='color:None'>靠</span><span style='color:None'>，</span><span style='color:None'>像</span><span style='color:None'>是</span><span style='color:None'>加</span><span style='color:None'>人</span><span style='color:None'>工</span><span style='color:None'>似</span><span style='color:None'>的</span><span style='color:None'>，</span><span style='color:None'>成</span><span style='color:None'>為</span><span style='color:None'>一</span><span style='color:None'>束</span><span style='color:None'>，</span><span style='color:None'>絕</span><span style='color:None'>無</span><span style='color:None'>橫</span><span style='color:None'>斜</span><span style='color:None'>逸</span><span style='color:None'>出</span><span style='color:None'>；</span><span style='color:None'>它</span><span style='color:None'>的</span><span style='color:None'>寬</span><span style='color:None'>大</span><span style='color:None'>的</span><span style='color:None'>葉</span><span style='color:None'>子</span><span style='color:None'>是</span><span style='color:None'>片</span><span style='color:None'>片</span><span style='color:None'>向</span><span style='color:None'>上</span><span style='color:None'>，</span><span style='color:None'>幾</span><span style='color:None'>乎</span><span style='color:None'>沒</span><span style='color:None'>斜</span><span style='color:None'>生</span><span style='color:None'>的</span><span style='color:None'>，</span><span style='color:None'>更</span><span style='color:None'>不</span><span style='color:None'>用</span><span style='color:None'>說</span><span style='color:None'>倒</span><span style='color:None'>垂</span><span style='color:None'>了</span><span style='color:None'>；</span><span style='color:None'>它</span><span style='color:None'>的</span><span style='color:None'>皮</span><span style='color:None'>，</span><span style='color:None'>光</span><span style='color:None'>滑</span><span style='color:None'>而</span><span style='color:None'>銀</span><span style='color:None'>色</span><span style='color:None'>的</span><span style='color:None'>暈</span><span style='color:None'>圈</span><span style='color:None'>，</span><span style='color:None'>微</span><span style='color:None'>微</span><span style='color:None'>泛</span><span style='color:None'>出</span><span style='color:None'>淡</span><span style='color:None'>青</span><span style='color:None'>色</span><span style='color:None'>。</span><span style='color:None'>這</span><span style='color:None'>是</span><span style='color:None'>雖</span><span style='color:None'>在</span><span style='color:None'>方</span><span style='color:None'>的</span><span style='color:None'>風</span><span style='color:None'>的</span><span style='color:None'>壓</span><span style='color:None'>迫</span><span style='color:None'>下</span><span style='color:None'>卻</span><span style='color:None'>持</span><span style='color:None'>着</span><span style='color:None'>倔</span><span style='color:None'>強</span><span style='color:None'>立</span><span style='color:None'>的</span><span style='color:None'>一</span><span style='color:None'>樹</span><span style='color:None'>！</span><span style='color:None'>怕</span><span style='color:blue'>只有碗</span><span style='color:None'>來</span><span style='color:None'>粗</span><span style='color:None'>細</span><span style='color:None'>罷</span><span style='color:None'>，</span><span style='color:None'>它</span><span style='color:None'>卻</span><span style='color:None'>力</span><span style='color:None'>向</span><span style='color:None'>上</span><span style='color:None'>發</span><span style='color:None'>，</span><span style='color:None'>高</span><span style='color:None'>到</span><span style='color:None'>丈</span><span style='color:None'>，</span><span style='color:None'>丈</span><span style='color:None'>，</span><span style='color:None'>參</span><span style='color:None'>天</span><span style='color:None'>立</span><span style='color:None'>，</span><span style='color:None'>不</span><span style='color:None'>折</span><span style='color:None'>不</span><span style='color:None'>撓</span><span style='color:None'>，</span><span style='color:None'>對</span><span style='color:None'>抗</span><span style='color:None'>着</span><span style='color:None'>西</span><span style='color:None'>風</span><span style='color:None'>。</span><span style='color:None'>這</span><span style='color:None'>就</span><span style='color:None'>是</span><span style='color:None'>白</span><span style='color:None'>楊</span><span style='color:None'>樹</span><span style='color:None'>，</span><span style='color:None'>西</span><span style='color:None'>極</span><span style='color:None'>通</span><span style='color:None'>的</span><span style='color:None'>一</span><span style='color:None'>樹</span><span style='color:None'>，</span><span style='color:None'>然</span><span style='color:None'>而</span><span style='color:None'>決</span><span style='color:None'>不</span><span style='color:None'>是</span><span style='color:None'>平</span><span style='color:None'>凡</span><span style='color:None'>的</span><span style='color:None'>樹</span><span style='color:None'>！</span><span style='color:None'>它</span><span style='color:None'>沒</span><span style='color:None'>婆</span><span style='color:None'>娑</span><span style='color:None'>的</span><span style='color:None'>姿</span><span style='color:None'>態</span><span style='color:None'>，</span><span style='color:None'>沒</span><span style='color:None'>屈</span><span style='color:None'>曲</span><span style='color:None'>盤</span><span style='color:None'>旋</span><span style='color:None'>的</span><span style='color:None'>虯</span><span style='color:None'>枝</span><span style='color:None'>，</span><span style='color:blue'>也許你</span><span style='color:None'>要</span><span style='color:None'>說</span><span style='color:None'>它</span><span style='color:None'>不</span><span style='color:None'>麗</span><span style='color:None'>， ──</span><span style='color:None'>如</span><span style='color:blue'>果美</span><span style='color:None'>是</span><span style='color:None'>專</span><span style='color:None'>“</span><span style='color:None'>婆</span><span style='color:None'>娑</span><span style='color:None'>”</span><span style='color:None'>或</span><span style='color:None'>“</span><span style='color:None'>橫</span><span style='color:None'>斜</span><span style='color:None'>逸</span><span style='color:None'>出</span><span style='color:None'>”</span><span style='color:None'>之</span><span style='color:None'>類</span><span style='color:None'>而</span><span style='color:None'>言</span><span style='color:None'>，</span><span style='color:None'>那</span><span style='color:None'>麼</span><span style='color:None'>，</span><span style='color:None'>白</span><span style='color:None'>楊</span><span style='color:None'>樹</span><span style='color:None'>算</span><span style='color:None'>不</span><span style='color:None'>得</span><span style='color:None'>樹</span><span style='color:None'>中</span><span style='color:None'>的</span><span style='color:blue'>好女子</span><span style='color:None'>；</span><span style='color:None'>但</span><span style='color:None'>是</span><span style='color:None'>它</span><span style='color:None'>卻</span><span style='color:None'>是</span><span style='color:None'>岸</span><span style='color:None'>，</span><span style='color:None'>正</span><span style='color:None'>直</span><span style='color:None'>，</span><span style='color:None'>質</span><span style='color:None'>，</span><span style='color:None'>嚴</span><span style='color:None'>肅</span><span style='color:None'>，</span><span style='color:None'>不</span><span style='color:None'>缺</span><span style='color:None'>乏</span><span style='color:None'>溫</span><span style='color:None'>和</span><span style='color:None'>，</span><span style='color:None'>更</span><span style='color:None'>不</span><span style='color:None'>用</span><span style='color:None'>提</span><span style='color:None'>它</span><span style='color:None'>的</span><span style='color:None'>堅</span><span style='color:None'>強</span><span style='color:None'>不</span><span style='color:None'>屈</span><span style='color:blue'>與挺</span><span style='color:None'>拔</span><span style='color:None'>，</span><span style='color:None'>它</span><span style='color:None'>是</span><span style='color:None'>樹</span><span style='color:None'>中</span><span style='color:None'>的</span><span style='color:None'>丈</span><span style='color:None'>夫</span><span style='color:None'>！</span><span style='color:None'>當</span><span style='color:None'>在</span><span style='color:None'>積</span><span style='color:None'>初</span><span style='color:None'>融</span><span style='color:None'>的</span><span style='color:None'>高</span><span style='color:None'>原</span><span style='color:None'>上</span><span style='color:None'>過</span><span style='color:None'>，</span><span style='color:None'>看</span><span style='color:None'>見</span><span style='color:None'>平</span><span style='color:None'>的</span><span style='color:None'>大</span><span style='color:None'>地</span><span style='color:None'>上</span><span style='color:None'>傲</span><span style='color:None'>然</span><span style='color:None'>立</span><span style='color:None'>這</span><span style='color:None'>麼</span><span style='color:None'>一</span><span style='color:None'>株</span><span style='color:None'>或</span><span style='color:None'>一</span><span style='color:None'>排</span><span style='color:None'>白</span><span style='color:None'>楊</span><span style='color:None'>樹</span><span style='color:None'>，</span><span style='color:None'>難</span><span style='color:None'>道</span><span style='color:None'>就</span><span style='color:None'>覺</span><span style='color:None'>得</span><span style='color:None'>樹</span><span style='color:None'>是</span><span style='color:None'>樹</span><span style='color:None'>，</span><span style='color:None'>難</span><span style='color:None'>道</span><span style='color:None'>就</span><span style='color:None'>不</span><span style='color:None'>到</span><span style='color:None'>它</span><span style='color:None'>的</span><span style='color:None'>質</span><span style='color:None'>，</span><span style='color:None'>嚴</span><span style='color:None'>肅</span><span style='color:None'>，</span><span style='color:None'>堅</span><span style='color:None'>強</span><span style='color:None'>不</span><span style='color:None'>屈</span><span style='color:None'>，</span><span style='color:None'>至</span><span style='color:blue'>少也</span><span style='color:None'>象</span><span style='color:None'>徵</span><span style='color:None'>了</span><span style='color:None'>方</span><span style='color:None'>的</span><span style='color:None'>農</span><span style='color:None'>民</span><span style='color:None'>；</span><span style='color:None'>難</span><span style='color:None'>道</span><span style='color:None'>竟</span><span style='color:None'>一</span><span style='color:blue'>點兒也</span><span style='color:None'>不</span><span style='color:None'>聯</span><span style='color:None'>到</span><span style='color:None'>，</span><span style='color:None'>在</span><span style='color:None'>敵</span><span style='color:None'>後</span><span style='color:None'>的</span><span style='color:None'>大</span><span style='color:None'>//</span><span style='color:None'>地</span><span style='color:None'>上</span><span style='color:None'>，</span><span style='color:None'>到</span><span style='color:None'>處</span><span style='color:None'>堅</span><span style='color:None'>強</span><span style='color:None'>不</span><span style='color:None'>屈</span><span style='color:None'>，</span><span style='color:None'>就</span><span style='color:None'>像</span><span style='color:None'>這</span><span style='color:None'>白</span><span style='color:None'>楊</span><span style='color:None'>樹</span><span style='color:None'>一</span><span style='color:None'>樣</span><span style='color:None'>傲</span><span style='color:None'>然</span><span style='color:None'>立</span><span style='color:None'>的</span><span style='color:None'>衛</span><span style='color:None'>他</span><span style='color:None'>們</span><span style='color:None'>家</span><span style='color:None'>鄉</span><span style='color:None'>的</span><span style='color:None'>哨</span><span style='color:None'>兵</span><span style='color:None'>！</span><span style='color:None'>難</span><span style='color:None'>道</span><span style='color:None'>又</span><span style='color:None'>不</span><span style='color:None'>更</span><span style='color:None'>一</span><span style='color:blue'>點想</span><span style='color:None'>到</span><span style='color:None'>這</span><span style='color:None'>樣</span><span style='color:None'>枝</span><span style='color:None'>枝</span><span style='color:None'>葉</span><span style='color:None'>葉</span><span style='color:None'>靠</span><span style='color:None'>團</span><span style='color:None'>結</span><span style='color:None'>，</span><span style='color:None'>力</span><span style='color:None'>求</span><span style='color:None'>上</span><span style='color:None'>進</span><span style='color:None'>的</span><span style='color:None'>白</span><span style='color:None'>楊</span><span style='color:None'>樹</span><span style='color:None'>，</span><span style='color:None'>然</span><span style='color:None'>象</span><span style='color:None'>徵</span><span style='color:None'>了</span><span style='color:None'>今</span><span style='color:None'>天</span><span style='color:None'>在</span><span style='color:None'>華</span><span style='color:None'>平</span><span style='color:None'>原</span><span style='color:None'>縱</span><span style='color:None'>橫</span><span style='color:None'>決</span><span style='color:None'>蕩</span><span style='color:None'>用</span><span style='color:None'>血</span><span style='color:None'>出</span><span style='color:None'>新</span><span style='color:None'>中</span><span style='color:None'>國</span><span style='color:None'>歷</span><span style='color:None'>的</span><span style='color:None'>那</span><span style='color:None'>精</span><span style='color:None'>神</span><span style='color:None'>和</span><span style='color:None'>意</span><span style='color:None'>志</span><span style='color:None'>。</span>"
      ],
      "text/plain": [
       "<IPython.core.display.Markdown object>"
      ]
     },
     "metadata": {},
     "output_type": "display_data"
    }
   ],
   "source": [
    "def third_sound_steak(passage):\n",
    "    cur = \"\"\n",
    "    for py, ch in passage:\n",
    "        if len(py.strip()) > 0 and character_tone(py) == 3: \n",
    "            cur += ch\n",
    "        else:\n",
    "            if len(cur) > 1:\n",
    "                print(cur)\n",
    "            cur = \"\"\n",
    "            \n",
    "#third_sound_steak(passages[passage_no-1])\n",
    "\n",
    "def highlight_third_sound_steak(passage):\n",
    "    result = \"\"\n",
    "    cur = \"\"\n",
    "    for py, ch in passage:\n",
    "        if len(py.strip()) > 0 and character_tone(py) == 3: \n",
    "            cur += ch\n",
    "        else:\n",
    "            if len(cur) > 1:\n",
    "                result += formatmd(cur, 'blue')\n",
    "            cur = \"\"\n",
    "            result += formatmd(ch)\n",
    "            \n",
    "    display(Markdown(result)) \n",
    "            \n",
    "highlight_third_sound_steak(passages[passage_no-1])"
   ]
  },
  {
   "cell_type": "markdown",
   "metadata": {},
   "source": [
    "### 一不變調"
   ]
  },
  {
   "cell_type": "code",
   "execution_count": 120,
   "metadata": {},
   "outputs": [
    {
     "data": {
      "text/markdown": [
       "那是力爭上游的<span style='color:green'>一</span>種樹，筆直的幹，筆直的枝。它的幹呢，通常是丈把高，像是加以人工似的，<span style='color:blue'>一</span>丈以內，絕無旁枝；它所有的椏枝呢，<span style='color:blue'>一</span>律向上，而且緊緊靠攏，也像是加以人工似的，成為<span style='color:blue'>一</span>束，絕無橫斜逸出；它的寬大的葉子也是片片向上，幾乎沒有斜生的，更<span style='color:blue'>不</span>用說倒垂了；它的皮，光滑而有銀色的暈圈，微微泛出淡青色。這是雖在北方的風雪的壓迫下卻保持着倔強挺立的<span style='color:green'>一</span>種樹！哪怕只有碗來粗細罷，它卻努力向上發展，高到丈許，兩丈，參天聳立，<span style='color:green'>不</span>折<span style='color:green'>不</span>撓，對抗着西北風。這就是白楊樹，西北極普通的<span style='color:green'>一</span>種樹，然而決<span style='color:blue'>不</span>是平凡的樹！它沒有婆娑的姿態，沒有屈曲盤旋的虯枝，也許你要說它<span style='color:green'>不</span>美麗， ──如果美是專指“婆娑”或“橫斜逸出”之類而言，那麼，白楊樹算<span style='color:green'>不</span>得樹中的好女子；但是它卻是偉岸，正直，樸質，嚴肅，也<span style='color:green'>不</span>缺乏溫和，更<span style='color:blue'>不</span>用提它的堅強<span style='color:green'>不</span>屈與挺拔，它是樹中的偉丈夫！當你在積雪初融的高原上走過，看見平坦的大地上傲然挺立這麼<span style='color:green'>一</span>株或<span style='color:green'>一</span>排白楊樹，難道你就只覺得樹只是樹，難道你就<span style='color:green'>不</span>想到它的樸質，嚴肅，堅強<span style='color:green'>不</span>屈，至少也象徵了北方的農民；難道你竟<span style='color:green'>一</span>點兒也<span style='color:green'>不</span>聯想到，在敵後的廣大土//地上，到處有堅強<span style='color:green'>不</span>屈，就像這白楊樹<span style='color:blue'>一</span>樣傲然挺立的守衛他們家鄉的哨兵！難道你又<span style='color:blue'>不</span>更遠<span style='color:green'>一</span>點想到這樣枝枝葉葉靠緊團結，力求上進的白楊樹，宛然象徵了今天在華北平原縱橫決蕩用血寫出新中國歷史的那種精神和意志。"
      ],
      "text/plain": [
       "<IPython.core.display.Markdown object>"
      ]
     },
     "metadata": {},
     "output_type": "display_data"
    }
   ],
   "source": [
    "def highlight_yi_bu(passage):\n",
    "    result = \"\"\n",
    "    cur = \"\"\n",
    "    for py, ch in passage:\n",
    "        if (ch == '一' and py != 'yì') or (ch == '不' and py != 'bù'):\n",
    "            result += formatmd(ch, 'blue')\n",
    "        elif (ch == '一' and py == 'yì') or (ch == '不' and py == 'bù'):\n",
    "            result += formatmd(ch, 'green')\n",
    "        else:\n",
    "            result += ch\n",
    "            \n",
    "    display(Markdown(result)) \n",
    "            \n",
    "highlight_yi_bu(passages[passage_no-1])"
   ]
  },
  {
   "cell_type": "code",
   "execution_count": null,
   "metadata": {},
   "outputs": [],
   "source": [
    "### 平舌音"
   ]
  },
  {
   "cell_type": "code",
   "execution_count": 121,
   "metadata": {},
   "outputs": [
    {
     "data": {
      "text/markdown": [
       "那是力爭上游的一種樹，筆直的幹，筆直的枝。它的幹呢，通常是丈把高，像是加以人工似的，一丈以內，絕無旁枝；它<span style='color:blue'>所</span>有的椏枝呢，一律向上，而且緊緊靠攏，也像是加以人工似的，成為一束，絕無橫斜逸出；它的寬大的葉<span style='color:blue'>子</span>也是片片向上，幾乎沒有斜生的，更不用說倒垂了；它的皮，光滑而有銀<span style='color:blue'>色</span>的暈圈，微微泛出淡青<span style='color:blue'>色</span>。這是<span style='color:blue'>雖</span><span style='color:blue'>在</span>北方的風雪的壓迫下卻保持着倔強挺立的一種樹！哪怕只有碗來<span style='color:blue'>粗</span>細罷，它卻努力向上發展，高到丈許，兩丈，<span style='color:blue'>參</span>天<span style='color:blue'>聳</span>立，不折不撓，對抗着西北風。這就是白楊樹，西北極普通的一種樹，然而決不是平凡的樹！它沒有婆<span style='color:blue'>娑</span>的<span style='color:blue'>姿</span>態，沒有屈曲盤旋的虯枝，也許你要說它不美麗， ──如果美是專指“婆<span style='color:blue'>娑</span>”或“橫斜逸出”之類而言，那麼，白楊樹<span style='color:blue'>算</span>不得樹中的好女<span style='color:blue'>子</span>；但是它卻是偉岸，正直，樸質，嚴<span style='color:blue'>肅</span>，也不缺乏溫和，更不用提它的堅強不屈與挺拔，它是樹中的偉丈夫！當你<span style='color:blue'>在</span>積雪初融的高原上<span style='color:blue'>走</span>過，看見平坦的大地上傲然挺立這麼一株或一排白楊樹，難道你就只覺得樹只是樹，難道你就不想到它的樸質，嚴<span style='color:blue'>肅</span>，堅強不屈，至少也象徵了北方的農民；難道你竟一點兒也不聯想到，<span style='color:blue'>在</span>敵後的廣大土//地上，到處有堅強不屈，就像這白楊樹一樣傲然挺立的守衛他們家鄉的哨兵！難道你又不更遠一點想到這樣枝枝葉葉靠緊團結，力求上進的白楊樹，宛然象徵了今天<span style='color:blue'>在</span>華北平原<span style='color:blue'>縱</span>橫決蕩用血寫出新中國歷史的那種精神和意志。"
      ],
      "text/plain": [
       "<IPython.core.display.Markdown object>"
      ]
     },
     "metadata": {},
     "output_type": "display_data"
    }
   ],
   "source": [
    "def zcs_in_passage(passage): \n",
    "    for py, ch in passage:\n",
    "        if((py.startswith(\"z\") or py.startswith(\"c\") or py.startswith(\"s\"))\n",
    "          and not(py.startswith(\"zh\") or py.startswith(\"ch\") or py.startswith(\"sh\"))):\n",
    "            print(ch, py)\n",
    "            \n",
    "#zcs_in_passage(passages[passage_no-1])\n",
    "\n",
    "def highlight_zcs_in_passage(passage):\n",
    "    result = \"\"\n",
    "    for py, ch in passage:\n",
    "        if((py.startswith(\"z\") or py.startswith(\"c\") or py.startswith(\"s\"))\n",
    "          and not(py.startswith(\"zh\") or py.startswith(\"ch\") or py.startswith(\"sh\"))):\n",
    "            result += formatmd(ch, 'blue')\n",
    "        else:\n",
    "            result += ch\n",
    "            \n",
    "    display(Markdown(result)) \n",
    "            \n",
    "highlight_zcs_in_passage(passages[passage_no-1])\n"
   ]
  },
  {
   "cell_type": "markdown",
   "metadata": {},
   "source": [
    "### 翹舌音"
   ]
  },
  {
   "cell_type": "code",
   "execution_count": 122,
   "metadata": {},
   "outputs": [
    {
     "data": {
      "text/markdown": [
       "那<span style='color:blue'>是</span>力<span style='color:blue'>爭</span><span style='color:blue'>上</span>游的一<span style='color:blue'>種</span><span style='color:blue'>樹</span>，筆<span style='color:blue'>直</span>的幹，筆<span style='color:blue'>直</span>的<span style='color:blue'>枝</span>。它的幹呢，通<span style='color:blue'>常</span><span style='color:blue'>是</span><span style='color:blue'>丈</span>把高，像<span style='color:blue'>是</span>加以人工<span style='color:blue'>似</span>的，一<span style='color:blue'>丈</span>以內，絕無旁<span style='color:blue'>枝</span>；它所有的椏<span style='color:blue'>枝</span>呢，一律向<span style='color:blue'>上</span>，而且緊緊靠攏，也像<span style='color:blue'>是</span>加以人工<span style='color:blue'>似</span>的，<span style='color:blue'>成</span>為一<span style='color:blue'>束</span>，絕無橫斜逸<span style='color:blue'>出</span>；它的寬大的葉子也<span style='color:blue'>是</span>片片向<span style='color:blue'>上</span>，幾乎沒有斜<span style='color:blue'>生</span>的，更不用<span style='color:blue'>說</span>倒<span style='color:blue'>垂</span>了；它的皮，光滑而有銀色的暈圈，微微泛<span style='color:blue'>出</span>淡青色。<span style='color:blue'>這</span><span style='color:blue'>是</span>雖在北方的風雪的壓迫下卻保<span style='color:blue'>持</span><span style='color:blue'>着</span>倔強挺立的一<span style='color:blue'>種</span><span style='color:blue'>樹</span>！哪怕<span style='color:blue'>只</span>有碗來粗細罷，它卻努力向<span style='color:blue'>上</span>發<span style='color:blue'>展</span>，高到<span style='color:blue'>丈</span>許，兩<span style='color:blue'>丈</span>，參天聳立，不<span style='color:blue'>折</span>不撓，對抗<span style='color:blue'>着</span>西北風。<span style='color:blue'>這</span>就<span style='color:blue'>是</span>白楊<span style='color:blue'>樹</span>，西北極普通的一<span style='color:blue'>種</span><span style='color:blue'>樹</span>，然而決不<span style='color:blue'>是</span>平凡的<span style='color:blue'>樹</span>！它沒有婆娑的姿態，沒有屈曲盤旋的虯<span style='color:blue'>枝</span>，也許你要<span style='color:blue'>說</span>它不美麗， ──如果美<span style='color:blue'>是</span><span style='color:blue'>專</span><span style='color:blue'>指</span>“婆娑”或“橫斜逸<span style='color:blue'>出</span>”<span style='color:blue'>之</span>類而言，那麼，白楊<span style='color:blue'>樹</span>算不得<span style='color:blue'>樹</span><span style='color:blue'>中</span>的好女子；但<span style='color:blue'>是</span>它卻<span style='color:blue'>是</span>偉岸，<span style='color:blue'>正</span><span style='color:blue'>直</span>，樸<span style='color:blue'>質</span>，嚴肅，也不缺乏溫和，更不用提它的堅強不屈與挺拔，它<span style='color:blue'>是</span><span style='color:blue'>樹</span><span style='color:blue'>中</span>的偉<span style='color:blue'>丈</span>夫！當你在積雪<span style='color:blue'>初</span>融的高原<span style='color:blue'>上</span>走過，看見平坦的大地<span style='color:blue'>上</span>傲然挺立<span style='color:blue'>這</span>麼一<span style='color:blue'>株</span>或一排白楊<span style='color:blue'>樹</span>，難道你就<span style='color:blue'>只</span>覺得<span style='color:blue'>樹</span><span style='color:blue'>只</span><span style='color:blue'>是</span><span style='color:blue'>樹</span>，難道你就不想到它的樸<span style='color:blue'>質</span>，嚴肅，堅強不屈，<span style='color:blue'>至</span><span style='color:blue'>少</span>也象<span style='color:blue'>徵</span>了北方的農民；難道你竟一點兒也不聯想到，在敵後的廣大土//地<span style='color:blue'>上</span>，到<span style='color:blue'>處</span>有堅強不屈，就像<span style='color:blue'>這</span>白楊<span style='color:blue'>樹</span>一樣傲然挺立的<span style='color:blue'>守</span>衛他們家鄉的<span style='color:blue'>哨</span>兵！難道你又不更遠一點想到<span style='color:blue'>這</span>樣<span style='color:blue'>枝</span><span style='color:blue'>枝</span>葉葉靠緊團結，力求<span style='color:blue'>上</span>進的白楊<span style='color:blue'>樹</span>，宛然象<span style='color:blue'>徵</span>了今天在華北平原縱橫決蕩用血寫<span style='color:blue'>出</span>新<span style='color:blue'>中</span>國歷<span style='color:blue'>史</span>的那<span style='color:blue'>種</span>精<span style='color:blue'>神</span>和意<span style='color:blue'>志</span>。"
      ],
      "text/plain": [
       "<IPython.core.display.Markdown object>"
      ]
     },
     "metadata": {},
     "output_type": "display_data"
    }
   ],
   "source": [
    "def zhchsh_in_passage(passage): \n",
    "    for py, ch in passage:\n",
    "        if py.startswith(\"zh\") or py.startswith(\"ch\") or py.startswith(\"sh\"):\n",
    "            print(ch, py)\n",
    "            \n",
    "#zhchsh_in_passage(passages[passage_no-1])\n",
    "\n",
    "def highlight_zhchsh_in_passage(passage):\n",
    "    result = \"\"\n",
    "    for py, ch in passage:\n",
    "        if py.startswith(\"zh\") or py.startswith(\"ch\") or py.startswith(\"sh\"):\n",
    "            result += formatmd(ch, 'blue')\n",
    "        else:\n",
    "            result += ch\n",
    "            \n",
    "    display(Markdown(result)) \n",
    "            \n",
    "highlight_zhchsh_in_passage(passages[passage_no-1])"
   ]
  },
  {
   "cell_type": "code",
   "execution_count": 123,
   "metadata": {},
   "outputs": [
    {
     "data": {
      "text/markdown": [
       "那<span style='color:green'>是</span>力<span style='color:green'>爭</span><span style='color:green'>上</span>游的一<span style='color:green'>種</span><span style='color:green'>樹</span>，筆<span style='color:green'>直</span>的幹，筆<span style='color:green'>直</span>的<span style='color:green'>枝</span>。它的幹呢，通<span style='color:green'>常</span><span style='color:green'>是</span><span style='color:green'>丈</span>把高，像<span style='color:green'>是</span>加以人工<span style='color:green'>似</span>的，一<span style='color:green'>丈</span>以內，絕無旁<span style='color:green'>枝</span>；它<span style='color:blue'>所</span>有的椏<span style='color:green'>枝</span>呢，一律向<span style='color:green'>上</span>，而且緊緊靠攏，也像<span style='color:green'>是</span>加以人工<span style='color:green'>似</span>的，<span style='color:green'>成</span>為一<span style='color:green'>束</span>，絕無橫斜逸<span style='color:green'>出</span>；它的寬大的葉<span style='color:blue'>子</span>也<span style='color:green'>是</span>片片向<span style='color:green'>上</span>，幾乎沒有斜<span style='color:green'>生</span>的，更不用<span style='color:green'>說</span>倒<span style='color:green'>垂</span>了；它的皮，光滑而有銀<span style='color:blue'>色</span>的暈圈，微微泛<span style='color:green'>出</span>淡青<span style='color:blue'>色</span>。<span style='color:green'>這</span><span style='color:green'>是</span><span style='color:blue'>雖</span><span style='color:blue'>在</span>北方的風雪的壓迫下卻保<span style='color:green'>持</span><span style='color:green'>着</span>倔強挺立的一<span style='color:green'>種</span><span style='color:green'>樹</span>！哪怕<span style='color:green'>只</span>有碗來<span style='color:blue'>粗</span>細罷，它卻努力向<span style='color:green'>上</span>發<span style='color:green'>展</span>，高到<span style='color:green'>丈</span>許，兩<span style='color:green'>丈</span>，<span style='color:blue'>參</span>天<span style='color:blue'>聳</span>立，不<span style='color:green'>折</span>不撓，對抗<span style='color:green'>着</span>西北風。<span style='color:green'>這</span>就<span style='color:green'>是</span>白楊<span style='color:green'>樹</span>，西北極普通的一<span style='color:green'>種</span><span style='color:green'>樹</span>，然而決不<span style='color:green'>是</span>平凡的<span style='color:green'>樹</span>！它沒有婆<span style='color:blue'>娑</span>的<span style='color:blue'>姿</span>態，沒有屈曲盤旋的虯<span style='color:green'>枝</span>，也許你要<span style='color:green'>說</span>它不美麗， ──如果美<span style='color:green'>是</span><span style='color:green'>專</span><span style='color:green'>指</span>“婆<span style='color:blue'>娑</span>”或“橫斜逸<span style='color:green'>出</span>”<span style='color:green'>之</span>類而言，那麼，白楊<span style='color:green'>樹</span><span style='color:blue'>算</span>不得<span style='color:green'>樹</span><span style='color:green'>中</span>的好女<span style='color:blue'>子</span>；但<span style='color:green'>是</span>它卻<span style='color:green'>是</span>偉岸，<span style='color:green'>正</span><span style='color:green'>直</span>，樸<span style='color:green'>質</span>，嚴<span style='color:blue'>肅</span>，也不缺乏溫和，更不用提它的堅強不屈與挺拔，它<span style='color:green'>是</span><span style='color:green'>樹</span><span style='color:green'>中</span>的偉<span style='color:green'>丈</span>夫！當你<span style='color:blue'>在</span>積雪<span style='color:green'>初</span>融的高原<span style='color:green'>上</span><span style='color:blue'>走</span>過，看見平坦的大地<span style='color:green'>上</span>傲然挺立<span style='color:green'>這</span>麼一<span style='color:green'>株</span>或一排白楊<span style='color:green'>樹</span>，難道你就<span style='color:green'>只</span>覺得<span style='color:green'>樹</span><span style='color:green'>只</span><span style='color:green'>是</span><span style='color:green'>樹</span>，難道你就不想到它的樸<span style='color:green'>質</span>，嚴<span style='color:blue'>肅</span>，堅強不屈，<span style='color:green'>至</span><span style='color:green'>少</span>也象<span style='color:green'>徵</span>了北方的農民；難道你竟一點兒也不聯想到，<span style='color:blue'>在</span>敵後的廣大土//地<span style='color:green'>上</span>，到<span style='color:green'>處</span>有堅強不屈，就像<span style='color:green'>這</span>白楊<span style='color:green'>樹</span>一樣傲然挺立的<span style='color:green'>守</span>衛他們家鄉的<span style='color:green'>哨</span>兵！難道你又不更遠一點想到<span style='color:green'>這</span>樣<span style='color:green'>枝</span><span style='color:green'>枝</span>葉葉靠緊團結，力求<span style='color:green'>上</span>進的白楊<span style='color:green'>樹</span>，宛然象<span style='color:green'>徵</span>了今天<span style='color:blue'>在</span>華北平原<span style='color:blue'>縱</span>橫決蕩用血寫<span style='color:green'>出</span>新<span style='color:green'>中</span>國歷<span style='color:green'>史</span>的那<span style='color:green'>種</span>精<span style='color:green'>神</span>和意<span style='color:green'>志</span>。"
      ],
      "text/plain": [
       "<IPython.core.display.Markdown object>"
      ]
     },
     "metadata": {},
     "output_type": "display_data"
    }
   ],
   "source": [
    "def highlight_zcs_zhchsh_in_passage(passage):\n",
    "    result = \"\"\n",
    "    for py, ch in passage:\n",
    "        if ((py.startswith(\"z\") or py.startswith(\"c\") or py.startswith(\"s\"))\n",
    "          and not(py.startswith(\"zh\") or py.startswith(\"ch\") or py.startswith(\"sh\"))):\n",
    "            result += formatmd(ch, 'blue')\n",
    "        elif py.startswith(\"zh\") or py.startswith(\"ch\") or py.startswith(\"sh\"):\n",
    "            result += formatmd(ch, 'green')\n",
    "        else:\n",
    "            result += ch\n",
    "            \n",
    "    display(Markdown(result)) \n",
    "            \n",
    "highlight_zcs_zhchsh_in_passage(passages[passage_no-1])"
   ]
  },
  {
   "cell_type": "markdown",
   "metadata": {},
   "source": [
    "### 多音字"
   ]
  },
  {
   "cell_type": "code",
   "execution_count": 114,
   "metadata": {},
   "outputs": [
    {
     "data": {
      "text/markdown": [
       "兩個同齡<span style='color:red'>的</span>年輕人同時受於一家店且拿同樣<span style='color:red'>的</span>薪水可是一段時<span style='color:red'>間</span>後叫<span style='color:red'>阿</span>諾德<span style='color:red'>的</span>那個小伙子青雲直<span style='color:red'>上</span>而那個叫布魯諾<span style='color:red'>的</span>小伙子卻仍在原地踏步布魯諾很不滿意老闆<span style='color:red'>的</span>不公<span style='color:red'>正</span><span style='color:red'>待</span>遇終於有一天他到老闆<span style='color:red'>發</span>牢騷了老闆一邊耐心地聽他<span style='color:red'>的</span>抱怨一邊在心裏盤算怎樣向他<span style='color:red'>解</span>釋清楚他<span style='color:red'>和</span><span style='color:red'>阿</span>諾德之<span style='color:red'>間</span><span style='color:red'>的</span><span style='color:red'>差</span><span style='color:red'>別</span>布魯諾先生老闆開口說話了您現在到集市<span style='color:red'>上</span>去一下<span style='color:red'>看</span><span style='color:red'>看</span>今天早<span style='color:red'>上</span>有<span style='color:red'>什</span>麼賣<span style='color:red'>的</span>布魯諾從集市<span style='color:red'>上</span>回來向老闆匯報說今早集市<span style='color:red'>上</span>只有一個農民<span style='color:red'>拉</span>了一<span style='color:red'>車</span>土豆在賣有多<span style='color:red'>少</span>老闆問布魯諾趕快戴<span style='color:red'>上</span>帽子又跑到集<span style='color:red'>上</span>然後回來告訴老闆一共四十袋土豆價格是多<span style='color:red'>少</span>布魯諾又第三次跑到集<span style='color:red'>上</span>問來了價格<span style='color:red'>好</span>吧老闆對他說現在請您坐到這<span style='color:red'>把</span>椅子<span style='color:red'>上</span>一句話也不<span style='color:red'>要</span>說<span style='color:red'>看</span><span style='color:red'>看</span><span style='color:red'>阿</span>諾德怎麼說<span style='color:red'>阿</span>諾德很快就從集市<span style='color:red'>上</span>回來了向老闆匯報說到現在<span style='color:red'>為</span>止只有一個農民在賣土豆一共四十口袋價格是多<span style='color:red'>少</span>多<span style='color:red'>少</span>土豆質<span style='color:red'>量</span>很不錯他帶回來一個讓老闆<span style='color:red'>看</span><span style='color:red'>看</span>這個農民一個鐘頭以後<span style='color:red'>還</span><span style='color:red'>會</span>弄來<span style='color:red'>幾</span>箱西紅柿據他<span style='color:red'>看</span>價格非常公道昨天他們子<span style='color:red'>的</span>西紅柿賣<span style='color:red'>得</span>很快庫存已經不多了他想這麼<span style='color:red'>便</span>宜<span style='color:red'>的</span>西紅柿老闆肯定<span style='color:red'>會</span><span style='color:red'>要</span>進一些<span style='color:red'>的</span>所以他不僅帶回了一個西紅柿做樣品而且<span style='color:red'>把</span>那個農民也帶來了他現在<span style='color:red'>正</span>在外面等回話呢此時老闆<span style='color:red'>轉</span>向了布魯諾說現在您肯定知道<span style='color:red'>為</span><span style='color:red'>什</span>麼<span style='color:red'>阿</span>諾德<span style='color:red'>的</span>薪水比您高了吧"
      ],
      "text/plain": [
       "<IPython.core.display.Markdown object>"
      ]
     },
     "metadata": {},
     "output_type": "display_data"
    }
   ],
   "source": [
    "def multiple_sound_in_passage(passage):\n",
    "    for py, ch in passage:\n",
    "        if ch in char_dict:\n",
    "            p_dict = char_dict[ch]\n",
    "            if len(p_dict.keys()) > 1:\n",
    "                print(ch, py, list(p_dict.keys()))\n",
    "\n",
    "# multiple_sound_in_passage(passages[passage_no-1])\n",
    "\n",
    "def highlight_multiple_sound_in_passage(passage):\n",
    "    result = \"\"\n",
    "    for py, ch in passage:\n",
    "        if ch in char_dict:\n",
    "            p_dict = char_dict[ch]\n",
    "            valid_cnt = 0\n",
    "            for key in p_dict.keys():\n",
    "                if character_tone(key) >0:\n",
    "                    valid_cnt = valid_cnt+1\n",
    "            \n",
    "            if valid_cnt > 1:\n",
    "                result += formatmd(ch, 'red')\n",
    "            else:\n",
    "                result += ch\n",
    "            \n",
    "    display(Markdown(result)) \n",
    "            \n",
    "highlight_multiple_sound_in_passage(passages[passage_no-1])"
   ]
  },
  {
   "cell_type": "code",
   "execution_count": 30,
   "metadata": {},
   "outputs": [
    {
     "data": {
      "text/plain": [
       "{'qiè': [[('密', 'mì'), ('切', 'qiè')],\n",
       "  [('迫', 'pò'), ('切', 'qiè')],\n",
       "  [('切', 'qiè'), ('實', 'shí')],\n",
       "  [('親', 'qīn'), ('切', 'qiè')],\n",
       "  [('確', 'què'), ('切', 'qiè')],\n",
       "  [('一', 'yī'), ('切', 'qiè')],\n",
       "  [('懇', 'kěn'), ('切', 'qiè')],\n",
       "  [('切', 'qiè'), ('合', 'hé')],\n",
       "  [('切', 'qiè'), ('忌', 'jì')],\n",
       "  [('切', 'qiè'), ('身', 'shēn')],\n",
       "  [('熱', 'rè'), ('切', 'qiè')],\n",
       "  [('深', 'shēn'), ('切', 'qiè')],\n",
       "  [('殷', 'yīn'), ('切', 'qiè')],\n",
       "  [('真', 'zhēn'), ('切', 'qiè')]],\n",
       " 'qiē': [[('切', 'qiē')],\n",
       "  [('切', 'qiē')],\n",
       "  [('關', 'guān'), ('切', 'qiē')],\n",
       "  [('急', 'jí'), ('切', 'qiē')],\n",
       "  [('切', 'qiē'), ('除', 'chú')],\n",
       "  [('切', 'qiē'), ('磋', 'cuō')],\n",
       "  [('切', 'qiē'), ('點', 'diǎn')],\n",
       "  [('切', 'qiē'), ('割', 'gē')],\n",
       "  [('切', 'qiē'), ('口', 'kǒu')],\n",
       "  [('切', 'qiē'), ('麵', 'miàn')],\n",
       "  [('切', 'qiē'), ('片', 'piàn')],\n",
       "  [('切', 'qiē'), ('綫', 'xiàn')],\n",
       "  [('貼', 'tiē'), ('切', 'qiē')],\n",
       "  [('心', 'xīn'), ('切', 'qiē')]]}"
      ]
     },
     "execution_count": 30,
     "metadata": {},
     "output_type": "execute_result"
    }
   ],
   "source": [
    "char_dict['切']"
   ]
  },
  {
   "cell_type": "markdown",
   "metadata": {},
   "source": [
    "### 兒化音"
   ]
  },
  {
   "cell_type": "code",
   "execution_count": 115,
   "metadata": {},
   "outputs": [
    {
     "data": {
      "text/markdown": [
       "兩個同齡的年輕人同時受僱於一家店舖，並且拿同樣的薪水。可是一段時間後，叫阿諾德的那個小伙子青雲直上，<span style='color:red'>而</span>那個叫布魯諾的小伙子卻仍在原地踏步。布魯諾很不滿意老闆的不公正待遇。終於有一天他到老闆<span style='color:red'>那兒</span>發牢騷了。老闆一邊耐心地聽着他的抱怨，一邊在心裏盤算着怎樣向他解釋清楚他和阿諾德之間的差別。“布魯諾先生， ”老闆開口說話了， “您現在到集市上去一下，看看今天早上有什麼賣的。 ”布魯諾從集市上回來向老闆匯報說，今早集市上只有一個農民拉了一車土豆在賣。“有多少？ ”老闆問。布魯諾趕快戴上帽子又跑到集上，然後回來告訴老闆一共四十袋土豆。“價格是多少？ ”布魯諾又第三次跑到集上問來了價格。好吧， ”老闆對他說， “現在請您坐到這把椅子上一句話也不要說，看看阿諾德怎麼說。 ”阿諾德很快就從集市上回來了。向老闆匯報說到現在為止只有一個農民在賣土豆，一共四十口袋，價格是多少多少；土豆質量很不錯，他帶回來一個讓老闆看看。這個農民一個鐘頭以後還會弄來幾箱西紅柿，據他看價格非常公道。昨天他們舖子的西紅柿賣得很快，庫存已經不//多了。他想這麼便宜的西紅柿，老闆肯定會要進一些的，所以他不僅帶回了一個西紅柿做樣品，<span style='color:red'>而</span>且把那個農民也帶來了，他現在正在外面等回話呢。此時老闆轉向了布魯諾，說： “現在您肯定知道為什麼阿諾德的薪水比您高了吧！ ”"
      ],
      "text/plain": [
       "<IPython.core.display.Markdown object>"
      ]
     },
     "metadata": {},
     "output_type": "display_data"
    }
   ],
   "source": [
    "def r_in_passage(passage): \n",
    "    for py, ch in passage:\n",
    "        if py.endswith(\"r\"):\n",
    "            print(ch, py)\n",
    "            \n",
    "#r_in_passage(passages[passage_no-1])\n",
    "\n",
    "def highlight_r_in_passage(passage):\n",
    "    result = \"\"\n",
    "    for py, ch in passage:\n",
    "        if py.endswith(\"r\"):\n",
    "            result += formatmd(ch, 'red')\n",
    "        else:\n",
    "            result += ch\n",
    "            \n",
    "    display(Markdown(result)) \n",
    "            \n",
    "highlight_r_in_passage(passages[passage_no-1])"
   ]
  },
  {
   "cell_type": "markdown",
   "metadata": {},
   "source": [
    "### 前鼻音"
   ]
  },
  {
   "cell_type": "code",
   "execution_count": 28,
   "metadata": {},
   "outputs": [
    {
     "data": {
      "text/markdown": [
       "我在加拿大學習期<span style='color:red'>間</span>遇到過兩次募<span style='color:red'>捐</span>，那情景至<span style='color:red'>今</span>使我<span style='color:red'>難</span>以忘懷。一<span style='color:red'>天</span>，我在渥太華的街上被兩個<span style='color:red'>男</span>孩子<span style='color:red'>攔</span>住去路，他<span style='color:red'>們</span>十來歲，<span style='color:red'>穿</span>得整整齊齊，每<span style='color:red'>人</span>頭上戴着個做工精巧、色彩<span style='color:red'>鮮</span><span style='color:red'>豔</span>的紙帽，上<span style='color:red'>面</span>寫着“為幫助<span style='color:red'>患</span>小兒麻痹的夥<span style='color:red'>伴</span>募<span style='color:red'>捐</span>” 。其中的一個，不由<span style='color:red'>分</span>說就坐在小凳上給我擦起皮鞋來，另一個則<span style='color:red'>彬</span><span style='color:red'>彬</span>有禮地發<span style='color:red'>問</span>： “小姐，<span style='color:red'>您</span>是哪國<span style='color:red'>人</span>？喜<span style='color:red'>歡</span>渥太華嗎？ ” “小姐，在你<span style='color:red'>們</span>國家有沒有小孩兒<span style='color:red'>患</span>小兒麻痹？誰給他<span style='color:red'>們</span>醫療費？ ”一<span style='color:red'>連</span><span style='color:red'>串</span>的<span style='color:red'>問</span>題，使我這個有生以來頭一次在眾目睽睽之下讓別<span style='color:red'>人</span>擦鞋的異鄉<span style='color:red'>人</span>，從<span style='color:red'>近</span>乎狼狽的窘態中解脫出來。我<span style='color:red'>們</span>像朋友一樣聊起天兒來……幾個月之後，也是在街上。一些十字路口處或車<span style='color:red'>站</span>坐着幾位老<span style='color:red'>人</span>。他<span style='color:red'>們</span><span style='color:red'>滿</span>頭<span style='color:red'>銀</span>髮，<span style='color:red'>身</span><span style='color:red'>穿</span>各種老式<span style='color:red'>軍</span>裝，上<span style='color:red'>面</span>佈<span style='color:red'>滿</span>了大大小小形形色色的徽章、獎章，每<span style='color:red'>人</span>手捧一大束<span style='color:red'>鮮</span>花，有水<span style='color:red'>仙</span>、石竹、玫瑰及叫不出名字的，一色雪白。匆匆過往的行<span style='color:red'>人</span><span style='color:red'>紛</span><span style='color:red'>紛</span>止步，把<span style='color:red'>錢</span>投<span style='color:red'>進</span>這些老<span style='color:red'>人</span><span style='color:red'>身</span>旁的白色木箱內，<span style='color:red'>然</span>後向他<span style='color:red'>們</span>微微鞠躬，從他<span style='color:red'>們</span>手中接過一朵花。我<span style='color:red'>看</span>了一會兒，有<span style='color:red'>人</span>投一兩<span style='color:red'>元</span>，有<span style='color:red'>人</span>投幾百<span style='color:red'>元</span>，還有<span style='color:red'>人</span>掏出支票<span style='color:red'>填</span>好後投<span style='color:red'>進</span>木箱。那些老<span style='color:red'>軍</span><span style='color:red'>人</span>毫不注意<span style='color:red'>人</span><span style='color:red'>們</span><span style='color:red'>捐</span>多少<span style='color:red'>錢</span>，一直不//停地向<span style='color:red'>人</span><span style='color:red'>們</span>低聲道謝。同行的朋友告訴我，這是為紀<span style='color:red'>念</span>二次大<span style='color:red'>戰</span>中<span style='color:red'>參</span><span style='color:red'>戰</span>的勇士，募<span style='color:red'>捐</span>救濟<span style='color:red'>殘</span>廢<span style='color:red'>軍</span><span style='color:red'>人</span>和烈士遺孀，每<span style='color:red'>年</span>一次；<span style='color:red'>認</span><span style='color:red'>捐</span>的<span style='color:red'>人</span>可謂踴躍，而且秩序井<span style='color:red'>然</span>，氣<span style='color:red'>氛</span>莊<span style='color:red'>嚴</span>。有些地方，<span style='color:red'>人</span><span style='color:red'>們</span>還耐<span style='color:red'>心</span>地排着隊。我想，這是<span style='color:red'>因</span>為他<span style='color:red'>們</span>都知道：正是這些老<span style='color:red'>人</span><span style='color:red'>們</span>的流血犧牲<span style='color:red'>換</span>來了包括他<span style='color:red'>們</span><span style='color:red'>信</span>仰自由在內的許許多多。我兩次把那微不足道的一點兒<span style='color:red'>錢</span>捧給他<span style='color:red'>們</span>，只想對他<span style='color:red'>們</span>說聲“謝謝” 。"
      ],
      "text/plain": [
       "<IPython.core.display.Markdown object>"
      ]
     },
     "metadata": {},
     "output_type": "display_data"
    }
   ],
   "source": [
    "def n_in_passage(passage): \n",
    "    for py, ch in passage:\n",
    "        if py.endswith(\"n\"):\n",
    "            print(ch, py)\n",
    "            \n",
    "#n_in_passage(passages[passage_no-1])\n",
    "\n",
    "def highlight_n_in_passage(passage):\n",
    "    result = \"\"\n",
    "    for py, ch in passage:\n",
    "        if py.endswith(\"n\"):\n",
    "            result += formatmd(ch, 'red')\n",
    "        else:\n",
    "            result += ch\n",
    "            \n",
    "    display(Markdown(result)) \n",
    "            \n",
    "highlight_n_in_passage(passages[passage_no-1])"
   ]
  },
  {
   "cell_type": "markdown",
   "metadata": {},
   "source": [
    "### 後鼻音"
   ]
  },
  {
   "cell_type": "code",
   "execution_count": 29,
   "metadata": {},
   "outputs": [
    {
     "data": {
      "text/markdown": [
       "我在加拿大學習期間遇到過<span style='color:red'>兩</span>次募捐，那<span style='color:red'>情</span><span style='color:red'>景</span>至今使我難以<span style='color:red'>忘</span>懷。一天，我在渥太華的街<span style='color:red'>上</span>被<span style='color:red'>兩</span>個男孩子攔住去路，他們十來歲，穿得<span style='color:red'>整</span><span style='color:red'>整</span>齊齊，每人頭<span style='color:red'>上</span>戴着個做<span style='color:red'>工</span><span style='color:red'>精</span>巧、色彩鮮豔的紙帽，<span style='color:red'>上</span>面寫着“為<span style='color:red'>幫</span>助患小兒麻痹的夥伴募捐” 。其<span style='color:red'>中</span>的一個，不由分說就坐在小<span style='color:red'>凳</span><span style='color:red'>上</span>給我擦起皮鞋來，<span style='color:red'>另</span>一個則彬彬有禮地發問： “小姐，您是哪國人？喜歡渥太華嗎？ ” “小姐，在你們國家有沒有小孩兒患小兒麻痹？誰給他們醫療費？ ”一連串的問題，使我這個有<span style='color:red'>生</span>以來頭一次在<span style='color:red'>眾</span>目睽睽之下<span style='color:red'>讓</span>別人擦鞋的異<span style='color:red'>鄉</span>人，<span style='color:red'>從</span>近乎<span style='color:red'>狼</span>狽的<span style='color:red'>窘</span>態<span style='color:red'>中</span>解脫出來。我們<span style='color:red'>像</span><span style='color:red'>朋</span>友一<span style='color:red'>樣</span>聊起天兒來……幾個月之後，也是在街<span style='color:red'>上</span>。一些十字路口處或車站坐着幾位老人。他們滿頭銀髮，身穿各<span style='color:red'>種</span>老式軍<span style='color:red'>裝</span>，<span style='color:red'>上</span>面佈滿了大大小小<span style='color:red'>形</span><span style='color:red'>形</span>色色的徽<span style='color:red'>章</span>、<span style='color:red'>獎</span><span style='color:red'>章</span>，每人手<span style='color:red'>捧</span>一大束鮮花，有水仙、石竹、玫瑰及叫不出<span style='color:red'>名</span>字的，一色雪白。<span style='color:red'>匆</span><span style='color:red'>匆</span>過<span style='color:red'>往</span>的<span style='color:red'>行</span>人紛紛止步，把錢投進這些老人身<span style='color:red'>旁</span>的白色木<span style='color:red'>箱</span>內，然後<span style='color:red'>向</span>他們微微鞠<span style='color:red'>躬</span>，<span style='color:red'>從</span>他們手<span style='color:red'>中</span>接過一朵花。我看了一會兒，有人投一<span style='color:red'>兩</span>元，有人投幾百元，還有人掏出支票填好後投進木<span style='color:red'>箱</span>。那些老軍人毫不注意人們捐多少錢，一直不//<span style='color:red'>停</span>地<span style='color:red'>向</span>人們低<span style='color:red'>聲</span>道謝。<span style='color:red'>同</span><span style='color:red'>行</span>的<span style='color:red'>朋</span>友告訴我，這是為紀念二次大戰<span style='color:red'>中</span>參戰的<span style='color:red'>勇</span>士，募捐救濟殘廢軍人和烈士遺<span style='color:red'>孀</span>，每年一次；認捐的人可謂<span style='color:red'>踴</span>躍，而且秩序<span style='color:red'>井</span>然，氣氛<span style='color:red'>莊</span>嚴。有些地<span style='color:red'>方</span>，人們還耐心地排着隊。我<span style='color:red'>想</span>，這是因為他們都知道：<span style='color:red'>正</span>是這些老人們的流血犧<span style='color:red'>牲</span>換來了包括他們信<span style='color:red'>仰</span>自由在內的許許多多。我<span style='color:red'>兩</span>次把那微不足道的一點兒錢<span style='color:red'>捧</span>給他們，只<span style='color:red'>想</span>對他們說<span style='color:red'>聲</span>“謝謝” 。"
      ],
      "text/plain": [
       "<IPython.core.display.Markdown object>"
      ]
     },
     "metadata": {},
     "output_type": "display_data"
    }
   ],
   "source": [
    "def ng_in_passage(passage): \n",
    "    for py, ch in passage:\n",
    "        if py.endswith(\"ng\"):\n",
    "            print(ch, py)\n",
    "            \n",
    "#ng_in_passage(passages[passage_no-1])\n",
    "\n",
    "def highlight_ng_in_passage(passage):\n",
    "    result = \"\"\n",
    "    for py, ch in passage:\n",
    "        if py.endswith(\"ng\"):\n",
    "            result += formatmd(ch, 'red')\n",
    "        else:\n",
    "            result += ch\n",
    "            \n",
    "    display(Markdown(result)) \n",
    "            \n",
    "highlight_ng_in_passage(passages[passage_no-1])"
   ]
  },
  {
   "cell_type": "code",
   "execution_count": 30,
   "metadata": {},
   "outputs": [
    {
     "data": {
      "text/markdown": [
       "我在加拿大學習期<span style='color:green'>間</span>遇到過<span style='color:blue'>兩</span>次募<span style='color:green'>捐</span>，那<span style='color:blue'>情</span><span style='color:blue'>景</span>至<span style='color:green'>今</span>使我<span style='color:green'>難</span>以<span style='color:blue'>忘</span>懷。一<span style='color:green'>天</span>，我在渥太華的街<span style='color:blue'>上</span>被<span style='color:blue'>兩</span>個<span style='color:green'>男</span>孩子<span style='color:green'>攔</span>住去路，他<span style='color:green'>們</span>十來歲，<span style='color:green'>穿</span>得<span style='color:blue'>整</span><span style='color:blue'>整</span>齊齊，每<span style='color:green'>人</span>頭<span style='color:blue'>上</span>戴着個做<span style='color:blue'>工</span><span style='color:blue'>精</span>巧、色彩<span style='color:green'>鮮</span><span style='color:green'>豔</span>的紙帽，<span style='color:blue'>上</span><span style='color:green'>面</span>寫着“為<span style='color:blue'>幫</span>助<span style='color:green'>患</span>小兒麻痹的夥<span style='color:green'>伴</span>募<span style='color:green'>捐</span>” 。其<span style='color:blue'>中</span>的一個，不由<span style='color:green'>分</span>說就坐在小<span style='color:blue'>凳</span><span style='color:blue'>上</span>給我擦起皮鞋來，<span style='color:blue'>另</span>一個則<span style='color:green'>彬</span><span style='color:green'>彬</span>有禮地發<span style='color:green'>問</span>： “小姐，<span style='color:green'>您</span>是哪國<span style='color:green'>人</span>？喜<span style='color:green'>歡</span>渥太華嗎？ ” “小姐，在你<span style='color:green'>們</span>國家有沒有小孩兒<span style='color:green'>患</span>小兒麻痹？誰給他<span style='color:green'>們</span>醫療費？ ”一<span style='color:green'>連</span><span style='color:green'>串</span>的<span style='color:green'>問</span>題，使我這個有<span style='color:blue'>生</span>以來頭一次在<span style='color:blue'>眾</span>目睽睽之下<span style='color:blue'>讓</span>別<span style='color:green'>人</span>擦鞋的異<span style='color:blue'>鄉</span><span style='color:green'>人</span>，<span style='color:blue'>從</span><span style='color:green'>近</span>乎<span style='color:blue'>狼</span>狽的<span style='color:blue'>窘</span>態<span style='color:blue'>中</span>解脫出來。我<span style='color:green'>們</span><span style='color:blue'>像</span><span style='color:blue'>朋</span>友一<span style='color:blue'>樣</span>聊起天兒來……幾個月之後，也是在街<span style='color:blue'>上</span>。一些十字路口處或車<span style='color:green'>站</span>坐着幾位老<span style='color:green'>人</span>。他<span style='color:green'>們</span><span style='color:green'>滿</span>頭<span style='color:green'>銀</span>髮，<span style='color:green'>身</span><span style='color:green'>穿</span>各<span style='color:blue'>種</span>老式<span style='color:green'>軍</span><span style='color:blue'>裝</span>，<span style='color:blue'>上</span><span style='color:green'>面</span>佈<span style='color:green'>滿</span>了大大小小<span style='color:blue'>形</span><span style='color:blue'>形</span>色色的徽<span style='color:blue'>章</span>、<span style='color:blue'>獎</span><span style='color:blue'>章</span>，每<span style='color:green'>人</span>手<span style='color:blue'>捧</span>一大束<span style='color:green'>鮮</span>花，有水<span style='color:green'>仙</span>、石竹、玫瑰及叫不出<span style='color:blue'>名</span>字的，一色雪白。<span style='color:blue'>匆</span><span style='color:blue'>匆</span>過<span style='color:blue'>往</span>的<span style='color:blue'>行</span><span style='color:green'>人</span><span style='color:green'>紛</span><span style='color:green'>紛</span>止步，把<span style='color:green'>錢</span>投<span style='color:green'>進</span>這些老<span style='color:green'>人</span><span style='color:green'>身</span><span style='color:blue'>旁</span>的白色木<span style='color:blue'>箱</span>內，<span style='color:green'>然</span>後<span style='color:blue'>向</span>他<span style='color:green'>們</span>微微鞠<span style='color:blue'>躬</span>，<span style='color:blue'>從</span>他<span style='color:green'>們</span>手<span style='color:blue'>中</span>接過一朵花。我<span style='color:green'>看</span>了一會兒，有<span style='color:green'>人</span>投一<span style='color:blue'>兩</span><span style='color:green'>元</span>，有<span style='color:green'>人</span>投幾百<span style='color:green'>元</span>，還有<span style='color:green'>人</span>掏出支票<span style='color:green'>填</span>好後投<span style='color:green'>進</span>木<span style='color:blue'>箱</span>。那些老<span style='color:green'>軍</span><span style='color:green'>人</span>毫不注意<span style='color:green'>人</span><span style='color:green'>們</span><span style='color:green'>捐</span>多少<span style='color:green'>錢</span>，一直不//<span style='color:blue'>停</span>地<span style='color:blue'>向</span><span style='color:green'>人</span><span style='color:green'>們</span>低<span style='color:blue'>聲</span>道謝。<span style='color:blue'>同</span><span style='color:blue'>行</span>的<span style='color:blue'>朋</span>友告訴我，這是為紀<span style='color:green'>念</span>二次大<span style='color:green'>戰</span><span style='color:blue'>中</span><span style='color:green'>參</span><span style='color:green'>戰</span>的<span style='color:blue'>勇</span>士，募<span style='color:green'>捐</span>救濟<span style='color:green'>殘</span>廢<span style='color:green'>軍</span><span style='color:green'>人</span>和烈士遺<span style='color:blue'>孀</span>，每<span style='color:green'>年</span>一次；<span style='color:green'>認</span><span style='color:green'>捐</span>的<span style='color:green'>人</span>可謂<span style='color:blue'>踴</span>躍，而且秩序<span style='color:blue'>井</span><span style='color:green'>然</span>，氣<span style='color:green'>氛</span><span style='color:blue'>莊</span><span style='color:green'>嚴</span>。有些地<span style='color:blue'>方</span>，<span style='color:green'>人</span><span style='color:green'>們</span>還耐<span style='color:green'>心</span>地排着隊。我<span style='color:blue'>想</span>，這是<span style='color:green'>因</span>為他<span style='color:green'>們</span>都知道：<span style='color:blue'>正</span>是這些老<span style='color:green'>人</span><span style='color:green'>們</span>的流血犧<span style='color:blue'>牲</span><span style='color:green'>換</span>來了包括他<span style='color:green'>們</span><span style='color:green'>信</span><span style='color:blue'>仰</span>自由在內的許許多多。我<span style='color:blue'>兩</span>次把那微不足道的一點兒<span style='color:green'>錢</span><span style='color:blue'>捧</span>給他<span style='color:green'>們</span>，只<span style='color:blue'>想</span>對他<span style='color:green'>們</span>說<span style='color:blue'>聲</span>“謝謝” 。"
      ],
      "text/plain": [
       "<IPython.core.display.Markdown object>"
      ]
     },
     "metadata": {},
     "output_type": "display_data"
    }
   ],
   "source": [
    "def highlight_g_ng_in_passage(passage):\n",
    "    result = \"\"\n",
    "    for py, ch in passage:\n",
    "        if py.endswith(\"n\"):\n",
    "            result += formatmd(ch, 'green')\n",
    "        elif py.endswith(\"ng\"):\n",
    "            result += formatmd(ch, 'blue')\n",
    "        else:\n",
    "            result += ch\n",
    "            \n",
    "    display(Markdown(result)) \n",
    "            \n",
    "highlight_g_ng_in_passage(passages[passage_no-1])"
   ]
  },
  {
   "cell_type": "markdown",
   "metadata": {},
   "source": [
    "### n/l 音分別"
   ]
  },
  {
   "cell_type": "code",
   "execution_count": 31,
   "metadata": {},
   "outputs": [
    {
     "data": {
      "text/markdown": [
       "我在加<span style='color:green'>拿</span>大學習期間遇到過<span style='color:blue'>兩</span>次募捐，<span style='color:green'>那</span>情景至今使我<span style='color:green'>難</span>以忘懷。一天，我在渥太華的街上被<span style='color:blue'>兩</span>個<span style='color:green'>男</span>孩子<span style='color:blue'>攔</span>住去<span style='color:blue'>路</span>，他們十<span style='color:blue'>來</span>歲，穿得整整齊齊，每人頭上戴着個做工精巧、色彩鮮豔的紙帽，上面寫着“為幫助患小兒麻痹的夥伴募捐” 。其中的一個，不由分說就坐在小凳上給我擦起皮鞋<span style='color:blue'>來</span>，<span style='color:blue'>另</span>一個則彬彬有<span style='color:blue'>禮</span>地發問： “小姐，<span style='color:green'>您</span>是<span style='color:green'>哪</span>國人？喜歡渥太華嗎？ ” “小姐，在<span style='color:green'>你</span>們國家有沒有小孩兒患小兒麻痹？誰給他們醫<span style='color:blue'>療</span>費？ ”一<span style='color:blue'>連</span>串的問題，使我這個有生以<span style='color:blue'>來</span>頭一次在眾目睽睽之下讓別人擦鞋的異鄉人，從近乎<span style='color:blue'>狼</span>狽的窘態中解脫出<span style='color:blue'>來</span>。我們像朋友一樣<span style='color:blue'>聊</span>起天兒<span style='color:blue'>來</span>……幾個月之後，也是在街上。一些十字<span style='color:blue'>路</span>口處或車站坐着幾位<span style='color:blue'>老</span>人。他們滿頭銀髮，身穿各種<span style='color:blue'>老</span>式軍裝，上面佈滿<span style='color:blue'>了</span>大大小小形形色色的徽章、獎章，每人手捧一大束鮮花，有水仙、石竹、玫瑰及叫不出名字的，一色雪白。匆匆過往的行人紛紛止步，把錢投進這些<span style='color:blue'>老</span>人身旁的白色木箱<span style='color:green'>內</span>，然後向他們微微鞠躬，從他們手中接過一朵花。我看<span style='color:blue'>了</span>一會兒，有人投一<span style='color:blue'>兩</span>元，有人投幾百元，還有人掏出支票填好後投進木箱。<span style='color:green'>那</span>些<span style='color:blue'>老</span>軍人毫不注意人們捐多少錢，一直不//停地向人們低聲道謝。同行的朋友告訴我，這是為紀<span style='color:green'>念</span>二次大戰中參戰的勇士，募捐救濟殘廢軍人和<span style='color:blue'>烈</span>士遺孀，每<span style='color:green'>年</span>一次；認捐的人可謂踴躍，而且秩序井然，氣氛莊嚴。有些地方，人們還<span style='color:green'>耐</span>心地排着隊。我想，這是因為他們都知道：正是這些<span style='color:blue'>老</span>人們的<span style='color:blue'>流</span>血犧牲換<span style='color:blue'>來</span><span style='color:blue'>了</span>包括他們信仰自由在<span style='color:green'>內</span>的許許多多。我<span style='color:blue'>兩</span>次把<span style='color:green'>那</span>微不足道的一點兒錢捧給他們，只想對他們說聲“謝謝” 。"
      ],
      "text/plain": [
       "<IPython.core.display.Markdown object>"
      ]
     },
     "metadata": {},
     "output_type": "display_data"
    }
   ],
   "source": [
    "def highlight_n_l_in_passage(passage):\n",
    "    result = \"\"\n",
    "    for py, ch in passage:\n",
    "        if py.startswith(\"n\"):\n",
    "            result += formatmd(ch, 'green')\n",
    "        elif py.startswith(\"l\"):\n",
    "            result += formatmd(ch, 'blue')\n",
    "        else:\n",
    "            result += ch\n",
    "            \n",
    "    display(Markdown(result)) \n",
    "            \n",
    "highlight_n_l_in_passage(passages[passage_no-1])"
   ]
  },
  {
   "cell_type": "markdown",
   "metadata": {},
   "source": [
    "### 統計\n",
    "\n",
    "* 平舌音字數:翹舌音字數\n",
    "* 前鼻音字數:後鼻音字數\n",
    "* 多音字字數\n",
    "* 一不變調詞數\n",
    "* 去聲變調詞數\n",
    "* 兒化音詞數"
   ]
  },
  {
   "cell_type": "code",
   "execution_count": 181,
   "metadata": {},
   "outputs": [
    {
     "name": "stdout",
     "output_type": "stream",
     "text": [
      "平舌音字數:翹舌音字數 = 30 : 74\n",
      "前鼻音字數:後鼻音字數 = 69 : 45\n",
      "N 音字數: L 音字數 = 15 : 45\n"
     ]
    }
   ],
   "source": [
    "def stats_passage(passage):\n",
    "    zcs_list = []\n",
    "    zhchsh_list = []\n",
    "    n_list = []\n",
    "    ng_list = []\n",
    "    n_list2 = []\n",
    "    l_list = []\n",
    "    \n",
    "    for py, ch in passage:\n",
    "        if ((py.startswith(\"z\") or py.startswith(\"c\") or py.startswith(\"s\"))\n",
    "              and not(py.startswith(\"zh\") or py.startswith(\"ch\") or py.startswith(\"sh\"))):\n",
    "            zcs_list.append(ch)\n",
    "        if py.startswith(\"zh\") or py.startswith(\"ch\") or py.startswith(\"sh\"):\n",
    "            zhchsh_list.append(ch)\n",
    "        if py.endswith(\"n\"):\n",
    "            n_list.append(ch)\n",
    "        if py.endswith(\"ng\"):\n",
    "            ng_list.append(ch)\n",
    "        if py.startswith(\"n\"):\n",
    "            n_list2.append(ch)\n",
    "        if py.startswith(\"l\"):\n",
    "            l_list.append(ch)\n",
    "        \n",
    "    print(\"平舌音字數:翹舌音字數 = %d : %d\" % (len(zcs_list), len(zhchsh_list))) \n",
    "    print(\"前鼻音字數:後鼻音字數 = %d : %d\" % (len(n_list), len(ng_list))) \n",
    "    print(\"N 音字數: L 音字數 = %d : %d\" % (len(n_list2), len(l_list))) \n",
    "    \n",
    "stats_passage(passages[passage_no-1])"
   ]
  },
  {
   "cell_type": "code",
   "execution_count": null,
   "metadata": {
    "collapsed": true
   },
   "outputs": [],
   "source": []
  }
 ],
 "metadata": {
  "kernelspec": {
   "display_name": "Python 3",
   "language": "python",
   "name": "python3"
  },
  "widgets": {
   "state": {},
   "version": "1.1.2"
  }
 },
 "nbformat": 4,
 "nbformat_minor": 2
}
