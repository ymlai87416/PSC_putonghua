{
 "cells": [
  {
   "cell_type": "code",
   "execution_count": 68,
   "metadata": {
    "collapsed": true
   },
   "outputs": [],
   "source": [
    "import pandas as pd\n",
    "from pandas import Series, DataFrame\n",
    "import numpy as np\n",
    "\n",
    "from bs4 import BeautifulSoup\n",
    "from bs4 import BeautifulSoup\n",
    "import json\n",
    "import csv\n",
    "import requests\n",
    "import lxml\n",
    "import re"
   ]
  },
  {
   "cell_type": "code",
   "execution_count": 15,
   "metadata": {
    "collapsed": true
   },
   "outputs": [],
   "source": [
    "def pairwise(iterable):\n",
    "    \"s -> (s0, s1), (s2, s3), (s4, s5), ...\"\n",
    "    a = iter(iterable)\n",
    "    return zip(a, a)\n"
   ]
  },
  {
   "cell_type": "markdown",
   "metadata": {},
   "source": [
    "## 下載普通适水平測試字表\n"
   ]
  },
  {
   "cell_type": "code",
   "execution_count": null,
   "metadata": {
    "collapsed": true
   },
   "outputs": [],
   "source": [
    "def word_one_url_generator():\n",
    "    template = \"http://www.pthxx.com/b_audio/03_zici_1/%02d.html\"\n",
    "    max_pg =66\n",
    "    for i in range(1, max_pg+1):\n",
    "        yield template % i\n",
    "    \n",
    "def word_two_url_generator():\n",
    "    template = \"http://www.pthxx.com/b_audio/04_zici_2/%03d.html\"\n",
    "    max_pg =105\n",
    "    for i in range(1, max_pg+1):\n",
    "        yield template % i"
   ]
  },
  {
   "cell_type": "code",
   "execution_count": null,
   "metadata": {
    "collapsed": true
   },
   "outputs": [],
   "source": [
    "def extract_word_list(url):\n",
    "    result = requests.get(url)\n",
    "    c= result.content\n",
    "    soup = BeautifulSoup((c), \"lxml\")\n",
    "\n",
    "    soup.prettify()\n",
    "\n",
    "    summary = soup.find_all('div',attrs = {'id':re.compile(r'main[0-9]')})\n",
    "    tables = []\n",
    "    for div in summary:\n",
    "        tables_ = div.find_all('table')\n",
    "        tables.extend(tables_)\n",
    "\n",
    "    data =[]\n",
    "\n",
    "    for table in tables:\n",
    "        #print('debug', table)\n",
    "        rows = table.findAll('tr')\n",
    "        for row in table.findAll('tr')[0:]:\n",
    "            for word,pinyin in pairwise(row.findAll('td')[1:]):\n",
    "                data.append((word.text.replace(' ',''), pinyin.text.replace(' ','')))\n",
    "\n",
    "    return data"
   ]
  },
  {
   "cell_type": "code",
   "execution_count": null,
   "metadata": {
    "collapsed": true,
    "scrolled": true
   },
   "outputs": [],
   "source": [
    "word_one_gen = word_one_url_generator()\n",
    "\n",
    "all_data = []\n",
    "for url in word_one_gen:\n",
    "    page_data = extract_word_list(url)\n",
    "    print('debug', url, 'vocab: ', len(page_data))\n",
    "    all_data.extend(page_data)\n",
    "    \n",
    "print(all_data)"
   ]
  },
  {
   "cell_type": "code",
   "execution_count": null,
   "metadata": {
    "collapsed": true
   },
   "outputs": [],
   "source": [
    "with open('./word_one.txt', 'w', newline='', encoding='UTF-8') as myfile:\n",
    "    wr = csv.writer(myfile, quoting=csv.QUOTE_ALL)\n",
    "    for pair in all_data:\n",
    "        wr.writerow(pair)"
   ]
  },
  {
   "cell_type": "code",
   "execution_count": null,
   "metadata": {
    "collapsed": true
   },
   "outputs": [],
   "source": [
    "word_two_gen = word_two_url_generator()\n",
    "\n",
    "all_data = []\n",
    "for url in word_two_gen:\n",
    "    page_data = extract_word_list(url)\n",
    "    print('debug', url, 'vocab: ', len(page_data))\n",
    "    all_data.extend(page_data)\n",
    "    \n",
    "print(all_data)"
   ]
  },
  {
   "cell_type": "code",
   "execution_count": null,
   "metadata": {
    "collapsed": true
   },
   "outputs": [],
   "source": [
    "page_data = extract_word_list(url)\n",
    "print('debug', url, 'vocab: ', len(page_data))\n",
    "all_data.extend(page_data)"
   ]
  },
  {
   "cell_type": "code",
   "execution_count": null,
   "metadata": {
    "collapsed": true
   },
   "outputs": [],
   "source": [
    "for url in word_two_gen:\n",
    "    page_data = extract_word_list(url)\n",
    "    print('debug', url, 'vocab: ', len(page_data))\n",
    "    all_data.extend(page_data)"
   ]
  },
  {
   "cell_type": "code",
   "execution_count": null,
   "metadata": {
    "collapsed": true
   },
   "outputs": [],
   "source": [
    "with open('./word_two.txt', 'w', newline='', encoding='UTF-8') as myfile:\n",
    "    wr = csv.writer(myfile, quoting=csv.QUOTE_ALL)\n",
    "    for pair in all_data:\n",
    "        wr.writerow(pair)"
   ]
  },
  {
   "cell_type": "markdown",
   "metadata": {},
   "source": [
    "## 讀取字表與文章"
   ]
  },
  {
   "cell_type": "code",
   "execution_count": 16,
   "metadata": {
    "collapsed": true
   },
   "outputs": [],
   "source": [
    "import pandas as pd\n",
    "\n",
    "# Read the CSV into a pandas data frame (df)\n",
    "#   With a df you can do many things\n",
    "#   most important: visualize data with Seaborn\n",
    "df = pd.read_csv('./word_one.txt', delimiter=',')\n",
    "\n",
    "# Or export it in many ways, e.g. a list of tuples\n",
    "word_1_list = [tuple(x) for x in df.values]"
   ]
  },
  {
   "cell_type": "code",
   "execution_count": 17,
   "metadata": {
    "collapsed": true
   },
   "outputs": [],
   "source": [
    "df = pd.read_csv('./word_two.txt', delimiter=',')\n",
    "\n",
    "# Or export it in many ways, e.g. a list of tuples\n",
    "word_2_list = [tuple(x) for x in df.values]"
   ]
  },
  {
   "cell_type": "code",
   "execution_count": 18,
   "metadata": {
    "collapsed": true
   },
   "outputs": [],
   "source": [
    "passages = []\n",
    "\n",
    "for i in range(1,61):\n",
    "    with open('./passage/%03d.txt' % i, encoding='UTF-8') as f:\n",
    "        content = f.readlines()\n",
    "    content = [x.strip() for x in content] \n",
    "    ann_list = []\n",
    "    for word,pinyin in pairwise(content):\n",
    "        ann_list.append((word, pinyin))\n",
    "    passages.append(ann_list)"
   ]
  },
  {
   "cell_type": "markdown",
   "metadata": {},
   "source": [
    "## 提取表1,2字的拼音"
   ]
  },
  {
   "cell_type": "code",
   "execution_count": 19,
   "metadata": {
    "collapsed": true
   },
   "outputs": [],
   "source": [
    "a_list = ['a', 'ā', 'á', 'ǎ', 'à']\n",
    "o_list = ['o','ō', 'ó', 'ǒ', 'ò']\n",
    "e_list = ['e', 'ē', 'é', 'ě', 'è']\n",
    "i_list = ['i', 'ī', 'í', 'ǐ', 'ì']\n",
    "u_list = ['u', 'ū', 'ú', 'ǔ', 'ù']\n",
    "yu_list = ['ü', 'ǖ', 'ǘ', 'ǚ', 'ǜ']\n",
    "\n",
    "consonant = ['b', 'p', 'm', 'f', 'd', 't', 'n', 'l', 'g', 'k', 'h', 'j', 'q', 'x', 'zh', 'ch', 'sh', 'r', 'z', 'c', 's', 'y', 'w']\n",
    "sep = '’'\n",
    "vowel = ['a', 'o', 'e', 'ai', 'ei', 'ao', 'ou', 'an', 'en', 'ang', 'eng', 'ong', 'i', 'ia', 'ie', 'iao', 'iou',\n",
    "         'ian', 'in', 'iang', 'ing', 'iong', 'u', 'ua', 'uo', 'uai', 'uei', 'uan', 'uen', 'uang', 'ueng', \n",
    "         'ü', 'üe', 'üan', 'ün',\n",
    "         'ue',\n",
    "         'iu', 'ui', 'un' \n",
    "        ]"
   ]
  },
  {
   "cell_type": "code",
   "execution_count": 104,
   "metadata": {
    "collapsed": true
   },
   "outputs": [],
   "source": [
    "def remove_tone(alpha):\n",
    "    if alpha in a_list:\n",
    "        return 'a'\n",
    "    elif alpha in o_list:\n",
    "        return 'o'\n",
    "    elif alpha in e_list:\n",
    "        return 'e'\n",
    "    elif alpha in i_list:\n",
    "        return 'i'\n",
    "    elif alpha in u_list:\n",
    "        return 'u'\n",
    "    elif alpha in yu_list:\n",
    "        return 'ü'\n",
    "    else:\n",
    "        return alpha\n",
    "\n",
    "def word_sep(word, pinyin):\n",
    "    pinyin_t = ''.join([remove_tone(p) for p in pinyin])\n",
    "    pinyin_len = len(pinyin)\n",
    "    #print('debug', pinyin)\n",
    "    result = []\n",
    "    check_cnt= 0\n",
    "    for w in word:\n",
    "        const_p = \"\"\n",
    "        vowel_p = \"\"\n",
    "        \n",
    "        if pinyin_t.startswith(sep) or pinyin_t.startswith(\"•\") or pinyin_t.startswith(\" \"):\n",
    "            pinyin_t = pinyin_t[1:]\n",
    "            pinyin = pinyin[1:]\n",
    "            check_cnt = check_cnt + 1\n",
    "            \n",
    "        for c in consonant:\n",
    "            if(pinyin_t.startswith(c)):\n",
    "                if(len(const_p) < len(c)):\n",
    "                    const_p = c\n",
    "                    \n",
    "        const_p = pinyin[:len(const_p)]\n",
    "        pinyin_t = pinyin_t[len(const_p):]\n",
    "        pinyin = pinyin[len(const_p):]\n",
    "        \n",
    "        for v in vowel:\n",
    "            if(pinyin_t.startswith(v)):\n",
    "                #print('debugh xx', v, pinyin_t)\n",
    "                if(len(vowel_p) < len(v)):\n",
    "                    vowel_p = v\n",
    "                    \n",
    "        if len(const_p) == 0 and vowel_p == \"e\":\n",
    "            if(pinyin_t.startswith(\"er\")):\n",
    "                vowel_p = pinyin[0:2]\n",
    "        \n",
    "        vowel_p = pinyin[:len(vowel_p)]\n",
    "        pinyin_t = pinyin_t[len(vowel_p):]\n",
    "        pinyin = pinyin[len(vowel_p):]\n",
    "        #print(\"debug V\", vowel_p, pinyin)\n",
    "        result.append((w, const_p+vowel_p))\n",
    "        check_cnt = check_cnt + len(const_p) + len(vowel_p)\n",
    "    \n",
    "    if check_cnt != pinyin_len:\n",
    "        raise Exception(\"not all pinyin is used. %d %d\" % (check_cnt, pinyin_len) + str(result) )\n",
    "        \n",
    "    return result\n",
    "    \n",
    "def character_tone(pinyin):\n",
    "    '''\n",
    "    pass back 1, 2, 3, 4 or 0\n",
    "    '''\n",
    "    for c in pinyin:\n",
    "        a_idx = a_list.index(c) if c in a_list else -1\n",
    "        o_idx = o_list.index(c) if c in o_list else -1\n",
    "        e_idx = e_list.index(c) if c in e_list else -1\n",
    "        i_idx = i_list.index(c) if c in i_list else -1\n",
    "        u_idx = u_list.index(c) if c in u_list else -1\n",
    "        yu_idx = yu_list.index(c) if c in yu_list else -1\n",
    "        \n",
    "        if(a_idx > 0):\n",
    "            return a_idx\n",
    "        elif(o_idx > 0):\n",
    "            return o_idx\n",
    "        elif(e_idx > 0):\n",
    "            return e_idx\n",
    "        elif(i_idx > 0):\n",
    "            return i_idx\n",
    "        elif(u_idx > 0):\n",
    "            return u_idx\n",
    "        elif(yu_idx > 0):\n",
    "            return yu_idx\n",
    "        \n",
    "    return 0\n",
    "\n",
    "def create_character_pinyin_dict(word_list):\n",
    "    '''\n",
    "    dictionary lookup by word, then each sound have a list of words.\n",
    "    '''\n",
    "    char_dict = {}\n",
    "    for word in word_list:\n",
    "        for char, pinyin in word:\n",
    "            if not char in char_dict:\n",
    "                pinyin_dict = {}\n",
    "                pinyin_dict[pinyin] = [word]\n",
    "                char_dict[char] = pinyin_dict\n",
    "            else:\n",
    "                pinyin_dict = char_dict[char]\n",
    "                if pinyin in pinyin_dict:\n",
    "                    pinyin_dict[pinyin].append(word)\n",
    "                else:\n",
    "                    pinyin_dict[pinyin] = [word]\n",
    "                    \n",
    "    return char_dict\n",
    "\n",
    "def create_pinyin_character_dict(word_list):\n",
    "    '''\n",
    "    dictionary lookup by pinyin, then each character have a list of words.\n",
    "    '''\n",
    "    pinyin_dict = {}\n",
    "    for word in word_list:\n",
    "        for char, pinyin in word:\n",
    "            if not pinyin in pinyin_dict:\n",
    "                char_dict = {}\n",
    "                char_dict[char] = [word]\n",
    "                pinyin_dict[pinyin] = char_dict\n",
    "            else:\n",
    "                char_dict = pinyin_dict[pinyin]\n",
    "                if char in char_dict:\n",
    "                    char_dict[char].append(word)\n",
    "                else:\n",
    "                    char_dict[char] = [word]\n",
    "                    \n",
    "    return pinyin_dict"
   ]
  },
  {
   "cell_type": "code",
   "execution_count": 21,
   "metadata": {
    "collapsed": true
   },
   "outputs": [],
   "source": [
    "word_1_list_sep = []\n",
    "\n",
    "for word,pinyin in word_1_list:\n",
    "    try:\n",
    "        test=word_sep(word,pinyin) \n",
    "        \n",
    "        if len(test) == 0:\n",
    "            print(\"Error in processing: \", word,pinyin)\n",
    "        else:\n",
    "            word_1_list_sep.append(test)\n",
    "    except Exception as e:\n",
    "        print(\"Error in processing: \", word,pinyin, e)"
   ]
  },
  {
   "cell_type": "code",
   "execution_count": 22,
   "metadata": {
    "collapsed": true
   },
   "outputs": [],
   "source": [
    "word_2_list_sep = []\n",
    "\n",
    "for word,pinyin in word_2_list:\n",
    "    try:\n",
    "        test=word_sep(word,pinyin) \n",
    "        if len(test) == 0:\n",
    "            print(\"Error in processing: \", word,pinyin)\n",
    "        else:\n",
    "            word_2_list_sep.append(test)\n",
    "    except Exception as e:\n",
    "        print(\"Error in processing: \", word,pinyin, e)"
   ]
  },
  {
   "cell_type": "code",
   "execution_count": 23,
   "metadata": {},
   "outputs": [
    {
     "name": "stdout",
     "output_type": "stream",
     "text": [
      "[[('阿', 'ā'), ('姨', 'yí')], [('挨', 'āi')], [('挨', 'ái')], [('矮', 'ǎi')], [('愛', 'ài')], [('愛', 'ài'), ('國', 'guó')], [('愛', 'ài'), ('好', 'hào')], [('愛', 'ài'), ('護', 'hù')], [('愛', 'ài'), ('情', 'qíng')], [('愛', 'ài'), ('人', 'ren')]]\n"
     ]
    }
   ],
   "source": [
    "total_sep_list = word_1_list_sep + word_2_list_sep\n",
    "print(total_sep_list[0:10])"
   ]
  },
  {
   "cell_type": "code",
   "execution_count": 31,
   "metadata": {
    "collapsed": true
   },
   "outputs": [],
   "source": [
    "char_dict = create_character_pinyin_dict(total_sep_list)\n",
    "pinyin_dict = create_pinyin_character_dict(total_sep_list)"
   ]
  },
  {
   "cell_type": "code",
   "execution_count": 134,
   "metadata": {},
   "outputs": [
    {
     "data": {
      "text/plain": [
       "{'nián': [[('黏', 'nián')]]}"
      ]
     },
     "execution_count": 134,
     "metadata": {},
     "output_type": "execute_result"
    }
   ],
   "source": [
    "char_dict['黏']"
   ]
  },
  {
   "cell_type": "markdown",
   "metadata": {},
   "source": [
    "### 多音字"
   ]
  },
  {
   "cell_type": "code",
   "execution_count": 34,
   "metadata": {
    "scrolled": true
   },
   "outputs": [
    {
     "name": "stdout",
     "output_type": "stream",
     "text": [
      "阿 : ['ā', 'ē']\n",
      "挨 : ['āi', 'ái']\n",
      "好 : ['hào', 'hǎo']\n",
      "情 : ['qíng', 'qing']\n",
      "人 : ['ren', 'rén']\n",
      "靜 : ['jìng', 'jing']\n",
      "心 : ['xīn', 'xin']\n",
      "置 : ['zhì', 'zhi']\n",
      "中 : ['zhōng', 'zhòng']\n",
      "會 : ['huì', 'kuài']\n",
      "巴 : ['bā', 'ba']\n",
      "扒 : ['bā', 'pá']\n",
      "把 : ['bǎ', 'bà']\n",
      "兒 : ['r', 'ér', 'er']\n",
      "白 : ['bái', 'bai']\n",
      "色 : ['sè', 'shǎi']\n",
      "動 : ['dòng', 'dong']\n",
      "家 : ['jiā', 'jia']\n",
      "公 : ['gōng', 'gong']\n",
      "事 : ['shì', 'shi']\n",
      "扮 : ['bàn', 'ban']\n",
      "樣 : ['yàng', 'yang']\n",
      "乾 : ['gàn', 'gān', 'qián']\n",
      "子 : ['zǐ', 'zi']\n",
      "炮 : ['bāo', 'pào', 'páo']\n",
      "薄 : ['báo', 'bó', 'bò']\n",
      "和 : ['hé', 'hè', 'hú', 'huó', 'huò', 'huo']\n",
      "石 : ['shí', 'dàn']\n",
      "道 : ['dào', 'dao']\n",
      "露 : ['lù', 'lòu']\n",
      "發 : ['fā', 'fà', 'fa']\n",
      "炸 : ['zhà', 'zhá']\n",
      "背 : ['bēi', 'bèi']\n",
      "方 : ['fāng', 'fang']\n",
      "奔 : ['bēn', 'bèn']\n",
      "性 : ['xìng', 'xing']\n",
      "重 : ['zhòng', 'zhóng', 'chóng']\n",
      "要 : ['yào', 'yāo']\n",
      "更 : ['gēng', 'gèng']\n",
      "量 : ['liàng', 'liáng', 'liang']\n",
      "便 : ['biàn', 'pián']\n",
      "別 : ['bié', 'biè']\n",
      "達 : ['dá', 'da']\n",
      "餅 : ['bǐng', 'bing']\n",
      "屏 : ['bǐng', 'píng']\n",
      "長 : ['cháng', 'zhǎng']\n",
      "剝 : ['bō', 'bāo']\n",
      "削 : ['xuē', 'xiāo']\n",
      "種 : ['zhǒng', 'zhòng']\n",
      "士 : ['shì', 'shi']\n",
      "鬥 : ['dòu', 'dǒu']\n",
      "食 : ['shí', 'shi']\n",
      "曾 : ['céng', 'zēng']\n",
      "當 : ['dāng', 'dàng', 'dang']\n",
      "服 : ['fú', 'fù', 'fu']\n",
      "禁 : ['jīn', 'jìn']\n",
      "快 : ['kuài', 'kuai']\n",
      "行 : ['xíng', 'háng']\n",
      "宜 : ['yí', 'yi']\n",
      "分 : ['fen', 'fèn', 'fēn']\n",
      "落 : ['luò', 'là', 'lào', 'luo']\n",
      "門 : ['mén', 'men']\n",
      "才 : ['cái', 'cai']\n",
      "務 : ['wù', 'wu']\n",
      "彩 : ['cǎi', 'cai']\n",
      "參 : ['cān', 'shēn']\n",
      "觀 : ['guān', 'guàn']\n",
      "數 : ['shù', 'shǔ', 'shuò', 'shu']\n",
      "與 : ['yù', 'yǔ']\n",
      "蠅 : ['ying', 'yíng']\n",
      "藏 : ['cáng', 'zàng']\n",
      "叉 : ['chā', 'chǎ']\n",
      "差 : ['chā', 'chà', 'chāi']\n",
      "點 : ['diǎn', 'dian']\n",
      "生 : ['shēng', 'sheng']\n",
      "物 : ['wù', 'wu']\n",
      "顫 : ['chàn', 'zhàn']\n",
      "處 : ['chù', 'chǔ']\n",
      "度 : ['dù', 'duó']\n",
      "場 : ['cháng', 'chǎng']\n",
      "識 : ['shí', 'shi']\n",
      "朝 : ['cháo', 'zhāo']\n",
      "車 : ['chē', 'jū']\n",
      "間 : ['jiān', 'jiàn']\n",
      "思 : ['sī', 'si']\n",
      "著 : ['zhuó', 'zhù', 'zhāo', 'zháo']\n",
      "稱 : ['chèn', 'chēng']\n",
      "號 : ['hào', 'háo', 'hao']\n",
      "呼 : ['hu', 'hū']\n",
      "成 : ['chéng', 'cheng']\n",
      "就 : ['jiù', 'jiu']\n",
      "熟 : ['shú', 'shóu']\n",
      "為 : ['wéi', 'wèi', 'wei']\n",
      "實 : ['shí', 'shi']\n",
      "擔 : ['dān', 'dàn', 'dan']\n",
      "盛 : ['chéng', 'shèng']\n",
      "膀 : ['bǎng', 'pāng', 'páng']\n",
      "衝 : ['chōng', 'chòng']\n",
      "仇 : ['chóu', 'qiú']\n",
      "臭 : ['chòu', 'xiù']\n",
      "口 : ['kǒu', 'kou']\n",
      "賣 : ['mài', 'mai']\n",
      "去 : ['qù', 'qu']\n",
      "血 : ['xiě', 'xuè', 'xuě']\n",
      "了 : ['le', 'liǎo']\n",
      "楚 : ['chǔ', 'chu']\n",
      "畜 : ['chù', 'xù']\n",
      "傳 : ['chuán', 'zhuàn']\n",
      "教 : ['jiào', 'jiāo']\n",
      "創 : ['chuāng', 'chuàng']\n",
      "戶 : ['hu', 'hù']\n",
      "幢 : ['chuáng', 'zhuàng']\n",
      "在 : ['zài', 'zai']\n",
      "折 : ['zhé', 'shé', 'zhē']\n",
      "誤 : ['wù', 'wu']\n",
      "答 : ['dā', 'dá']\n",
      "應 : ['ying', 'yìng', 'yīng']\n",
      "打 : ['dá', 'dǎ']\n",
      "倒 : ['dǎo', 'dào']\n",
      "算 : ['suan', 'suàn']\n",
      "聽 : ['ting', 'tīng']\n",
      "下 : ['xià', 'xia']\n",
      "大 : ['dà', 'dài']\n",
      "伙 : ['huǒ', 'huo']\n",
      "姐 : ['jiě', 'jie']\n",
      "陸 : ['lù', 'liù']\n",
      "娘 : ['niáng', 'iang']\n",
      "氣 : ['qì', 'qi']\n",
      "師 : ['shī', 'zhī']\n",
      "王 : ['wang', 'wáng']\n",
      "爺 : ['yé', 'ye']\n",
      "約 : ['yuē', 'yāo']\n",
      "待 : ['dāi', 'dài']\n",
      "夫 : ['fu', 'fū']\n",
      "謝 : ['xiè', 'xie']\n",
      "頭 : ['tóu', 'tou']\n",
      "袋 : ['dài', 'dai']\n",
      "逮 : ['dài', 'dǎi']\n",
      "負 : ['fù', 'fu']\n",
      "任 : ['rèn', 'rén']\n",
      "單 : ['dān', 'shàn']\n",
      "調 : ['diào', 'tiáo', 'tiào']\n",
      "彈 : ['dàn', 'tán', 'tan']\n",
      "得 : ['dé', 'děi', 'de']\n",
      "意 : ['yì', 'yi']\n",
      "泡 : ['pào', 'pāo']\n",
      "候 : ['hòu', 'hou']\n",
      "的 : ['dí', 'dì', 'de']\n",
      "殼 : ['qiào', 'ké']\n",
      "勢 : ['shì', 'shi']\n",
      "主 : ['zhǔ', 'zhu']\n",
      "弟 : ['dì', 'di']\n",
      "兄 : ['xiong', 'xiōng']\n",
      "荷 : ['hè', 'hé']\n",
      "話 : ['huà', 'hua']\n",
      "丁 : ['dīng', 'ding']\n",
      "釘 : ['dìng', 'dīng']\n",
      "西 : ['xī', 'xi']\n",
      "手 : ['shǒu', 'shou']\n",
      "都 : ['dōu', 'dū']\n",
      "腐 : ['fu', 'fǔ']\n",
      "占 : ['zhàn', 'zhān']\n",
      "肚 : ['dǔ', 'dù']\n",
      "正 : ['zhèng', 'zhēng']\n",
      "伍 : ['wu', 'wǔ']\n",
      "付 : ['fu', 'fù']\n",
      "少 : ['shǎo', 'shào']\n",
      "朵 : ['duǒ', 'duo']\n",
      "惡 : ['è', 'wù']\n",
      "女 : ['nǚ', 'nü']\n",
      "覺 : ['jué', 'jiào']\n",
      "令 : ['lìng', 'lǐng']\n",
      "煩 : ['fán', 'fan']\n",
      "防 : ['fáng', 'fang']\n",
      "問 : ['wèn', 'wen']\n",
      "解 : ['jiě', 'jiè']\n",
      "散 : ['sàn', 'sǎn']\n",
      "縫 : ['féng', 'fèng', 'feng']\n",
      "父 : ['fù', 'fu']\n",
      "親 : ['qīn', 'qìng']\n",
      "辟 : ['bì', 'pì']\n",
      "予 : ['yǔ', 'yú']\n",
      "率 : ['lǜ', 'shuài']\n",
      "凈 : ['jing', 'jìng']\n",
      "桿 : ['gān', 'gǎn']\n",
      "幹 : ['gàn', 'gān']\n",
      "琴 : ['qín', 'qin']\n",
      "空 : ['kōng', 'kòng']\n",
      "尚 : ['shàng', 'shang']\n",
      "校 : ['xiào', 'jiào']\n",
      "興 : ['xìng', 'xīng']\n",
      "漲 : ['zhǎng', 'zhàng']\n",
      "訴 : ['su', 'sù']\n",
      "膊 : ['bo', 'bó']\n",
      "歌 : ['gē', 'ge']\n",
      "曲 : ['qǔ', 'qū']\n",
      "聲 : ['shēng', 'sheng']\n",
      "個 : ['gè', 'ge']\n",
      "給 : ['gěi', 'jǐ', 'gǐ']\n",
      "司 : ['sī', 'si']\n",
      "元 : ['yuán', 'yuan']\n",
      "供 : ['gōng', 'gòng']\n",
      "同 : ['tóng', 'tong']\n",
      "勾 : ['gōu', 'gòu']\n",
      "結 : ['jié', 'jiē', 'jie']\n",
      "通 : ['tōng', 'tòng']\n",
      "計 : ['jì', 'ji']\n",
      "姑 : ['gūn', 'gū', 'gu']\n",
      "股 : ['gǔ', 'gu']\n",
      "故 : ['gù', 'gu']\n",
      "係 : ['xi', 'xì']\n",
      "看 : ['kàn', 'kān']\n",
      "冠 : ['guān', 'guàn']\n",
      "亮 : ['liàng', 'liang']\n",
      "劃 : ['huà', 'huá']\n",
      "矩 : ['ju', 'jǔ']\n",
      "模 : ['mó', 'mú']\n",
      "還 : ['hái', 'huán']\n",
      "罕 : ['hǎn', 'han']\n",
      "字 : ['zì', 'zi']\n",
      "轉 : ['zhuǎn', 'zhuàn']\n",
      "喝 : ['hē', 'hè', 'he']\n",
      "乎 : ['hū', 'hu']\n",
      "核 : ['hé', 'hú']\n",
      "星 : ['xīng', 'xing']\n",
      "橫 : ['héng', 'hèng']\n",
      "哄 : ['hōng', 'hǒng', 'hòng']\n",
      "喚 : ['huàn', 'huan']\n",
      "忽 : ['hū', 'hu']\n",
      "泊 : ['bó', 'bō']\n",
      "糊 : ['hú', 'hu']\n",
      "塗 : ['tu', 'tú']\n",
      "虎 : ['hǔ', 'hu']\n",
      "相 : ['xiāng', 'xiàng']\n",
      "華 : ['huá', 'huà']\n",
      "筒 : ['tǒng', 'tong']\n",
      "疑 : ['yí', 'yi']\n",
      "歡 : ['huān', 'huan']\n",
      "樂 : ['lè', 'yuè']\n",
      "晃 : ['huǎng', 'huàng']\n",
      "混 : ['hún', 'hùn']\n",
      "活 : ['huó', 'huo']\n",
      "潑 : ['po', 'pō']\n",
      "火 : ['huǒ', 'huo']\n",
      "幾 : ['jī', 'jǐ']\n",
      "累 : ['lěi', 'lèi']\n",
      "將 : ['jiāng', 'jiàng']\n",
      "疾 : ['jí', 'ji']\n",
      "濟 : ['jǐ', 'jì']\n",
      "載 : ['zǎi', 'zài']\n",
      "紀 : ['jì', 'jǐ']\n",
      "繫 : ['jì', 'xì']\n",
      "強 : ['qiáng', 'jiàng', 'qiǎng']\n",
      "夾 : ['jiā', 'jiá']\n",
      "屬 : ['shǔ', 'zhǔ']\n",
      "甲 : ['jiǎ', 'jia']\n",
      "假 : ['jiǎ', 'jià']\n",
      "苦 : ['kǔ', 'ku']\n",
      "難 : ['nán', 'nan', 'nàn']\n",
      "降 : ['jiàng', 'xiáng', 'jiáng']\n",
      "嚼 : ['jiáo', 'jué']\n",
      "角 : ['jiǎo', 'jué']\n",
      "堂 : ['táng', 'tang']\n",
      "省 : ['shěng', 'xǐng']\n",
      "牌 : ['pái', 'pai']\n",
      "儘 : ['jǐn', 'jìn']\n",
      "似 : ['sì', 'shì']\n",
      "勁 : ['jìn', 'jìng']\n",
      "精 : ['jīng', 'jing']\n",
      "神 : ['shén', 'shen']\n",
      "頸 : ['jǐng', 'gěng']\n",
      "舅 : ['jiù', 'jiu']\n",
      "圈 : ['quān', 'juàn']\n",
      "捲 : ['juǎn', 'juàn']\n",
      "卷 : ['juàn', 'juǎn']\n",
      "望 : ['wàng', 'wang']\n",
      "卡 : ['kǎ', 'qiǎ']\n",
      "拓 : ['tuò', 'tà']\n",
      "拉 : ['lā', 'lá', 'la']\n",
      "欄 : ['lán', 'lan']\n",
      "婆 : ['po', 'pó']\n",
      "纍 : ['léi', 'lěi']\n",
      "息 : ['xī', 'xi']\n",
      "梁 : ['liáng', 'liang']\n",
      "瞭 : ['liǎo', 'le']\n",
      "靈 : ['líng', 'ling']\n",
      "溜 : ['liū', 'liù']\n",
      "派 : ['pài', 'pai']\n",
      "籠 : ['lóng', 'lǒng', 'long']\n",
      "弄 : ['nòng', 'nong']\n",
      "摟 : ['lōu', 'lǒu']\n",
      "樓 : ['lóu', 'lou']\n",
      "綠 : ['lǜ', 'lù']\n",
      "羅 : ['luó', 'luo']\n",
      "旋 : ['xuán', 'xuàn']\n",
      "抹 : ['mā', 'mǒ', 'mò']\n",
      "麻 : ['má', 'ma']\n",
      "上 : ['shàng', 'shǎng', 'shang']\n",
      "貓 : ['māo', 'máo']\n",
      "毛 : ['máo', 'mao']\n",
      "沒 : ['méi', 'mò']\n",
      "悶 : ['mèn', 'mēn']\n",
      "蒙 : ['méng', 'měng']\n",
      "切 : ['qiè', 'qiē']\n",
      "索 : ['suǒ', 'suo']\n",
      "磨 : ['mó', 'mò', 'mo']\n",
      "奶 : ['nǎi', 'nai']\n",
      "耐 : ['nài', 'nai']\n",
      "鬧 : ['nào', 'nao']\n",
      "涵 : ['hán', 'han']\n",
      "泥 : ['ní', 'nì']\n",
      "們 : ['men', 'mén']\n",
      "寧 : ['níng', 'nìng']\n",
      "擰 : ['níng', 'nǐng', 'nìng']\n",
      "藥 : ['yào', 'yao']\n",
      "友 : ['you', 'yǒu']\n",
      "片 : ['piàn', 'piān']\n",
      "漂 : ['piào', 'piāo', 'piǎo']\n",
      "坦 : ['tǎn', 'tan']\n",
      "鋪 : ['pū', 'pù']\n",
      "朴 : ['pǔ', 'piáo']\n",
      "提 : ['tí', 'dī']\n",
      "搶 : ['qiāng', 'qiǎng']\n",
      "悄 : ['qiāo', 'qiǎo']\n",
      "戚 : ['qi', 'qī']\n",
      "屈 : ['qū', 'qu']\n",
      "撒 : ['sā', 'sǎ']\n",
      "塞 : ['sāi', 'sài', 'sè']\n",
      "喪 : ['sàng', 'sāng']\n",
      "掃 : ['sǎo', 'sào']\n",
      "扇 : ['shān', 'shàn']\n",
      "午 : ['wǔ', 'wu']\n",
      "什 : ['shén', 'shí']\n",
      "拾 : ['shí', 'shi']\n",
      "掌 : ['zhǎng', 'zhang']\n",
      "指 : ['zhǐ', 'zhi', 'zhī']\n",
      "宿 : ['sù', 'xiǔ', 'xiù']\n",
      "遂 : ['suí', 'suì']\n",
      "桃 : ['táo', 'tao']\n",
      "挑 : ['tiāo', 'tiǎo']\n",
      "條 : ['tiáo', 'tiao']\n",
      "髮 : ['fa', 'fā', 'fà']\n",
      "吐 : ['tǔ', 'tù']\n",
      "娃 : ['wá', 'wa']\n",
      "剿 : ['jiǎo', 'chāo']\n",
      "奈 : ['nài', 'nai']\n",
      "緻 : ['zhì', 'zhi']\n",
      "嚇 : ['xià', 'hè']\n",
      "鮮 : ['xiān', 'xiǎn']\n",
      "李 : ['li', 'lǐ']\n",
      "擇 : ['zé', 'zhái']\n",
      "咽 : ['yān', 'yàn', 'yè']\n",
      "睛 : ['jing', 'jīng']\n",
      "惑 : ['huò', 'huo']\n",
      "飲 : ['yǐn', 'yìn']\n",
      "債 : ['zhài', 'zhai']\n",
      "寨 : ['zhài', 'zhai']\n",
      "掙 : ['zhēng', 'zhèng']\n",
      "脂 : ['zhī', 'zhi']\n",
      "飾 : ['shì', 'shi']\n",
      "宗 : ['zōng', 'zong']\n",
      "鑽 : ['zuàn', 'zuān']\n",
      "耙 : ['bà', 'pá']\n",
      "磅 : ['pàng', 'páng']\n",
      "堡 : ['bǎo', 'pù']\n",
      "刨 : ['bào', 'páo']\n",
      "簸 : ['bò', 'bǒ']\n",
      "只 : ['zhī', 'zhǐ']\n",
      "杈 : ['chā', 'chà']\n",
      "剎 : ['chà', 'shā']\n",
      "禪 : ['chán', 'shàn']\n",
      "澄 : ['chéng', 'dèng']\n",
      "揣 : ['chuāi', 'chuǎi']\n",
      "攢 : ['cuán', 'zǎn']\n",
      "撮 : ['cuō', 'zuǒ']\n",
      "雅 : ['yǎ', 'yā']\n",
      "斗 : ['dǒu', 'dòu']\n",
      "囤 : ['dùn', 'tún']\n",
      "垛 : ['duǒ', 'duò']\n",
      "茄 : ['qié', 'jiā']\n",
      "帖 : ['tiē', 'tiě', 'tiè']\n",
      "蔗 : ['zhe', 'zhè']\n",
      "膏 : ['gāo', 'gào']\n",
      "匠 : ['jiàng', 'jiang']\n",
      "巷 : ['hàng', 'xiàng']\n",
      "暈 : ['yùn', 'yūn']\n",
      "妝 : ['zhuāng', 'zhuang']\n",
      "豁 : ['huō', 'huò']\n",
      "賈 : ['jiǎ', 'gǔ']\n",
      "坊 : ['fang', 'fāng']\n",
      "倔 : ['jué', 'juè']\n",
      "姥 : ['lǎo', 'lao']\n",
      "撩 : ['liāo', 'liáo']\n",
      "遛 : ['liú', 'liù']\n",
      "捋 : ['lǚ', 'luō']\n",
      "蔓 : ['màn', 'wàn']\n",
      "爪 : ['zhǎo', 'zhuǎ']\n",
      "沫 : ['mò', 'mo']\n",
      "劈 : ['pī', 'pǐ']\n",
      "撇 : ['piē', 'piě']\n",
      "仆 : ['pū', 'pú']\n",
      "嗆 : ['qiāng', 'qiàng']\n",
      "翹 : ['qiáo', 'qiào']\n",
      "苔 : ['tái', 'tāi']\n",
      "臊 : ['sāo', 'sào']\n",
      "杉 : ['shā', 'shān']\n",
      "煞 : ['shā', 'shà']\n",
      "肖 : ['xiào', 'xiāo']\n",
      "枉 : ['wǎng', 'wang']\n",
      "猩 : ['xīng', 'xing']\n",
      "軋 : ['yà', 'zhá']\n",
      "殷 : ['yān', 'yīn']\n",
      "燕 : ['yān', 'yàn']\n"
     ]
    }
   ],
   "source": [
    "for key, value in char_dict.items():\n",
    "    pinyin_dict_t = char_dict[key]\n",
    "    if len(pinyin_dict_t.keys()) > 1:\n",
    "        print(key + \" : \" + str(list(pinyin_dict_t.keys())))"
   ]
  },
  {
   "cell_type": "markdown",
   "metadata": {},
   "source": [
    "### 同音字查詢"
   ]
  },
  {
   "cell_type": "code",
   "execution_count": 233,
   "metadata": {},
   "outputs": [
    {
     "name": "stdout",
     "output_type": "stream",
     "text": [
      "zhí : ['值', '直', '職', '殖', '執', '植', '侄']\n"
     ]
    }
   ],
   "source": [
    "def query_same_sound(char):\n",
    "    p_dict = char_dict[char]\n",
    "    for key in p_dict.keys():\n",
    "        print(key + \" : \" + str(list(pinyin_dict[key].keys())))\n",
    "        \n",
    "query_same_sound(\"職\")"
   ]
  },
  {
   "cell_type": "markdown",
   "metadata": {},
   "source": [
    "### 拼音查詢"
   ]
  },
  {
   "cell_type": "code",
   "execution_count": null,
   "metadata": {
    "collapsed": true
   },
   "outputs": [],
   "source": [
    "a_list = ['a', 'ā', 'á', 'ǎ', 'à']\n",
    "o_list = ['o','ō', 'ó', 'ǒ', 'ò']\n",
    "e_list = ['e', 'ē', 'é', 'ě', 'è']\n",
    "i_list = ['i', 'ī', 'í', 'ǐ', 'ì']\n",
    "u_list = ['u', 'ū', 'ú', 'ǔ', 'ù']\n",
    "yu_list = ['ü', 'ǖ', 'ǘ', 'ǚ', 'ǜ']"
   ]
  },
  {
   "cell_type": "code",
   "execution_count": 236,
   "metadata": {},
   "outputs": [
    {
     "data": {
      "text/plain": [
       "{'惹': [[('惹', 'rě')]]}"
      ]
     },
     "execution_count": 236,
     "metadata": {},
     "output_type": "execute_result"
    }
   ],
   "source": [
    "pinyin_dict[\"rě\"]"
   ]
  },
  {
   "cell_type": "markdown",
   "metadata": {},
   "source": [
    "## 文章朗讀難點"
   ]
  },
  {
   "cell_type": "code",
   "execution_count": 139,
   "metadata": {
    "collapsed": true
   },
   "outputs": [],
   "source": [
    "from IPython.display import Markdown, display\n",
    "\n",
    "def printmd(string, color=None): \n",
    "    colorstr = \"<span style='color:{}'>{}</span>\".format(color, string) \n",
    "    display(Markdown(colorstr)) \n",
    "    \n",
    "def formatmd(string, color=None): \n",
    "    colorstr = \"<span style='color:{}'>{}</span>\".format(color, string) \n",
    "    return colorstr"
   ]
  },
  {
   "cell_type": "code",
   "execution_count": 37,
   "metadata": {},
   "outputs": [
    {
     "name": "stdout",
     "output_type": "stream",
     "text": [
      "Model loaded succeed\n",
      "我_r 爱_v 北京_ns 天安门_ns\n"
     ]
    }
   ],
   "source": [
    "import thulac\n",
    "\n",
    "thu1 = thulac.thulac()  #默认模式\n",
    "text = thu1.cut(\"我爱北京天安门\", text=True)  #进行一句话分词\n",
    "print(text)"
   ]
  },
  {
   "cell_type": "markdown",
   "metadata": {},
   "source": [
    "### 文章分詞"
   ]
  },
  {
   "cell_type": "code",
   "execution_count": 128,
   "metadata": {},
   "outputs": [
    {
     "name": "stdout",
     "output_type": "stream",
     "text": [
      "我常常遺憾我家門前那塊醜石，它黑黝黝地臥在那裏，牛似的模樣；誰也不知道是什麼時候留在這裏的，誰也不去理會它。只是麥收時節，門前攤了麥子，奶奶總是說：這塊醜石，多佔地面呀，抽空把它搬走吧。它不像漢白玉那樣的細膩，可以刻字雕花，也不像大青石那樣的光滑，可以供來浣紗捶布。它靜靜地臥在那裏，院邊的槐陰沒有庇覆它，花兒也不再在它身邊生長。荒草便繁衍出來，枝蔓上下，慢慢地，它竟銹上了綠苔、黑斑。我們這些做孩子的，也討厭起它來，曾合夥要搬走它，但力氣又不足；雖時時咒罵它，嫌棄它，也無可奈何，只好任它留在那裏了。終有一日，村子裏來了一個天文學家。他在我家門前路過，突然發現了這塊石頭，眼光立即就拉直了。他再沒有離開，就住了下來；以後又來了好些人，都說這是一塊隕石，從天上落下來已經有二三百年了，是一件了不起的東西。不久便來了車，小心翼翼地將它運走了。這使我們都很驚奇，這又怪又醜的石頭，原來是天上的啊！它補過天，在天上發過熱、閃過光，我們的先祖或許仰望過它，它給了他們光明、向往、憧憬；而它落下來了，在污土裏，荒草裏，一躺就是幾百年了！我感到自己的無知，也感到了醜石的偉大，我甚至怨恨它這麼多年竟會默默地忍受着這一切！而我又立即深深地感到它那種不屈於誤解、寂寞的生存的偉大。\n",
      "我_r 常常_d 遺憾_v 我_r 家_n 門_g 前_f 那_r 塊_q 醜石_n ，_w 它_r 黑黝黝_a 地_u 臥_v 在_p 那_r 裏_q ，_w 牛_n 似_g 的_u 模樣_n ；_w 誰_g 也_d 不_d 知道_v 是_v 什麼_r 時候_v 留_v 在_p 這裏_a 的_u ，_w 誰_g 也_d 不_d 去_v 理會_v 它_r 。_w 只是_d 麥收_v 時節_n ，_w 門_g 前_f 攤_v 了_u 麥子_n ，_w 奶奶_n 總_g 是_v 說_g ：_w 這塊_v 醜石_n ，_w 多_a 佔_q 地面_n 呀_u ，_w 抽空_v 把_p 它_r 搬走_v 吧_u 。_w 它_r 不_d 像_v 漢白玉_n 那_r 樣_q 的_u 細膩_n ，_w 可以_v 刻字_v 雕花_n ，_w 也_d 不_d 像_p 大青石_n 那樣_r 的_u 光滑_a ，_w 可以_v 供_v 來_g 浣_g 紗_g 捶布_v 。_w 它_r 靜靜_a 地_u 臥_v 在_p 那_r 裏_q ，_w 院邊_n 的_u 槐陰沒_ns 有_v 庇覆_v 它_r ，_w 花兒_n 也_d 不再_d 在_p 它_r 身邊生長_id 。_w 荒草_n 便_d 繁衍_v 出來_v ，_w 枝蔓上下_id ，_w 慢慢_d 地_u ，_w 它_r 竟_d 銹_v 上_v 了_u 綠苔_n 、_w 黑斑_n 。_w 我_r 們_v 這些_r 做_v 孩子_n 的_u ，_w 也_d 討厭_v 起_v 它_r 來_g ，_w 曾_d 合夥_v 要_v 搬走_v 它_r ，_w 但_c 力氣_v 又_d 不_d 足_a ；_w 雖時時_np 咒_v 罵_v 它_r ，_w 嫌_v 棄_v 它_r ，_w 也_d 無_g 可_v 奈何_v ，_w 只好_d 任_v 它_r 留_v 在_p 那_r 裏_q 了_u 。_w 終_g 有_v 一_m 日_q ，_w 村子_n 裏來_v 了_u 一_m 個_q 天文_n 學_np 家_n 。_w 他_r 在_p 我_r 家_n 門_g 前_f 路過_n ，_w 突然_a 發現_v 了_u 這塊_n 石頭_n ，_w 眼光_n 立即_d 就_p 拉直_v 了_u 。_w 他_r 再_d 沒_v 有_v 離開_n ，_w 就_d 住_v 了_u 下來_v ；_w 以_p 後_n 又_d 來_v 了_u 好些_m 人_n ，_w 都_d 說這_v 是_v 一_m 塊_q 隕石_n ，_w 從_v 天上_s 落_v 下_v 來_n 已_d 經_v 有_v 二三百_m 年_q 了_u ，_w 是_v 一_m 件_q 了不起_a 的_u 東西_ns 。_w 不_d 久_a 便_d 來_v 了_u 車_g ，_w 小心翼翼_id 地_u 將_v 它_r 運_v 走_v 了_u 。_w 這_d 使_v 我_r 們_v 都_d 很_d 驚奇_a ，_w 這_g 又_d 怪_a 又_d 醜_v 的_u 石頭_n ，_w 原來_n 是_v 天上_s 的_u 啊_u ！_w 它_r 補過天_id ，_w 在_p 天上_s 發過熱_n 、_w 閃過光_np ，_w 我_r 們_g 的_u 先祖_n 或_c 許仰_v 望過_v 它_r ，_w 它_r 給_v 了_u 他_r 們_v 光明_n 、_w 向往_v 、_w 憧憬_v ；_w 而_c 它_r 落_v 下來_v 了_u ，_w 在_p 污土裏_id ，_w 荒草裏_n ，_w 一_m 躺_v 就_d 是_v 幾_g 百年_m 了_u ！_w 我_r 感到_v 自己_r 的_u 無知_n ，_w 也_d 感到_v 了_u 醜石_n 的_u 偉大_a ，_w 我_r 甚至_d 怨恨_v 它_r 這麼_v 多年_m 竟_d 會_v 默默_d 地_u 忍受_v 着_u 這_v 一切_r ！_w 而_c 我_r 又_d 立即_d 深深_d 地_u 感到_v 它_r 那_r 種_q 不_d 屈於_a 誤解_v 、_w 寂寞_a 的_u 生存_v 的_u 偉大_a 。_w\n"
     ]
    }
   ],
   "source": [
    "passage_no = 3\n",
    "\n",
    "passage_str = \"\"\n",
    "for py, ch in passages[passage_no-1]:\n",
    "    if not ch == \"//\": \n",
    "        passage_str = passage_str + ch\n",
    "    \n",
    "print(passage_str) \n",
    "text = thu1.cut(passage_str, text=True)  #进行一句话分词\n",
    "print(text)"
   ]
  },
  {
   "cell_type": "code",
   "execution_count": 129,
   "metadata": {},
   "outputs": [
    {
     "name": "stdout",
     "output_type": "stream",
     "text": [
      "Full Mode: 我/ 常常/ 遺憾/ 我家/ 門前/ 那塊/ 醜石/ ，/ 它/ 黑黝黝/ 地臥/ 在/ 那/ 裏/ ，/ 牛/ 似的/ 模樣/ ；/ 誰/ 也/ 不/ 知道/ 是/ 什麼/ 時候/ 留在/ 這/ 裏/ 的/ ，/ 誰/ 也/ 不/ 去/ 理會/ 它/ 。/ 只是/ 麥收/ 時節/ ，/ 門前/ 攤/ 了/ 麥子/ ，/ 奶奶/ 總是/ 說/ ：/ 這塊/ 醜石/ ，/ 多/ 佔/ 地面/ 呀/ ，/ 抽空/ 把/ 它/ 搬走/ 吧/ 。/ 它/ 不/ 像/ 漢/ 白玉/ 那樣/ 的/ 細膩/ ，/ 可以/ 刻字/ 雕花/ ，/ 也/ 不/ 像/ 大/ 青石/ 那樣/ 的/ 光滑/ ，/ 可以/ 供來/ 浣/ 紗捶布/ 。/ 它靜靜/ 地/ 臥/ 在/ 那/ 裏/ ，/ 院邊/ 的/ 槐/ 陰/ 沒/ 有/ 庇/ 覆/ 它/ ，/ 花兒/ 也/ 不再/ 在/ 它/ 身邊/ 生長/ 。/ 荒草/ 便/ 繁衍/ 出來/ ，/ 枝蔓/ 上下/ ，/ 慢慢/ 地/ ，/ 它/ 竟銹上/ 了/ 綠/ 苔/ 、/ 黑斑/ 。/ 我們/ 這些/ 做/ 孩子/ 的/ ，/ 也/ 討厭/ 起/ 它/ 來/ ，/ 曾合夥要/ 搬走/ 它/ ，/ 但力氣/ 又/ 不足/ ；/ 雖時/ 時咒/ 罵/ 它/ ，/ 嫌棄/ 它/ ，/ 也/ 無/ 可/ 奈何/ ，/ 只好/ 任它/ 留在/ 那/ 裏/ 了/ 。/ 終有/ 一日/ ，/ 村子/ 裏/ 來/ 了/ 一個/ 天文/ 學家/ 。/ 他/ 在/ 我家/ 門/ 前路/ 過/ ，/ 突然/ 發現/ 了/ 這塊/ 石頭/ ，/ 眼光/ 立即/ 就/ 拉直/ 了/ 。/ 他/ 再/ 沒/ 有/ 離開/ ，/ 就/ 住/ 了/ 下來/ ；/ 以/ 後/ 又/ 來/ 了/ 好些/ 人/ ，/ 都/ 說/ 這是/ 一塊/ 隕石/ ，/ 從/ 天上/ 落下/ 來/ 已/ 經有/ 二三百年/ 了/ ，/ 是/ 一件/ 了不起/ 的/ 東西/ 。/ 不久/ 便來/ 了車/ ，/ 小心翼翼/ 地將/ 它/ 運走/ 了/ 。/ 這使/ 我們/ 都/ 很/ 驚奇/ ，/ 這又怪/ 又醜/ 的/ 石頭/ ，/ 原來/ 是/ 天上/ 的/ 啊/ ！/ 它/ 補過/ 天/ ，/ 在/ 天上/ 發過熱/ 、/ 閃過/ 光/ ，/ 我們/ 的/ 先祖/ 或許/ 仰望/ 過它/ ，/ 它給/ 了/ 他們/ 光明/ 、/ 向往/ 、/ 憧憬/ ；/ 而/ 它/ 落下/ 來/ 了/ ，/ 在/ 污土/ 裏/ ，/ 荒草/ 裏/ ，/ 一/ 躺/ 就是/ 幾/ 百年/ 了/ ！/ 我/ 感到/ 自己/ 的/ 無知/ ，/ 也/ 感到/ 了/ 醜石/ 的/ 偉大/ ，/ 我/ 甚至/ 怨恨/ 它/ 這麼/ 多年/ 竟會/ 默默地/ 忍受着/ 這/ 一切/ ！/ 而/ 我/ 又/ 立即/ 深深地/ 感到/ 它/ 那種/ 不屈/ 於/ 誤解/ 、/ 寂寞/ 的/ 生存/ 的/ 偉大/ 。\n"
     ]
    }
   ],
   "source": [
    "import jieba\n",
    "\n",
    "seg_list = jieba.cut(passage_str, cut_all=False)\n",
    "seg_list = list(seg_list)\n",
    "print(\"Full Mode: \" + \"/ \".join(seg_list))  # 全模式"
   ]
  },
  {
   "cell_type": "markdown",
   "metadata": {},
   "source": [
    "### 主要詞彙"
   ]
  },
  {
   "cell_type": "code",
   "execution_count": 130,
   "metadata": {},
   "outputs": [
    {
     "name": "stdout",
     "output_type": "stream",
     "text": [
      "    Letter  wordCount\n",
      "7        ，         39\n",
      "8        它         16\n",
      "35       了         14\n",
      "27       的         13\n",
      "30       。         11\n",
      "13       裏          7\n",
      "19       也          7\n",
      "11       在          6\n",
      "88       、          5\n",
      "96       來          5\n",
      "20       不          4\n",
      "17       ；          4\n",
      "0        我          4\n",
      "12       那          3\n",
      "6       醜石          3\n",
      "140     天上          3\n",
      "22       是          3\n",
      "99       又          3\n",
      "161      ！          3\n",
      "183     感到          3\n",
      "90      我們          3\n",
      "53      那樣          2\n",
      "122     石頭          2\n",
      "41      這塊          2\n",
      "176      而          2\n",
      "48      搬走          2\n",
      "50       像          2\n",
      "124     立即          2\n",
      "55      可以          2\n",
      "135      都          2\n",
      "125      就          2\n",
      "65       地          2\n",
      "141     落下          2\n",
      "70       沒          2\n",
      "71       有          2\n",
      "78      荒草          2\n",
      "39       說          2\n",
      "116      他          2\n",
      "26       這          2\n",
      "25      留在          2\n",
      "3       我家          2\n",
      "186     偉大          2\n",
      "4       門前          2\n",
      "18       誰          2\n"
     ]
    }
   ],
   "source": [
    "from itertools import groupby\n",
    "from collections import Counter\n",
    "\n",
    "counter=Counter(seg_list)\n",
    "freq_lst=[list(counter.keys()),list(counter.values())]\n",
    "freq_df = pd.DataFrame(np.array(freq_lst).T, columns=['Letter','wordCount'])\n",
    "freq_df[\"wordCount\"] = freq_df[\"wordCount\"].astype(int)\n",
    "sort_df = freq_df.sort_values(\"wordCount\", ascending=False)\n",
    "print(sort_df[sort_df[\"wordCount\"] > 1])"
   ]
  },
  {
   "cell_type": "markdown",
   "metadata": {},
   "source": [
    "### 必讀輕聲"
   ]
  },
  {
   "cell_type": "code",
   "execution_count": 146,
   "metadata": {},
   "outputs": [
    {
     "data": {
      "text/markdown": [
       "我常常遺憾我家門前那塊醜石，它黑黝黝<span style='color:blue'>地</span>臥在那裏，牛似<span style='color:blue'>的</span>模樣；誰也不知道是什<span style='color:blue'>麼</span>時<span style='color:blue'>候</span>留在這裏<span style='color:blue'>的</span>，誰也不去理會它。只是麥收時節，門前攤<span style='color:blue'>了</span>麥<span style='color:blue'>子</span>，奶<span style='color:blue'>奶</span>總是說：這塊醜石，多佔地面<span style='color:blue'>呀</span>，抽空把它搬走<span style='color:blue'>吧</span>。它不像漢白玉那樣<span style='color:blue'>的</span>細膩，可以刻字雕花，也不像大青石那樣<span style='color:blue'>的</span>光滑，可以供來浣紗捶布。它靜靜<span style='color:blue'>地</span>臥在那裏，院邊<span style='color:blue'>的</span>槐陰沒有庇覆它，花兒也不再在它身邊生長。荒草便繁衍出來，枝蔓上下，慢慢<span style='color:blue'>地</span>，它竟銹上<span style='color:blue'>了</span>綠苔、黑斑。我<span style='color:blue'>們</span>這些做孩<span style='color:blue'>子</span><span style='color:blue'>的</span>，也討厭起它來，曾合夥要搬走它，但力<span style='color:blue'>氣</span>又不足；雖時時咒罵它，嫌棄它，也無可奈何，只好任它留在那裏<span style='color:blue'>了</span>。終有一日，村<span style='color:blue'>子</span>裏來<span style='color:blue'>了</span>一個天文學家。他在我家門前路過，突然發現<span style='color:blue'>了</span>這塊石<span style='color:blue'>頭</span>，眼光立即就拉直<span style='color:blue'>了</span>。他再沒有離開，就住<span style='color:blue'>了</span>下來；以後又來<span style='color:blue'>了</span>好些人，都說這是一塊隕石，從天上落下來已經有二三百年<span style='color:blue'>了</span>，是一件了不起<span style='color:blue'>的</span>東<span style='color:blue'>西</span>。不久便來<span style='color:blue'>了</span>車，小心翼翼<span style='color:blue'>地</span>將它運走<span style='color:blue'>了</span>。這使我<span style='color:blue'>們</span>都很驚奇，這又怪又醜<span style='color:blue'>的</span>石<span style='color:blue'>頭</span>，原來是天上<span style='color:blue'>的</span><span style='color:blue'>啊</span>！它補過天，在天上發過熱、閃過光，我<span style='color:blue'>們</span><span style='color:blue'>的</span>先祖或許仰望過它，它給<span style='color:blue'>了</span>他<span style='color:blue'>們</span>光明、向往、憧憬；而它落下來<span style='color:blue'>了</span>，在污土裏，荒草裏，一躺就//是幾百年<span style='color:blue'>了</span>！我感到自己<span style='color:blue'>的</span>無知，也感到<span style='color:blue'>了</span>醜石<span style='color:blue'>的</span>偉大，我甚至怨恨它這<span style='color:blue'>麼</span>多年竟會默默<span style='color:blue'>地</span>忍受<span style='color:blue'>着</span>這一切！而我又立即深深<span style='color:blue'>地</span>感到它那種不屈於誤解、寂寞<span style='color:blue'>的</span>生存<span style='color:blue'>的</span>偉大。"
      ],
      "text/plain": [
       "<IPython.core.display.Markdown object>"
      ]
     },
     "metadata": {},
     "output_type": "display_data"
    }
   ],
   "source": [
    "def softly_sound(passage):\n",
    "    for py, ch in passage:\n",
    "        if len(py.strip()) > 0 and character_tone(py) == 0: \n",
    "            print(ch, py)\n",
    "            \n",
    "#softly_sound(passages[passage_no-1])\n",
    "\n",
    "def highlight_softly_sound(passage):\n",
    "    result = \"\"\n",
    "    for py, ch in passage:\n",
    "        if len(py.strip()) > 0 and character_tone(py) == 0: \n",
    "            result += formatmd(ch, \"blue\")\n",
    "        else:\n",
    "            result += ch\n",
    "            \n",
    "    display(Markdown(result)) \n",
    "            \n",
    "highlight_softly_sound(passages[passage_no-1])"
   ]
  },
  {
   "cell_type": "markdown",
   "metadata": {},
   "source": [
    "### 去聲變調"
   ]
  },
  {
   "cell_type": "code",
   "execution_count": 145,
   "metadata": {},
   "outputs": [
    {
     "data": {
      "text/markdown": [
       "<span style='color:None'>常</span><span style='color:None'>常</span><span style='color:None'>遺</span><span style='color:None'>憾</span><span style='color:None'>家</span><span style='color:None'>門</span><span style='color:None'>前</span><span style='color:None'>那</span><span style='color:None'>塊</span><span style='color:None'>石</span><span style='color:None'>，</span><span style='color:None'>它</span><span style='color:None'>黑</span><span style='color:blue'>黝黝</span><span style='color:None'>地</span><span style='color:None'>臥</span><span style='color:None'>在</span><span style='color:None'>那</span><span style='color:None'>，</span><span style='color:None'>牛</span><span style='color:None'>似</span><span style='color:None'>的</span><span style='color:None'>模</span><span style='color:None'>樣</span><span style='color:None'>；</span><span style='color:None'>誰</span><span style='color:None'>不</span><span style='color:None'>知</span><span style='color:None'>道</span><span style='color:None'>是</span><span style='color:None'>什</span><span style='color:None'>麼</span><span style='color:None'>時</span><span style='color:None'>候</span><span style='color:None'>留</span><span style='color:None'>在</span><span style='color:None'>這</span><span style='color:None'>的</span><span style='color:None'>，</span><span style='color:None'>誰</span><span style='color:None'>不</span><span style='color:None'>去</span><span style='color:None'>會</span><span style='color:None'>它</span><span style='color:None'>。</span><span style='color:None'>是</span><span style='color:None'>麥</span><span style='color:None'>收</span><span style='color:None'>時</span><span style='color:None'>節</span><span style='color:None'>，</span><span style='color:None'>門</span><span style='color:None'>前</span><span style='color:None'>攤</span><span style='color:None'>了</span><span style='color:None'>麥</span><span style='color:None'>子</span><span style='color:None'>，</span><span style='color:None'>奶</span><span style='color:None'>是</span><span style='color:None'>說</span><span style='color:None'>：</span><span style='color:None'>這</span><span style='color:None'>塊</span><span style='color:None'>石</span><span style='color:None'>，</span><span style='color:None'>多</span><span style='color:None'>佔</span><span style='color:None'>地</span><span style='color:None'>面</span><span style='color:None'>呀</span><span style='color:None'>，</span><span style='color:None'>抽</span><span style='color:None'>空</span><span style='color:None'>它</span><span style='color:None'>搬</span><span style='color:None'>吧</span><span style='color:None'>。</span><span style='color:None'>它</span><span style='color:None'>不</span><span style='color:None'>像</span><span style='color:None'>漢</span><span style='color:None'>白</span><span style='color:None'>玉</span><span style='color:None'>那</span><span style='color:None'>樣</span><span style='color:None'>的</span><span style='color:None'>細</span><span style='color:None'>膩</span><span style='color:None'>，</span><span style='color:blue'>可以</span><span style='color:None'>刻</span><span style='color:None'>字</span><span style='color:None'>雕</span><span style='color:None'>花</span><span style='color:None'>，</span><span style='color:None'>不</span><span style='color:None'>像</span><span style='color:None'>大</span><span style='color:None'>青</span><span style='color:None'>石</span><span style='color:None'>那</span><span style='color:None'>樣</span><span style='color:None'>的</span><span style='color:None'>光</span><span style='color:None'>滑</span><span style='color:None'>，</span><span style='color:blue'>可以</span><span style='color:None'>供</span><span style='color:None'>來</span><span style='color:None'>浣</span><span style='color:None'>紗</span><span style='color:None'>捶</span><span style='color:None'>布</span><span style='color:None'>。</span><span style='color:None'>它</span><span style='color:None'>靜</span><span style='color:None'>靜</span><span style='color:None'>地</span><span style='color:None'>臥</span><span style='color:None'>在</span><span style='color:None'>那</span><span style='color:None'>，</span><span style='color:None'>院</span><span style='color:None'>邊</span><span style='color:None'>的</span><span style='color:None'>槐</span><span style='color:None'>陰</span><span style='color:None'>沒</span><span style='color:None'>庇</span><span style='color:None'>覆</span><span style='color:None'>它</span><span style='color:None'>，</span><span style='color:None'>花</span><span style='color:None'>兒</span><span style='color:None'>不</span><span style='color:None'>再</span><span style='color:None'>在</span><span style='color:None'>它</span><span style='color:None'>身</span><span style='color:None'>邊</span><span style='color:None'>生</span><span style='color:None'>。</span><span style='color:None'>荒</span><span style='color:None'>便</span><span style='color:None'>繁</span><span style='color:None'>出</span><span style='color:None'>來</span><span style='color:None'>，</span><span style='color:None'>枝</span><span style='color:None'>蔓</span><span style='color:None'>上</span><span style='color:None'>下</span><span style='color:None'>，</span><span style='color:None'>慢</span><span style='color:None'>慢</span><span style='color:None'>地</span><span style='color:None'>，</span><span style='color:None'>它</span><span style='color:None'>竟</span><span style='color:None'>銹</span><span style='color:None'>上</span><span style='color:None'>了</span><span style='color:None'>綠</span><span style='color:None'>苔</span><span style='color:None'>、</span><span style='color:None'>黑</span><span style='color:None'>斑</span><span style='color:None'>。</span><span style='color:None'>們</span><span style='color:None'>這</span><span style='color:None'>些</span><span style='color:None'>做</span><span style='color:None'>孩</span><span style='color:None'>子</span><span style='color:None'>的</span><span style='color:None'>，</span><span style='color:blue'>也討</span><span style='color:None'>厭</span><span style='color:None'>它</span><span style='color:None'>來</span><span style='color:None'>，</span><span style='color:None'>曾</span><span style='color:None'>合</span><span style='color:None'>要</span><span style='color:None'>搬</span><span style='color:None'>它</span><span style='color:None'>，</span><span style='color:None'>但</span><span style='color:None'>力</span><span style='color:None'>氣</span><span style='color:None'>又</span><span style='color:None'>不</span><span style='color:None'>足</span><span style='color:None'>；</span><span style='color:None'>雖</span><span style='color:None'>時</span><span style='color:None'>時</span><span style='color:None'>咒</span><span style='color:None'>罵</span><span style='color:None'>它</span><span style='color:None'>，</span><span style='color:None'>嫌</span><span style='color:None'>棄</span><span style='color:None'>它</span><span style='color:None'>，</span><span style='color:None'>無</span><span style='color:None'>奈</span><span style='color:None'>何</span><span style='color:None'>，</span><span style='color:blue'>只好</span><span style='color:None'>任</span><span style='color:None'>它</span><span style='color:None'>留</span><span style='color:None'>在</span><span style='color:None'>那</span><span style='color:None'>了</span><span style='color:None'>。</span><span style='color:None'>終</span><span style='color:None'>一</span><span style='color:None'>日</span><span style='color:None'>，</span><span style='color:None'>村</span><span style='color:None'>子</span><span style='color:None'>來</span><span style='color:None'>了</span><span style='color:None'>一</span><span style='color:None'>個</span><span style='color:None'>天</span><span style='color:None'>文</span><span style='color:None'>學</span><span style='color:None'>家</span><span style='color:None'>。</span><span style='color:None'>他</span><span style='color:None'>在</span><span style='color:None'>家</span><span style='color:None'>門</span><span style='color:None'>前</span><span style='color:None'>路</span><span style='color:None'>過</span><span style='color:None'>，</span><span style='color:None'>突</span><span style='color:None'>然</span><span style='color:None'>發</span><span style='color:None'>現</span><span style='color:None'>了</span><span style='color:None'>這</span><span style='color:None'>塊</span><span style='color:None'>石</span><span style='color:None'>頭</span><span style='color:None'>，</span><span style='color:None'>光</span><span style='color:None'>立</span><span style='color:None'>即</span><span style='color:None'>就</span><span style='color:None'>拉</span><span style='color:None'>直</span><span style='color:None'>了</span><span style='color:None'>。</span><span style='color:None'>他</span><span style='color:None'>再</span><span style='color:None'>沒</span><span style='color:None'>離</span><span style='color:None'>開</span><span style='color:None'>，</span><span style='color:None'>就</span><span style='color:None'>住</span><span style='color:None'>了</span><span style='color:None'>下</span><span style='color:None'>來</span><span style='color:None'>；</span><span style='color:None'>後</span><span style='color:None'>又</span><span style='color:None'>來</span><span style='color:None'>了</span><span style='color:None'>些</span><span style='color:None'>人</span><span style='color:None'>，</span><span style='color:None'>都</span><span style='color:None'>說</span><span style='color:None'>這</span><span style='color:None'>是</span><span style='color:None'>一</span><span style='color:None'>塊</span><span style='color:None'>石</span><span style='color:None'>，</span><span style='color:None'>從</span><span style='color:None'>天</span><span style='color:None'>上</span><span style='color:None'>落</span><span style='color:None'>下</span><span style='color:None'>來</span><span style='color:None'>經</span><span style='color:None'>二</span><span style='color:None'>三</span><span style='color:None'>年</span><span style='color:None'>了</span><span style='color:None'>，</span><span style='color:None'>是</span><span style='color:None'>一</span><span style='color:None'>件</span><span style='color:None'>不</span><span style='color:None'>的</span><span style='color:None'>東</span><span style='color:None'>西</span><span style='color:None'>。</span><span style='color:None'>不</span><span style='color:None'>便</span><span style='color:None'>來</span><span style='color:None'>了</span><span style='color:None'>車</span><span style='color:None'>，</span><span style='color:None'>心</span><span style='color:None'>翼</span><span style='color:None'>翼</span><span style='color:None'>地</span><span style='color:None'>將</span><span style='color:None'>它</span><span style='color:None'>運</span><span style='color:None'>了</span><span style='color:None'>。</span><span style='color:None'>這</span><span style='color:blue'>使我</span><span style='color:None'>們</span><span style='color:None'>都</span><span style='color:None'>驚</span><span style='color:None'>奇</span><span style='color:None'>，</span><span style='color:None'>這</span><span style='color:None'>又</span><span style='color:None'>怪</span><span style='color:None'>又</span><span style='color:None'>的</span><span style='color:None'>石</span><span style='color:None'>頭</span><span style='color:None'>，</span><span style='color:None'>原</span><span style='color:None'>來</span><span style='color:None'>是</span><span style='color:None'>天</span><span style='color:None'>上</span><span style='color:None'>的</span><span style='color:None'>啊</span><span style='color:None'>！</span><span style='color:None'>它</span><span style='color:None'>過</span><span style='color:None'>天</span><span style='color:None'>，</span><span style='color:None'>在</span><span style='color:None'>天</span><span style='color:None'>上</span><span style='color:None'>發</span><span style='color:None'>過</span><span style='color:None'>熱</span><span style='color:None'>、</span><span style='color:None'>過</span><span style='color:None'>光</span><span style='color:None'>，</span><span style='color:None'>們</span><span style='color:None'>的</span><span style='color:None'>先</span><span style='color:None'>或</span><span style='color:blue'>許仰</span><span style='color:None'>望</span><span style='color:None'>過</span><span style='color:None'>它</span><span style='color:None'>，</span><span style='color:None'>它</span><span style='color:None'>了</span><span style='color:None'>他</span><span style='color:None'>們</span><span style='color:None'>光</span><span style='color:None'>明</span><span style='color:None'>、</span><span style='color:None'>向</span><span style='color:None'>、</span><span style='color:None'>憧</span><span style='color:None'>；</span><span style='color:None'>而</span><span style='color:None'>它</span><span style='color:None'>落</span><span style='color:None'>下</span><span style='color:None'>來</span><span style='color:None'>了</span><span style='color:None'>，</span><span style='color:None'>在</span><span style='color:None'>污</span><span style='color:blue'>土裏</span><span style='color:None'>，</span><span style='color:None'>荒</span><span style='color:blue'>草裏</span><span style='color:None'>，</span><span style='color:None'>一</span><span style='color:None'>就</span><span style='color:None'>//</span><span style='color:None'>是</span><span style='color:blue'>幾百</span><span style='color:None'>年</span><span style='color:None'>了</span><span style='color:None'>！</span><span style='color:blue'>我感</span><span style='color:None'>到</span><span style='color:None'>自</span><span style='color:None'>的</span><span style='color:None'>無</span><span style='color:None'>知</span><span style='color:None'>，</span><span style='color:blue'>也感</span><span style='color:None'>到</span><span style='color:None'>了</span><span style='color:None'>石</span><span style='color:None'>的</span><span style='color:None'>大</span><span style='color:None'>，</span><span style='color:None'>甚</span><span style='color:None'>至</span><span style='color:None'>怨</span><span style='color:None'>恨</span><span style='color:None'>它</span><span style='color:None'>這</span><span style='color:None'>麼</span><span style='color:None'>多</span><span style='color:None'>年</span><span style='color:None'>竟</span><span style='color:None'>會</span><span style='color:None'>默</span><span style='color:None'>默</span><span style='color:None'>地</span><span style='color:None'>受</span><span style='color:None'>着</span><span style='color:None'>這</span><span style='color:None'>一</span><span style='color:None'>切</span><span style='color:None'>！</span><span style='color:None'>而</span><span style='color:None'>又</span><span style='color:None'>立</span><span style='color:None'>即</span><span style='color:None'>深</span><span style='color:None'>深</span><span style='color:None'>地</span><span style='color:None'>到</span><span style='color:None'>它</span><span style='color:None'>那</span><span style='color:None'>不</span><span style='color:None'>屈</span><span style='color:None'>於</span><span style='color:None'>誤</span><span style='color:None'>、</span><span style='color:None'>寂</span><span style='color:None'>寞</span><span style='color:None'>的</span><span style='color:None'>生</span><span style='color:None'>存</span><span style='color:None'>的</span><span style='color:None'>大</span><span style='color:None'>。</span>"
      ],
      "text/plain": [
       "<IPython.core.display.Markdown object>"
      ]
     },
     "metadata": {},
     "output_type": "display_data"
    }
   ],
   "source": [
    "def third_sound_steak(passage):\n",
    "    cur = \"\"\n",
    "    for py, ch in passage:\n",
    "        if len(py.strip()) > 0 and character_tone(py) == 3: \n",
    "            cur += ch\n",
    "        else:\n",
    "            if len(cur) > 1:\n",
    "                print(cur)\n",
    "            cur = \"\"\n",
    "            \n",
    "#third_sound_steak(passages[passage_no-1])\n",
    "\n",
    "def highlight_third_sound_steak(passage):\n",
    "    result = \"\"\n",
    "    cur = \"\"\n",
    "    for py, ch in passage:\n",
    "        if len(py.strip()) > 0 and character_tone(py) == 3: \n",
    "            cur += ch\n",
    "        else:\n",
    "            if len(cur) > 1:\n",
    "                result += formatmd(cur, 'blue')\n",
    "            cur = \"\"\n",
    "            result += formatmd(ch)\n",
    "            \n",
    "    display(Markdown(result)) \n",
    "            \n",
    "highlight_third_sound_steak(passages[passage_no-1])"
   ]
  },
  {
   "cell_type": "markdown",
   "metadata": {},
   "source": [
    "### 一不變調"
   ]
  },
  {
   "cell_type": "code",
   "execution_count": 184,
   "metadata": {},
   "outputs": [
    {
     "data": {
      "text/markdown": [
       "我常常遺憾我家門前那塊醜石，它黑黝黝地臥在那裏，牛似的模樣；誰也<span style='color:green'>不</span>知道是什麼時候留在這裏的，誰也<span style='color:blue'>不</span>去理會它。只是麥收時節，門前攤了麥子，奶奶總是說：這塊醜石，多佔地面呀，抽空把它搬走吧。它<span style='color:blue'>不</span>像漢白玉那樣的細膩，可以刻字雕花，也<span style='color:blue'>不</span>像大青石那樣的光滑，可以供來浣紗捶布。它靜靜地臥在那裏，院邊的槐陰沒有庇覆它，花兒也<span style='color:blue'>不</span>再在它身邊生長。荒草便繁衍出來，枝蔓上下，慢慢地，它竟銹上了綠苔、黑斑。我們這些做孩子的，也討厭起它來，曾合夥要搬走它，但力氣又<span style='color:green'>不</span>足；雖時時咒罵它，嫌棄它，也無可奈何，只好任它留在那裏了。終有<span style='color:blue'>一</span>日，村子裏來了<span style='color:blue'>一</span>個天文學家。他在我家門前路過，突然發現了這塊石頭，眼光立即就拉直了。他再沒有離開，就住了下來；以後又來了好些人，都說這是<span style='color:blue'>一</span>塊隕石，從天上落下來已經有二三百年了，是<span style='color:blue'>一</span>件了<span style='color:green'>不</span>起的東西。<span style='color:green'>不</span>久便來了車，小心翼翼地將它運走了。這使我們都很驚奇，這又怪又醜的石頭，原來是天上的啊！它補過天，在天上發過熱、閃過光，我們的先祖或許仰望過它，它給了他們光明、向往、憧憬；而它落下來了，在污土裏，荒草裏，<span style='color:blue'>一</span>躺就//是幾百年了！我感到自己的無知，也感到了醜石的偉大，我甚至怨恨它這麼多年竟會默默地忍受着這<span style='color:blue'>一</span>切！而我又立即深深地感到它那種<span style='color:green'>不</span>屈於誤解、寂寞的生存的偉大。"
      ],
      "text/plain": [
       "<IPython.core.display.Markdown object>"
      ]
     },
     "metadata": {},
     "output_type": "display_data"
    }
   ],
   "source": [
    "def highlight_yi_bu(passage):\n",
    "    result = \"\"\n",
    "    cur = \"\"\n",
    "    for py, ch in passage:\n",
    "        if (ch == '一' and py != 'yī') or (ch == '不' and py != 'bù'):\n",
    "            result += formatmd(ch, 'blue')\n",
    "        elif (ch == '一' and py == 'yī') or (ch == '不' and py == 'bù'):\n",
    "            result += formatmd(ch, 'green')\n",
    "        else:\n",
    "            result += ch\n",
    "            \n",
    "    display(Markdown(result)) \n",
    "            \n",
    "highlight_yi_bu(passages[passage_no-1])"
   ]
  },
  {
   "cell_type": "markdown",
   "metadata": {},
   "source": [
    "### 平舌音"
   ]
  },
  {
   "cell_type": "code",
   "execution_count": 149,
   "metadata": {},
   "outputs": [
    {
     "data": {
      "text/markdown": [
       "我常常遺憾我家門前那塊醜石，它黑黝黝地臥<span style='color:blue'>在</span>那裏，牛似的模樣；誰也不知道是什麼時候留<span style='color:blue'>在</span>這裏的，誰也不去理會它。只是麥收時節，門前攤了麥<span style='color:blue'>子</span>，奶奶<span style='color:blue'>總</span>是說：這塊醜石，多佔地面呀，抽空把它搬<span style='color:blue'>走</span>吧。它不像漢白玉那樣的細膩，可以刻<span style='color:blue'>字</span>雕花，也不像大青石那樣的光滑，可以供來浣紗捶布。它靜靜地臥<span style='color:blue'>在</span>那裏，院邊的槐陰沒有庇覆它，花兒也不<span style='color:blue'>再</span><span style='color:blue'>在</span>它身邊生長。荒<span style='color:blue'>草</span>便繁衍出來，枝蔓上下，慢慢地，它竟銹上了綠苔、黑斑。我們這些<span style='color:blue'>做</span>孩<span style='color:blue'>子</span>的，也討厭起它來，<span style='color:blue'>曾</span>合夥要搬<span style='color:blue'>走</span>它，但力氣又不<span style='color:blue'>足</span>；<span style='color:blue'>雖</span>時時咒罵它，嫌棄它，也無可奈何，只好任它留<span style='color:blue'>在</span>那裏了。終有一日，<span style='color:blue'>村</span><span style='color:blue'>子</span>裏來了一個天文學家。他<span style='color:blue'>在</span>我家門前路過，突然發現了這塊石頭，眼光立即就拉直了。他<span style='color:blue'>再</span>沒有離開，就住了下來；以後又來了好些人，都說這是一塊隕石，<span style='color:blue'>從</span>天上落下來已經有二<span style='color:blue'>三</span>百年了，是一件了不起的東西。不久便來了車，小心翼翼地將它運<span style='color:blue'>走</span>了。這使我們都很驚奇，這又怪又醜的石頭，原來是天上的啊！它補過天，<span style='color:blue'>在</span>天上發過熱、閃過光，我們的先<span style='color:blue'>祖</span>或許仰望過它，它給了他們光明、向往、憧憬；而它落下來了，<span style='color:blue'>在</span>污土裏，荒<span style='color:blue'>草</span>裏，一躺就//是幾百年了！我感到<span style='color:blue'>自</span>己的無知，也感到了醜石的偉大，我甚至怨恨它這麼多年竟會默默地忍受着這一切！而我又立即深深地感到它那種不屈於誤解、寂寞的生<span style='color:blue'>存</span>的偉大。"
      ],
      "text/plain": [
       "<IPython.core.display.Markdown object>"
      ]
     },
     "metadata": {},
     "output_type": "display_data"
    }
   ],
   "source": [
    "def zcs_in_passage(passage): \n",
    "    for py, ch in passage:\n",
    "        if((py.startswith(\"z\") or py.startswith(\"c\") or py.startswith(\"s\"))\n",
    "          and not(py.startswith(\"zh\") or py.startswith(\"ch\") or py.startswith(\"sh\"))):\n",
    "            print(ch, py)\n",
    "            \n",
    "#zcs_in_passage(passages[passage_no-1])\n",
    "\n",
    "def highlight_zcs_in_passage(passage):\n",
    "    result = \"\"\n",
    "    for py, ch in passage:\n",
    "        if((py.startswith(\"z\") or py.startswith(\"c\") or py.startswith(\"s\"))\n",
    "          and not(py.startswith(\"zh\") or py.startswith(\"ch\") or py.startswith(\"sh\"))):\n",
    "            result += formatmd(ch, 'blue')\n",
    "        else:\n",
    "            result += ch\n",
    "            \n",
    "    display(Markdown(result)) \n",
    "            \n",
    "highlight_zcs_in_passage(passages[passage_no-1])\n"
   ]
  },
  {
   "cell_type": "markdown",
   "metadata": {},
   "source": [
    "### 翹舌音"
   ]
  },
  {
   "cell_type": "code",
   "execution_count": 150,
   "metadata": {},
   "outputs": [
    {
     "data": {
      "text/markdown": [
       "我<span style='color:blue'>常</span><span style='color:blue'>常</span>遺憾我家門前那塊<span style='color:blue'>醜</span><span style='color:blue'>石</span>，它黑黝黝地臥在那裏，牛<span style='color:blue'>似</span>的模樣；<span style='color:blue'>誰</span>也不<span style='color:blue'>知</span>道<span style='color:blue'>是</span><span style='color:blue'>什</span>麼<span style='color:blue'>時</span>候留在<span style='color:blue'>這</span>裏的，<span style='color:blue'>誰</span>也不去理會它。<span style='color:blue'>只</span><span style='color:blue'>是</span>麥<span style='color:blue'>收</span><span style='color:blue'>時</span>節，門前攤了麥子，奶奶總<span style='color:blue'>是</span><span style='color:blue'>說</span>：<span style='color:blue'>這</span>塊<span style='color:blue'>醜</span><span style='color:blue'>石</span>，多<span style='color:blue'>佔</span>地面呀，<span style='color:blue'>抽</span>空把它搬走吧。它不像漢白玉那樣的細膩，可以刻字雕花，也不像大青<span style='color:blue'>石</span>那樣的光滑，可以供來浣<span style='color:blue'>紗</span><span style='color:blue'>捶</span>布。它靜靜地臥在那裏，院邊的槐陰沒有庇覆它，花兒也不再在它<span style='color:blue'>身</span>邊<span style='color:blue'>生</span><span style='color:blue'>長</span>。荒草便繁衍<span style='color:blue'>出</span>來，<span style='color:blue'>枝</span>蔓<span style='color:blue'>上</span>下，慢慢地，它竟銹<span style='color:blue'>上</span>了綠苔、黑斑。我們<span style='color:blue'>這</span>些做孩子的，也討厭起它來，曾合夥要搬走它，但力氣又不足；雖<span style='color:blue'>時</span><span style='color:blue'>時</span><span style='color:blue'>咒</span>罵它，嫌棄它，也無可奈何，<span style='color:blue'>只</span>好任它留在那裏了。<span style='color:blue'>終</span>有一日，村子裏來了一個天文學家。他在我家門前路過，突然發現了<span style='color:blue'>這</span>塊<span style='color:blue'>石</span>頭，眼光立即就拉<span style='color:blue'>直</span>了。他再沒有離開，就<span style='color:blue'>住</span>了下來；以後又來了好些人，都<span style='color:blue'>說</span><span style='color:blue'>這</span><span style='color:blue'>是</span>一塊隕<span style='color:blue'>石</span>，從天<span style='color:blue'>上</span>落下來已經有二三百年了，<span style='color:blue'>是</span>一件了不起的東西。不久便來了<span style='color:blue'>車</span>，小心翼翼地將它運走了。<span style='color:blue'>這</span><span style='color:blue'>使</span>我們都很驚奇，<span style='color:blue'>這</span>又怪又<span style='color:blue'>醜</span>的<span style='color:blue'>石</span>頭，原來<span style='color:blue'>是</span>天<span style='color:blue'>上</span>的啊！它補過天，在天<span style='color:blue'>上</span>發過熱、<span style='color:blue'>閃</span>過光，我們的先祖或許仰望過它，它給了他們光明、向往、<span style='color:blue'>憧</span>憬；而它落下來了，在污土裏，荒草裏，一躺就//<span style='color:blue'>是</span>幾百年了！我感到自己的無<span style='color:blue'>知</span>，也感到了<span style='color:blue'>醜</span><span style='color:blue'>石</span>的偉大，我<span style='color:blue'>甚</span><span style='color:blue'>至</span>怨恨它<span style='color:blue'>這</span>麼多年竟會默默地忍<span style='color:blue'>受</span><span style='color:blue'>着</span><span style='color:blue'>這</span>一切！而我又立即<span style='color:blue'>深</span><span style='color:blue'>深</span>地感到它那<span style='color:blue'>種</span>不屈於誤解、寂寞的<span style='color:blue'>生</span>存的偉大。"
      ],
      "text/plain": [
       "<IPython.core.display.Markdown object>"
      ]
     },
     "metadata": {},
     "output_type": "display_data"
    }
   ],
   "source": [
    "def zhchsh_in_passage(passage): \n",
    "    for py, ch in passage:\n",
    "        if py.startswith(\"zh\") or py.startswith(\"ch\") or py.startswith(\"sh\"):\n",
    "            print(ch, py)\n",
    "            \n",
    "#zhchsh_in_passage(passages[passage_no-1])\n",
    "\n",
    "def highlight_zhchsh_in_passage(passage):\n",
    "    result = \"\"\n",
    "    for py, ch in passage:\n",
    "        if py.startswith(\"zh\") or py.startswith(\"ch\") or py.startswith(\"sh\"):\n",
    "            result += formatmd(ch, 'blue')\n",
    "        else:\n",
    "            result += ch\n",
    "            \n",
    "    display(Markdown(result)) \n",
    "            \n",
    "highlight_zhchsh_in_passage(passages[passage_no-1])"
   ]
  },
  {
   "cell_type": "code",
   "execution_count": 174,
   "metadata": {},
   "outputs": [
    {
     "data": {
      "text/markdown": [
       "我<span style='color:green'>常</span><span style='color:green'>常</span>遺憾我家門前那塊<span style='color:green'>醜</span><span style='color:green'>石</span>，它黑黝黝地臥<span style='color:blue'>在</span>那裏，牛<span style='color:green'>似</span>的模樣；<span style='color:green'>誰</span>也不<span style='color:green'>知</span>道<span style='color:green'>是</span><span style='color:green'>什</span>麼<span style='color:green'>時</span>候留<span style='color:blue'>在</span><span style='color:green'>這</span>裏的，<span style='color:green'>誰</span>也不去理會它。<span style='color:green'>只</span><span style='color:green'>是</span>麥<span style='color:green'>收</span><span style='color:green'>時</span>節，門前攤了麥<span style='color:blue'>子</span>，奶奶<span style='color:blue'>總</span><span style='color:green'>是</span><span style='color:green'>說</span>：<span style='color:green'>這</span>塊<span style='color:green'>醜</span><span style='color:green'>石</span>，多<span style='color:green'>佔</span>地面呀，<span style='color:green'>抽</span>空把它搬<span style='color:blue'>走</span>吧。它不像漢白玉那樣的細膩，可以刻<span style='color:blue'>字</span>雕花，也不像大青<span style='color:green'>石</span>那樣的光滑，可以供來浣<span style='color:green'>紗</span><span style='color:green'>捶</span>布。它靜靜地臥<span style='color:blue'>在</span>那裏，院邊的槐陰沒有庇覆它，花兒也不<span style='color:blue'>再</span><span style='color:blue'>在</span>它<span style='color:green'>身</span>邊<span style='color:green'>生</span><span style='color:green'>長</span>。荒<span style='color:blue'>草</span>便繁衍<span style='color:green'>出</span>來，<span style='color:green'>枝</span>蔓<span style='color:green'>上</span>下，慢慢地，它竟銹<span style='color:green'>上</span>了綠苔、黑斑。我們<span style='color:green'>這</span>些<span style='color:blue'>做</span>孩<span style='color:blue'>子</span>的，也討厭起它來，<span style='color:blue'>曾</span>合夥要搬<span style='color:blue'>走</span>它，但力氣又不<span style='color:blue'>足</span>；<span style='color:blue'>雖</span><span style='color:green'>時</span><span style='color:green'>時</span><span style='color:green'>咒</span>罵它，嫌棄它，也無可奈何，<span style='color:green'>只</span>好任它留<span style='color:blue'>在</span>那裏了。<span style='color:green'>終</span>有一日，<span style='color:blue'>村</span><span style='color:blue'>子</span>裏來了一個天文學家。他<span style='color:blue'>在</span>我家門前路過，突然發現了<span style='color:green'>這</span>塊<span style='color:green'>石</span>頭，眼光立即就拉<span style='color:green'>直</span>了。他<span style='color:blue'>再</span>沒有離開，就<span style='color:green'>住</span>了下來；以後又來了好些人，都<span style='color:green'>說</span><span style='color:green'>這</span><span style='color:green'>是</span>一塊隕<span style='color:green'>石</span>，<span style='color:blue'>從</span>天<span style='color:green'>上</span>落下來已經有二<span style='color:blue'>三</span>百年了，<span style='color:green'>是</span>一件了不起的東西。不久便來了<span style='color:green'>車</span>，小心翼翼地將它運<span style='color:blue'>走</span>了。<span style='color:green'>這</span><span style='color:green'>使</span>我們都很驚奇，<span style='color:green'>這</span>又怪又<span style='color:green'>醜</span>的<span style='color:green'>石</span>頭，原來<span style='color:green'>是</span>天<span style='color:green'>上</span>的啊！它補過天，<span style='color:blue'>在</span>天<span style='color:green'>上</span>發過熱、<span style='color:green'>閃</span>過光，我們的先<span style='color:blue'>祖</span>或許仰望過它，它給了他們光明、向往、<span style='color:green'>憧</span>憬；而它落下來了，<span style='color:blue'>在</span>污土裏，荒<span style='color:blue'>草</span>裏，一躺就//<span style='color:green'>是</span>幾百年了！我感到<span style='color:blue'>自</span>己的無<span style='color:green'>知</span>，也感到了<span style='color:green'>醜</span><span style='color:green'>石</span>的偉大，我<span style='color:green'>甚</span><span style='color:green'>至</span>怨恨它<span style='color:green'>這</span>麼多年竟會默默地忍<span style='color:green'>受</span><span style='color:green'>着</span><span style='color:green'>這</span>一切！而我又立即<span style='color:green'>深</span><span style='color:green'>深</span>地感到它那<span style='color:green'>種</span>不屈於誤解、寂寞的<span style='color:green'>生</span><span style='color:blue'>存</span>的偉大。"
      ],
      "text/plain": [
       "<IPython.core.display.Markdown object>"
      ]
     },
     "metadata": {},
     "output_type": "display_data"
    }
   ],
   "source": [
    "def highlight_zcs_zhchsh_in_passage(passage):\n",
    "    result = \"\"\n",
    "    for py, ch in passage:\n",
    "        if ((py.startswith(\"z\") or py.startswith(\"c\") or py.startswith(\"s\"))\n",
    "          and not(py.startswith(\"zh\") or py.startswith(\"ch\") or py.startswith(\"sh\"))):\n",
    "            result += formatmd(ch, 'blue')\n",
    "        elif py.startswith(\"zh\") or py.startswith(\"ch\") or py.startswith(\"sh\"):\n",
    "            result += formatmd(ch, 'green')\n",
    "        else:\n",
    "            result += ch\n",
    "            \n",
    "    display(Markdown(result)) \n",
    "            \n",
    "highlight_zcs_zhchsh_in_passage(passages[passage_no-1])"
   ]
  },
  {
   "cell_type": "markdown",
   "metadata": {},
   "source": [
    "### 多音字"
   ]
  },
  {
   "cell_type": "code",
   "execution_count": 153,
   "metadata": {},
   "outputs": [
    {
     "data": {
      "text/markdown": [
       "我常常遺憾我家門前那塊醜<span style='color:red'>石</span>它黑黝黝地在那裏牛<span style='color:red'>似</span><span style='color:red'>的</span><span style='color:red'>模</span>樣誰也不知道是<span style='color:red'>什</span>麼時候留在這裏<span style='color:red'>的</span>誰也不去理<span style='color:red'>會</span>它<span style='color:red'>只</span>是麥收時節門前攤了麥子奶奶總是說這塊醜<span style='color:red'>石</span>多地面抽<span style='color:red'>空</span><span style='color:red'>把</span>它搬走吧它不像漢白玉那樣<span style='color:red'>的</span>細膩可以刻字雕花也不像<span style='color:red'>大</span>青<span style='color:red'>石</span>那樣<span style='color:red'>的</span>光滑可以<span style='color:red'>供</span>來紗捶布它靜靜地在那裏院邊<span style='color:red'>的</span>槐陰<span style='color:red'>沒</span>有庇覆它花兒也不再在它身邊生<span style='color:red'>長</span>荒草<span style='color:red'>便</span>繁衍出來枝<span style='color:red'>蔓</span><span style='color:red'>上</span>下慢慢地它竟銹<span style='color:red'>上</span>了<span style='color:red'>綠</span><span style='color:red'>苔</span>黑斑我們這些做孩子<span style='color:red'>的</span>也討厭起它來<span style='color:red'>曾</span>合夥<span style='color:red'>要</span>搬走它但力氣又不足雖時時咒罵它嫌棄它也無可奈何<span style='color:red'>只</span><span style='color:red'>好</span><span style='color:red'>任</span>它留在那裏了終有一日村子裏來了一個天文學家他在我家門前路過突然<span style='color:red'>發</span>現了這塊<span style='color:red'>石</span>頭眼光立即就<span style='color:red'>拉</span>直了他再<span style='color:red'>沒</span>有離開就住了下來以後又來了<span style='color:red'>好</span>些人<span style='color:red'>都</span>說這是一塊隕<span style='color:red'>石</span>從天<span style='color:red'>上</span><span style='color:red'>落</span>下來已經有二三百年了是一件了不起<span style='color:red'>的</span>東西不久<span style='color:red'>便</span>來了<span style='color:red'>車</span>小心翼翼地<span style='color:red'>將</span>它運走了這使我們<span style='color:red'>都</span>很驚奇這又怪又醜<span style='color:red'>的</span><span style='color:red'>石</span>頭原來是天<span style='color:red'>上</span><span style='color:red'>的</span>它補過天在天<span style='color:red'>上</span><span style='color:red'>發</span>過熱閃過光我們<span style='color:red'>的</span>先祖或許仰望過它它<span style='color:red'>給</span>了他們光明向往憧憬而它<span style='color:red'>落</span>下來了在污土裏荒草裏一躺就是<span style='color:red'>幾</span>百年了我感到自己<span style='color:red'>的</span>無知也感到了醜<span style='color:red'>石</span><span style='color:red'>的</span>偉<span style='color:red'>大</span>我甚至怨恨它這麼多年竟<span style='color:red'>會</span>默默地忍受這一<span style='color:red'>切</span>而我又立即深深地感到它那<span style='color:red'>種</span>不屈於誤<span style='color:red'>解</span>寂寞<span style='color:red'>的</span>生存<span style='color:red'>的</span>偉<span style='color:red'>大</span>"
      ],
      "text/plain": [
       "<IPython.core.display.Markdown object>"
      ]
     },
     "metadata": {},
     "output_type": "display_data"
    }
   ],
   "source": [
    "def multiple_sound_in_passage(passage):\n",
    "    for py, ch in passage:\n",
    "        if ch in char_dict:\n",
    "            p_dict = char_dict[ch]\n",
    "            if len(p_dict.keys()) > 1:\n",
    "                print(ch, py, list(p_dict.keys()))\n",
    "\n",
    "# multiple_sound_in_passage(passages[passage_no-1])\n",
    "\n",
    "def highlight_multiple_sound_in_passage(passage):\n",
    "    result = \"\"\n",
    "    for py, ch in passage:\n",
    "        if ch in char_dict:\n",
    "            p_dict = char_dict[ch]\n",
    "            valid_cnt = 0\n",
    "            for key in p_dict.keys():\n",
    "                if character_tone(key) >0:\n",
    "                    valid_cnt = valid_cnt+1\n",
    "            \n",
    "            if valid_cnt > 1:\n",
    "                result += formatmd(ch, 'red')\n",
    "            else:\n",
    "                result += ch\n",
    "            \n",
    "    display(Markdown(result)) \n",
    "            \n",
    "highlight_multiple_sound_in_passage(passages[passage_no-1])"
   ]
  },
  {
   "cell_type": "code",
   "execution_count": 158,
   "metadata": {},
   "outputs": [
    {
     "data": {
      "text/plain": [
       "{'qiè': [[('密', 'mì'), ('切', 'qiè')],\n",
       "  [('迫', 'pò'), ('切', 'qiè')],\n",
       "  [('切', 'qiè'), ('實', 'shí')],\n",
       "  [('親', 'qīn'), ('切', 'qiè')],\n",
       "  [('確', 'què'), ('切', 'qiè')],\n",
       "  [('一', 'yī'), ('切', 'qiè')],\n",
       "  [('懇', 'kěn'), ('切', 'qiè')],\n",
       "  [('切', 'qiè'), ('合', 'hé')],\n",
       "  [('切', 'qiè'), ('忌', 'jì')],\n",
       "  [('切', 'qiè'), ('身', 'shēn')],\n",
       "  [('熱', 'rè'), ('切', 'qiè')],\n",
       "  [('深', 'shēn'), ('切', 'qiè')],\n",
       "  [('殷', 'yīn'), ('切', 'qiè')],\n",
       "  [('真', 'zhēn'), ('切', 'qiè')]],\n",
       " 'qiē': [[('切', 'qiē')],\n",
       "  [('切', 'qiē')],\n",
       "  [('關', 'guān'), ('切', 'qiē')],\n",
       "  [('急', 'jí'), ('切', 'qiē')],\n",
       "  [('切', 'qiē'), ('除', 'chú')],\n",
       "  [('切', 'qiē'), ('磋', 'cuō')],\n",
       "  [('切', 'qiē'), ('點', 'diǎn')],\n",
       "  [('切', 'qiē'), ('割', 'gē')],\n",
       "  [('切', 'qiē'), ('口', 'kǒu')],\n",
       "  [('切', 'qiē'), ('麵', 'miàn')],\n",
       "  [('切', 'qiē'), ('片', 'piàn')],\n",
       "  [('切', 'qiē'), ('綫', 'xiàn')],\n",
       "  [('貼', 'tiē'), ('切', 'qiē')],\n",
       "  [('心', 'xīn'), ('切', 'qiē')]]}"
      ]
     },
     "execution_count": 158,
     "metadata": {},
     "output_type": "execute_result"
    }
   ],
   "source": [
    "char_dict['切']"
   ]
  },
  {
   "cell_type": "markdown",
   "metadata": {},
   "source": [
    "### 兒化音"
   ]
  },
  {
   "cell_type": "code",
   "execution_count": 161,
   "metadata": {},
   "outputs": [
    {
     "data": {
      "text/markdown": [
       "我常常遺憾我家門前那塊醜石，它黑黝黝地臥在那裏，牛似的模樣；誰也不知道是什麼時候留在這裏的，誰也不去理會它。只是麥收時節，門前攤了麥子，奶奶總是說：這塊醜石，多佔地面呀，抽空把它搬走吧。它不像漢白玉那樣的細膩，可以刻字雕花，也不像大青石那樣的光滑，可以供來浣紗捶布。它靜靜地臥在那裏，院邊的槐陰沒有庇覆它，花<span style='color:red'>兒</span>也不再在它身邊生長。荒草便繁衍出來，枝蔓上下，慢慢地，它竟銹上了綠苔、黑斑。我們這些做孩子的，也討厭起它來，曾合夥要搬走它，但力氣又不足；雖時時咒罵它，嫌棄它，也無可奈何，只好任它留在那裏了。終有一日，村子裏來了一個天文學家。他在我家門前路過，突然發現了這塊石頭，眼光立即就拉直了。他再沒有離開，就住了下來；以後又來了好些人，都說這是一塊隕石，從天上落下來已經有<span style='color:red'>二</span>三百年了，是一件了不起的東西。不久便來了車，小心翼翼地將它運走了。這使我們都很驚奇，這又怪又醜的石頭，原來是天上的啊！它補過天，在天上發過熱、閃過光，我們的先祖或許仰望過它，它給了他們光明、向往、憧憬；<span style='color:red'>而</span>它落下來了，在污土裏，荒草裏，一躺就//是幾百年了！我感到自己的無知，也感到了醜石的偉大，我甚至怨恨它這麼多年竟會默默地忍受着這一切！<span style='color:red'>而</span>我又立即深深地感到它那種不屈於誤解、寂寞的生存的偉大。"
      ],
      "text/plain": [
       "<IPython.core.display.Markdown object>"
      ]
     },
     "metadata": {},
     "output_type": "display_data"
    }
   ],
   "source": [
    "def r_in_passage(passage): \n",
    "    for py, ch in passage:\n",
    "        if py.endswith(\"r\"):\n",
    "            print(ch, py)\n",
    "            \n",
    "#r_in_passage(passages[passage_no-1])\n",
    "\n",
    "def highlight_r_in_passage(passage):\n",
    "    result = \"\"\n",
    "    for py, ch in passage:\n",
    "        if py.endswith(\"r\"):\n",
    "            result += formatmd(ch, 'red')\n",
    "        else:\n",
    "            result += ch\n",
    "            \n",
    "    display(Markdown(result)) \n",
    "            \n",
    "highlight_r_in_passage(passages[passage_no-1])"
   ]
  },
  {
   "cell_type": "markdown",
   "metadata": {},
   "source": [
    "### 前鼻音"
   ]
  },
  {
   "cell_type": "code",
   "execution_count": 166,
   "metadata": {},
   "outputs": [
    {
     "data": {
      "text/markdown": [
       "我常常遺<span style='color:red'>憾</span>我家<span style='color:red'>門</span><span style='color:red'>前</span>那塊醜石，它黑黝黝地臥在那裏，牛似的模樣；誰也不知道是<span style='color:red'>什</span>麼時候留在這裏的，誰也不去理會它。只是麥收時節，<span style='color:red'>門</span><span style='color:red'>前</span><span style='color:red'>攤</span>了麥子，奶奶總是說：這塊醜石，多<span style='color:red'>佔</span>地<span style='color:red'>面</span>呀，抽空把它<span style='color:red'>搬</span>走吧。它不像<span style='color:red'>漢</span>白玉那樣的細膩，可以刻字雕花，也不像大青石那樣的光滑，可以供來<span style='color:red'>浣</span>紗捶布。它靜靜地臥在那裏，<span style='color:red'>院</span><span style='color:red'>邊</span>的槐<span style='color:red'>陰</span>沒有庇覆它，花兒也不再在它<span style='color:red'>身</span><span style='color:red'>邊</span>生長。荒草<span style='color:red'>便</span><span style='color:red'>繁</span><span style='color:red'>衍</span>出來，枝<span style='color:red'>蔓</span>上下，<span style='color:red'>慢</span><span style='color:red'>慢</span>地，它竟銹上了綠苔、黑<span style='color:red'>斑</span>。我<span style='color:red'>們</span>這些做孩子的，也討<span style='color:red'>厭</span>起它來，曾合夥要<span style='color:red'>搬</span>走它，<span style='color:red'>但</span>力氣又不足；雖時時咒罵它，<span style='color:red'>嫌</span>棄它，也無可奈何，只好<span style='color:red'>任</span>它留在那裏了。終有一日，<span style='color:red'>村</span>子裏來了一個<span style='color:red'>天</span><span style='color:red'>文</span>學家。他在我家<span style='color:red'>門</span><span style='color:red'>前</span>路過，突<span style='color:red'>然</span>發<span style='color:red'>現</span>了這塊石頭，<span style='color:red'>眼</span>光立即就拉直了。他再沒有離開，就住了下來；以後又來了好些<span style='color:red'>人</span>，都說這是一塊<span style='color:red'>隕</span>石，從<span style='color:red'>天</span>上落下來已經有二<span style='color:red'>三</span>百<span style='color:red'>年</span>了，是一<span style='color:red'>件</span>了不起的東西。不久<span style='color:red'>便</span>來了車，小<span style='color:red'>心</span>翼翼地將它<span style='color:red'>運</span>走了。這使我<span style='color:red'>們</span>都<span style='color:red'>很</span>驚奇，這又怪又醜的石頭，<span style='color:red'>原</span>來是<span style='color:red'>天</span>上的啊！它補過<span style='color:red'>天</span>，在<span style='color:red'>天</span>上發過熱、<span style='color:red'>閃</span>過光，我<span style='color:red'>們</span>的<span style='color:red'>先</span>祖或許仰望過它，它給了他<span style='color:red'>們</span>光明、向往、憧憬；而它落下來了，在污土裏，荒草裏，一躺就//是幾百<span style='color:red'>年</span>了！我<span style='color:red'>感</span>到自己的無知，也<span style='color:red'>感</span>到了醜石的偉大，我<span style='color:red'>甚</span>至<span style='color:red'>怨</span><span style='color:red'>恨</span>它這麼多<span style='color:red'>年</span>竟會默默地<span style='color:red'>忍</span>受着這一切！而我又立即<span style='color:red'>深</span><span style='color:red'>深</span>地<span style='color:red'>感</span>到它那種不屈於誤解、寂寞的生<span style='color:red'>存</span>的偉大。"
      ],
      "text/plain": [
       "<IPython.core.display.Markdown object>"
      ]
     },
     "metadata": {},
     "output_type": "display_data"
    }
   ],
   "source": [
    "def n_in_passage(passage): \n",
    "    for py, ch in passage:\n",
    "        if py.endswith(\"n\"):\n",
    "            print(ch, py)\n",
    "            \n",
    "#n_in_passage(passages[passage_no-1])\n",
    "\n",
    "def highlight_n_in_passage(passage):\n",
    "    result = \"\"\n",
    "    for py, ch in passage:\n",
    "        if py.endswith(\"n\"):\n",
    "            result += formatmd(ch, 'red')\n",
    "        else:\n",
    "            result += ch\n",
    "            \n",
    "    display(Markdown(result)) \n",
    "            \n",
    "highlight_n_in_passage(passages[passage_no-1])"
   ]
  },
  {
   "cell_type": "markdown",
   "metadata": {},
   "source": [
    "### 後鼻音"
   ]
  },
  {
   "cell_type": "code",
   "execution_count": 165,
   "metadata": {},
   "outputs": [
    {
     "data": {
      "text/markdown": [
       "我<span style='color:red'>常</span><span style='color:red'>常</span>遺憾我家門前那塊醜石，它黑黝黝地臥在那裏，牛似的模<span style='color:red'>樣</span>；誰也不知道是什麼時候留在這裏的，誰也不去理會它。只是麥收時節，門前攤了麥子，奶奶<span style='color:red'>總</span>是說：這塊醜石，多佔地面呀，抽<span style='color:red'>空</span>把它搬走吧。它不<span style='color:red'>像</span>漢白玉那<span style='color:red'>樣</span>的細膩，可以刻字雕花，也不<span style='color:red'>像</span>大<span style='color:red'>青</span>石那<span style='color:red'>樣</span>的<span style='color:red'>光</span>滑，可以<span style='color:red'>供</span>來浣紗捶布。它<span style='color:red'>靜</span><span style='color:red'>靜</span>地臥在那裏，院邊的槐陰沒有庇覆它，花兒也不再在它身邊<span style='color:red'>生</span><span style='color:red'>長</span>。<span style='color:red'>荒</span>草便繁衍出來，枝蔓<span style='color:red'>上</span>下，慢慢地，它<span style='color:red'>竟</span>銹<span style='color:red'>上</span>了綠苔、黑斑。我們這些做孩子的，也討厭起它來，<span style='color:red'>曾</span>合夥要搬走它，但力氣又不足；雖時時咒罵它，嫌棄它，也無可奈何，只好任它留在那裏了。<span style='color:red'>終</span>有一日，村子裏來了一個天文學家。他在我家門前路過，突然發現了這塊石頭，眼<span style='color:red'>光</span>立即就拉直了。他再沒有離開，就住了下來；以後又來了好些人，都說這是一塊隕石，<span style='color:red'>從</span>天<span style='color:red'>上</span>落下來已<span style='color:red'>經</span>有二三百年了，是一件了不起的<span style='color:red'>東</span>西。不久便來了車，小心翼翼地<span style='color:red'>將</span>它運走了。這使我們都很<span style='color:red'>驚</span>奇，這又怪又醜的石頭，原來是天<span style='color:red'>上</span>的啊！它補過天，在天<span style='color:red'>上</span>發過熱、閃過<span style='color:red'>光</span>，我們的先祖或許<span style='color:red'>仰</span><span style='color:red'>望</span>過它，它給了他們<span style='color:red'>光</span><span style='color:red'>明</span>、<span style='color:red'>向</span><span style='color:red'>往</span>、<span style='color:red'>憧</span><span style='color:red'>憬</span>；而它落下來了，在污土裏，<span style='color:red'>荒</span>草裏，一<span style='color:red'>躺</span>就//是幾百年了！我感到自己的無知，也感到了醜石的偉大，我甚至怨恨它這麼多年<span style='color:red'>竟</span>會默默地忍受着這一切！而我又立即深深地感到它那<span style='color:red'>種</span>不屈於誤解、寂寞的<span style='color:red'>生</span>存的偉大。"
      ],
      "text/plain": [
       "<IPython.core.display.Markdown object>"
      ]
     },
     "metadata": {},
     "output_type": "display_data"
    }
   ],
   "source": [
    "def ng_in_passage(passage): \n",
    "    for py, ch in passage:\n",
    "        if py.endswith(\"ng\"):\n",
    "            print(ch, py)\n",
    "            \n",
    "#ng_in_passage(passages[passage_no-1])\n",
    "\n",
    "def highlight_ng_in_passage(passage):\n",
    "    result = \"\"\n",
    "    for py, ch in passage:\n",
    "        if py.endswith(\"ng\"):\n",
    "            result += formatmd(ch, 'red')\n",
    "        else:\n",
    "            result += ch\n",
    "            \n",
    "    display(Markdown(result)) \n",
    "            \n",
    "highlight_ng_in_passage(passages[passage_no-1])"
   ]
  },
  {
   "cell_type": "code",
   "execution_count": 176,
   "metadata": {},
   "outputs": [
    {
     "data": {
      "text/markdown": [
       "我<span style='color:blue'>常</span><span style='color:blue'>常</span>遺<span style='color:green'>憾</span>我家<span style='color:green'>門</span><span style='color:green'>前</span>那塊醜石，它黑黝黝地臥在那裏，牛似的模<span style='color:blue'>樣</span>；誰也不知道是<span style='color:green'>什</span>麼時候留在這裏的，誰也不去理會它。只是麥收時節，<span style='color:green'>門</span><span style='color:green'>前</span><span style='color:green'>攤</span>了麥子，奶奶<span style='color:blue'>總</span>是說：這塊醜石，多<span style='color:green'>佔</span>地<span style='color:green'>面</span>呀，抽<span style='color:blue'>空</span>把它<span style='color:green'>搬</span>走吧。它不<span style='color:blue'>像</span><span style='color:green'>漢</span>白玉那<span style='color:blue'>樣</span>的細膩，可以刻字雕花，也不<span style='color:blue'>像</span>大<span style='color:blue'>青</span>石那<span style='color:blue'>樣</span>的<span style='color:blue'>光</span>滑，可以<span style='color:blue'>供</span>來<span style='color:green'>浣</span>紗捶布。它<span style='color:blue'>靜</span><span style='color:blue'>靜</span>地臥在那裏，<span style='color:green'>院</span><span style='color:green'>邊</span>的槐<span style='color:green'>陰</span>沒有庇覆它，花兒也不再在它<span style='color:green'>身</span><span style='color:green'>邊</span><span style='color:blue'>生</span><span style='color:blue'>長</span>。<span style='color:blue'>荒</span>草<span style='color:green'>便</span><span style='color:green'>繁</span><span style='color:green'>衍</span>出來，枝<span style='color:green'>蔓</span><span style='color:blue'>上</span>下，<span style='color:green'>慢</span><span style='color:green'>慢</span>地，它<span style='color:blue'>竟</span>銹<span style='color:blue'>上</span>了綠苔、黑<span style='color:green'>斑</span>。我<span style='color:green'>們</span>這些做孩子的，也討<span style='color:green'>厭</span>起它來，<span style='color:blue'>曾</span>合夥要<span style='color:green'>搬</span>走它，<span style='color:green'>但</span>力氣又不足；雖時時咒罵它，<span style='color:green'>嫌</span>棄它，也無可奈何，只好<span style='color:green'>任</span>它留在那裏了。<span style='color:blue'>終</span>有一日，<span style='color:green'>村</span>子裏來了一個<span style='color:green'>天</span><span style='color:green'>文</span>學家。他在我家<span style='color:green'>門</span><span style='color:green'>前</span>路過，突<span style='color:green'>然</span>發<span style='color:green'>現</span>了這塊石頭，<span style='color:green'>眼</span><span style='color:blue'>光</span>立即就拉直了。他再沒有離開，就住了下來；以後又來了好些<span style='color:green'>人</span>，都說這是一塊<span style='color:green'>隕</span>石，<span style='color:blue'>從</span><span style='color:green'>天</span><span style='color:blue'>上</span>落下來已<span style='color:blue'>經</span>有二<span style='color:green'>三</span>百<span style='color:green'>年</span>了，是一<span style='color:green'>件</span>了不起的<span style='color:blue'>東</span>西。不久<span style='color:green'>便</span>來了車，小<span style='color:green'>心</span>翼翼地<span style='color:blue'>將</span>它<span style='color:green'>運</span>走了。這使我<span style='color:green'>們</span>都<span style='color:green'>很</span><span style='color:blue'>驚</span>奇，這又怪又醜的石頭，<span style='color:green'>原</span>來是<span style='color:green'>天</span><span style='color:blue'>上</span>的啊！它補過<span style='color:green'>天</span>，在<span style='color:green'>天</span><span style='color:blue'>上</span>發過熱、<span style='color:green'>閃</span>過<span style='color:blue'>光</span>，我<span style='color:green'>們</span>的<span style='color:green'>先</span>祖或許<span style='color:blue'>仰</span><span style='color:blue'>望</span>過它，它給了他<span style='color:green'>們</span><span style='color:blue'>光</span><span style='color:blue'>明</span>、<span style='color:blue'>向</span><span style='color:blue'>往</span>、<span style='color:blue'>憧</span><span style='color:blue'>憬</span>；而它落下來了，在污土裏，<span style='color:blue'>荒</span>草裏，一<span style='color:blue'>躺</span>就//是幾百<span style='color:green'>年</span>了！我<span style='color:green'>感</span>到自己的無知，也<span style='color:green'>感</span>到了醜石的偉大，我<span style='color:green'>甚</span>至<span style='color:green'>怨</span><span style='color:green'>恨</span>它這麼多<span style='color:green'>年</span><span style='color:blue'>竟</span>會默默地<span style='color:green'>忍</span>受着這一切！而我又立即<span style='color:green'>深</span><span style='color:green'>深</span>地<span style='color:green'>感</span>到它那<span style='color:blue'>種</span>不屈於誤解、寂寞的<span style='color:blue'>生</span><span style='color:green'>存</span>的偉大。"
      ],
      "text/plain": [
       "<IPython.core.display.Markdown object>"
      ]
     },
     "metadata": {},
     "output_type": "display_data"
    }
   ],
   "source": [
    "def highlight_g_ng_in_passage(passage):\n",
    "    result = \"\"\n",
    "    for py, ch in passage:\n",
    "        if py.endswith(\"n\"):\n",
    "            result += formatmd(ch, 'green')\n",
    "        elif py.endswith(\"ng\"):\n",
    "            result += formatmd(ch, 'blue')\n",
    "        else:\n",
    "            result += ch\n",
    "            \n",
    "    display(Markdown(result)) \n",
    "            \n",
    "highlight_g_ng_in_passage(passages[passage_no-1])"
   ]
  },
  {
   "cell_type": "markdown",
   "metadata": {},
   "source": [
    "### n/l 音分別"
   ]
  },
  {
   "cell_type": "code",
   "execution_count": 178,
   "metadata": {},
   "outputs": [
    {
     "data": {
      "text/markdown": [
       "我常常遺憾我家門前<span style='color:green'>那</span>塊醜石，它黑黝黝地臥在<span style='color:green'>那</span><span style='color:blue'>裏</span>，<span style='color:green'>牛</span>似的模樣；誰也不知道是什麼時候<span style='color:blue'>留</span>在這<span style='color:blue'>裏</span>的，誰也不去<span style='color:blue'>理</span>會它。只是麥收時節，門前攤<span style='color:blue'>了</span>麥子，<span style='color:green'>奶</span><span style='color:green'>奶</span>總是說：這塊醜石，多佔地面呀，抽空把它搬走吧。它不像漢白玉<span style='color:green'>那</span>樣的細<span style='color:green'>膩</span>，可以刻字雕花，也不像大青石<span style='color:green'>那</span>樣的光滑，可以供<span style='color:blue'>來</span>浣紗捶布。它靜靜地臥在<span style='color:green'>那</span><span style='color:blue'>裏</span>，院邊的槐陰沒有庇覆它，花兒也不再在它身邊生長。荒草便繁衍出<span style='color:blue'>來</span>，枝蔓上下，慢慢地，它竟銹上<span style='color:blue'>了</span><span style='color:blue'>綠</span>苔、黑斑。我們這些做孩子的，也討厭起它<span style='color:blue'>來</span>，曾合夥要搬走它，但<span style='color:blue'>力</span>氣又不足；雖時時咒罵它，嫌棄它，也無可<span style='color:green'>奈</span>何，只好任它<span style='color:blue'>留</span>在<span style='color:green'>那</span><span style='color:blue'>裏</span><span style='color:blue'>了</span>。終有一日，村子<span style='color:blue'>裏</span><span style='color:blue'>來</span><span style='color:blue'>了</span>一個天文學家。他在我家門前<span style='color:blue'>路</span>過，突然發現<span style='color:blue'>了</span>這塊石頭，眼光<span style='color:blue'>立</span>即就<span style='color:blue'>拉</span>直<span style='color:blue'>了</span>。他再沒有<span style='color:blue'>離</span>開，就住<span style='color:blue'>了</span>下<span style='color:blue'>來</span>；以後又<span style='color:blue'>來</span><span style='color:blue'>了</span>好些人，都說這是一塊隕石，從天上<span style='color:blue'>落</span>下<span style='color:blue'>來</span>已經有二三百<span style='color:green'>年</span><span style='color:blue'>了</span>，是一件<span style='color:blue'>了</span>不起的東西。不久便<span style='color:blue'>來</span><span style='color:blue'>了</span>車，小心翼翼地將它運走<span style='color:blue'>了</span>。這使我們都很驚奇，這又怪又醜的石頭，原<span style='color:blue'>來</span>是天上的啊！它補過天，在天上發過熱、閃過光，我們的先祖或許仰望過它，它給<span style='color:blue'>了</span>他們光明、向往、憧憬；而它<span style='color:blue'>落</span>下<span style='color:blue'>來</span><span style='color:blue'>了</span>，在污土<span style='color:blue'>裏</span>，荒草<span style='color:blue'>裏</span>，一躺就//是幾百<span style='color:green'>年</span><span style='color:blue'>了</span>！我感到自己的無知，也感到<span style='color:blue'>了</span>醜石的偉大，我甚至怨恨它這麼多<span style='color:green'>年</span>竟會默默地忍受着這一切！而我又<span style='color:blue'>立</span>即深深地感到它<span style='color:green'>那</span>種不屈於誤解、寂寞的生存的偉大。"
      ],
      "text/plain": [
       "<IPython.core.display.Markdown object>"
      ]
     },
     "metadata": {},
     "output_type": "display_data"
    }
   ],
   "source": [
    "def highlight_n_l_in_passage(passage):\n",
    "    result = \"\"\n",
    "    for py, ch in passage:\n",
    "        if py.startswith(\"n\"):\n",
    "            result += formatmd(ch, 'green')\n",
    "        elif py.startswith(\"l\"):\n",
    "            result += formatmd(ch, 'blue')\n",
    "        else:\n",
    "            result += ch\n",
    "            \n",
    "    display(Markdown(result)) \n",
    "            \n",
    "highlight_n_l_in_passage(passages[passage_no-1])"
   ]
  },
  {
   "cell_type": "markdown",
   "metadata": {},
   "source": [
    "### 統計\n",
    "\n",
    "* 平舌音字數:翹舌音字數\n",
    "* 前鼻音字數:後鼻音字數\n",
    "* 多音字字數\n",
    "* 一不變調詞數\n",
    "* 去聲變調詞數\n",
    "* 兒化音詞數"
   ]
  },
  {
   "cell_type": "code",
   "execution_count": 181,
   "metadata": {},
   "outputs": [
    {
     "name": "stdout",
     "output_type": "stream",
     "text": [
      "平舌音字數:翹舌音字數 = 30 : 74\n",
      "前鼻音字數:後鼻音字數 = 69 : 45\n",
      "N 音字數: L 音字數 = 15 : 45\n"
     ]
    }
   ],
   "source": [
    "def stats_passage(passage):\n",
    "    zcs_list = []\n",
    "    zhchsh_list = []\n",
    "    n_list = []\n",
    "    ng_list = []\n",
    "    n_list2 = []\n",
    "    l_list = []\n",
    "    \n",
    "    for py, ch in passage:\n",
    "        if ((py.startswith(\"z\") or py.startswith(\"c\") or py.startswith(\"s\"))\n",
    "              and not(py.startswith(\"zh\") or py.startswith(\"ch\") or py.startswith(\"sh\"))):\n",
    "            zcs_list.append(ch)\n",
    "        if py.startswith(\"zh\") or py.startswith(\"ch\") or py.startswith(\"sh\"):\n",
    "            zhchsh_list.append(ch)\n",
    "        if py.endswith(\"n\"):\n",
    "            n_list.append(ch)\n",
    "        if py.endswith(\"ng\"):\n",
    "            ng_list.append(ch)\n",
    "        if py.startswith(\"n\"):\n",
    "            n_list2.append(ch)\n",
    "        if py.startswith(\"l\"):\n",
    "            l_list.append(ch)\n",
    "        \n",
    "    print(\"平舌音字數:翹舌音字數 = %d : %d\" % (len(zcs_list), len(zhchsh_list))) \n",
    "    print(\"前鼻音字數:後鼻音字數 = %d : %d\" % (len(n_list), len(ng_list))) \n",
    "    print(\"N 音字數: L 音字數 = %d : %d\" % (len(n_list2), len(l_list))) \n",
    "    \n",
    "stats_passage(passages[passage_no-1])"
   ]
  },
  {
   "cell_type": "code",
   "execution_count": null,
   "metadata": {
    "collapsed": true
   },
   "outputs": [],
   "source": []
  }
 ],
 "metadata": {
  "kernelspec": {
   "display_name": "Python 3",
   "language": "python",
   "name": "python3"
  },
  "language_info": {
   "codemirror_mode": {
    "name": "ipython",
    "version": 3
   },
   "file_extension": ".py",
   "mimetype": "text/x-python",
   "name": "python",
   "nbconvert_exporter": "python",
   "pygments_lexer": "ipython3",
   "version": "3.6.2"
  }
 },
 "nbformat": 4,
 "nbformat_minor": 2
}
